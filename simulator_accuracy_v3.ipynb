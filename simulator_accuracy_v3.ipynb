{
 "cells": [
  {
   "cell_type": "code",
   "execution_count": 141,
   "metadata": {},
   "outputs": [],
   "source": [
    "from scipy.stats import ks_2samp, iqr\n",
    "from scipy.stats import ttest_ind\n",
    "from IPython.display import Markdown, display\n",
    "import pandas as pd\n",
    "import numpy as np\n",
    "import os\n",
    "import matplotlib.pyplot as plt\n",
    "import seaborn as sns\n",
    "import time\n",
    "from datetime import datetime\n",
    "%matplotlib inline\n",
    "pd.set_option('display.max_columns', 500)\n",
    "pd.set_option('display.width', 1000)"
   ]
  },
  {
   "cell_type": "code",
   "execution_count": 142,
   "metadata": {},
   "outputs": [],
   "source": [
    "# set paths\n",
    "data_dir = \"./\"\n",
    "# files extracted by prepare_evaluation_input.py script\n",
    "\n",
    "sim_file = \"./simulator_output/ orders_times_SEV_2019-12-01_2019-12-01.csv\"\n",
    "#sim_file = \"./simulator_output/orders_times.csv\"\n",
    "\n",
    "dwh_file = \"reality_data/SEV_2019-12-01_2019-12-01.csv\"\n",
    "\n",
    "\n",
    "# read data\n",
    "sim_dt = pd.read_csv(sim_file)\n",
    "real_dt = pd.read_csv(os.path.join(data_dir, dwh_file))\n",
    "\n"
   ]
  },
  {
   "cell_type": "code",
   "execution_count": 143,
   "metadata": {},
   "outputs": [],
   "source": [
    "# dirty workaround to get rid off multiindexing -> to fix later\n",
    "\n",
    "sim_dt1 = sim_dt.filter(regex=(\"times_diff*\" ))\n",
    "sim_dt1.loc[:,\"order_id\"] = sim_dt.loc[:,\"Unnamed: 1\"]\n",
    "sim_dt1.loc[:,\"courier_starts_order\"] =sim_dt.loc[:,\"timestamp_hms.2\"]\n",
    "sim_dt1.loc[:,\"activation_time\"] =sim_dt.loc[:,\"timestamp_hms.9\"]\n",
    "sim_dt1 = sim_dt1[sim_dt1.columns[::-1]]"
   ]
  },
  {
   "cell_type": "code",
   "execution_count": 144,
   "metadata": {},
   "outputs": [],
   "source": [
    "\n",
    "sim_dt = sim_dt1\n",
    "columns = sim_dt1.iloc[0]\n",
    "#print(columns)\n",
    "columns[0] = \"activation_time\"\n",
    "columns[2] = \"order_id\"\n",
    "sim_dt.columns =columns\n",
    "sim_dt = sim_dt.drop([0,1])"
   ]
  },
  {
   "cell_type": "code",
   "execution_count": 145,
   "metadata": {},
   "outputs": [],
   "source": [
    "# simulator output postprocessing\n",
    "sim_dt = sim_dt.rename(columns={\"waiting_time_pickup\": \"waiting_pickup_time\"})\n",
    "# add missing columns\n",
    "\n",
    "# TODO: remove - should be already in the data (or add to the script)\n",
    "\n",
    "sim_dt[\"prioritized_pickup\"] = False\n",
    "sim_dt[\"start_to_pickup_distance\"] = 200"
   ]
  },
  {
   "cell_type": "code",
   "execution_count": 146,
   "metadata": {},
   "outputs": [],
   "source": [
    "# TODO: CHANGE IN DATA ETL data matrix manager\n",
    "real_dt.loc[:,'first_stacking_to_courier_start'] = real_dt.loc[:,'first_stacking_to_last_stacking'] + real_dt.loc[:,'last_stacking_to_courier_start']\n",
    "real_dt = real_dt.rename(columns={\"vertical\":\"order_category\"})\n",
    "\n",
    "#simulation data\n",
    "sim_dt.loc[:,'first_stacking_to_last_stacking'] = sim_dt.loc[:,'first_stacking_to_last_stacking'].astype(float)\n",
    "sim_dt.loc[:,'last_stacking_to_courier_start'] = sim_dt.loc[:,'last_stacking_to_courier_start'].astype(float)\n",
    "sim_dt.loc[:,'first_stacking_to_courier_start'] = sim_dt.loc[:,'first_stacking_to_last_stacking'] + sim_dt.loc[:,'last_stacking_to_courier_start']\n",
    "\n",
    "#sim_dt.loc[:, \"activation_time\"] = sim_dt.loc[:, \"courier_starts_order\"]"
   ]
  },
  {
   "cell_type": "code",
   "execution_count": 147,
   "metadata": {},
   "outputs": [],
   "source": [
    "# metrics we want to track\n",
    "metrics = ['customer_delivery_time','courier_delivery_time', 'activation_to_first_stacking',\n",
    "       'first_stacking_to_courier_start', 'start_to_pickup_time','pickup_to_delivery_time',\n",
    "        'waiting_pickup_time', 'waiting_delivery_time','pickup_to_delivery_distance',\n",
    "       'start_to_pickup_distance', 'activation_to_partner_dispatch', 'partner_dispatch_to_enter_pickup']\n",
    "time_metrics = ['customer_delivery_time','courier_delivery_time', 'activation_to_first_stacking',\n",
    "       'first_stacking_to_courier_start', 'start_to_pickup_time','pickup_to_delivery_time',\n",
    "        'waiting_pickup_time', 'waiting_delivery_time']\n",
    "dist_metrics = ['pickup_to_delivery_distance','start_to_pickup_distance']"
   ]
  },
  {
   "cell_type": "code",
   "execution_count": 148,
   "metadata": {},
   "outputs": [],
   "source": [
    "## FUNCTIONS\n",
    "def printmd(string):\n",
    "    display(Markdown(string))\n",
    "\n",
    "def detect_outliers(data, q1,q2, threshold):\n",
    "    # calculate interquartile range\n",
    "    q25, q75 = np.nanpercentile(data, q1), np.nanpercentile(data, q2)\n",
    "    iqr = q75 - q25\n",
    "  #  print('Percentiles: 25th=%.3f, 75th=%.3f, IQR=%.3f' % (q25, q75, iqr))\n",
    "    # calculate the outlier cutoff\n",
    "    cut_off = iqr*threshold\n",
    "    lower, upper = q25 - cut_off, q75 + cut_off\n",
    "    # identify outliers\n",
    "    outliers = [x for x in data if x < lower or x > upper]\n",
    "    # remove outliers\n",
    "    no_outliers = [x for x in data if x >= lower and x <= upper]\n",
    "    return no_outliers, outliers\n",
    "\n",
    "def get_statistics(real_no_outl, real_outl, idx, q1,q2):\n",
    "    # real_no_outl - values (the list) with outliers filtered out\n",
    "    # real_outl - outliers\n",
    "    # idx - real or sim\n",
    "    # q1,q2 percentiles to compute interquantile range\n",
    "    #print(\"otutl, len(real_no_outl))\n",
    "    #print(\"sim\", len(real_outl))\n",
    "    N = len(real_no_outl) + len(real_outl)\n",
    "    q25, q75 = np.nanpercentile(real_no_outl, q1), np.nanpercentile(real_no_outl, q2)\n",
    "    q25, q75 = round(q25,2), round(q75,2)\n",
    "    if N != 0:\n",
    "        outl_no = round(100*len(real_outl)/N,2)\n",
    "    else:\n",
    "        outl_no = 0\n",
    "    row_real = pd.DataFrame({\"mean\": round(np.mean(real_no_outl),2), \"std\": round(np.std(real_no_outl),2),\\\n",
    "                         \"outliers no\": len(real_outl), \"outliers %\": outl_no,\n",
    "                        \"q\"+str(q1):q25, \"q\"+str(q2):q75},\n",
    "                         index=[idx]\n",
    "                       )\n",
    "    return row_real\n",
    "\n",
    "def print_avg_diff(real_dt_col, sim_dt_col):\n",
    "    m1 = np.mean(real_dt_col)\n",
    "    m2 = np.mean(sim_dt_col)\n",
    "    m_delta = round( m1-m2,2)\n",
    "    printmd(rf\"\"\"$\\Delta \\mu = {m_delta}$ min [real - simulation]\"\"\")\n",
    "    \n",
    "def print_avg_diff_dist(real_dt_col, sim_dt_col):\n",
    "    m1 = np.mean(real_dt_col)\n",
    "    m2 = np.mean(sim_dt_col)\n",
    "    m_delta = round( m1-m2,2)\n",
    "    printmd(rf\"\"\"$\\Delta \\mu = {m_delta}$ m [real - simulation]\"\"\")\n",
    "\n",
    "def convert_formats(dt):\n",
    "    time_cols = ['activation_time', 'activation_time_local',\n",
    "       'pickup', 'delivery', 'is_food', 'partner_order', 'waiting_pickup_time',\n",
    "       'first_stacking', 'courier_start', 'entering_pickup',\n",
    "       'entering_delivery', 'partner_dispatch', 'partner_accepted']\n",
    "    dist_cols = ['pickup_latitude', 'pickup_longitude', 'delivery_latitude',\n",
    "       'delivery_longitude', 'courier_start_latitude',\n",
    "       'courier_start_longitude', 'pickup_to_delivery_distance', 'start_to_pickup_distance']\n",
    "    int_cols = ['courier_delivery_time', 'order_id'\n",
    "       'customer_delivery_time', 'activation_to_first_stacking',\n",
    "       'first_stacking_to_courier_start', 'start_to_pickup_time',\n",
    "       'pickup_to_delivery_time', 'waiting_delivery_time']\n",
    "    #dt[time_cols] = parse_time(dt, time_cols)\n",
    "    dt[dist_cols] = dt[dist_cols].astype(float)\n",
    "    dt[int_cols] = dt[int_cols].astype(int)\n",
    "\n",
    "    return dt"
   ]
  },
  {
   "cell_type": "code",
   "execution_count": 149,
   "metadata": {},
   "outputs": [],
   "source": [
    "# change format for simulator output\n",
    "sim_dt[\"order_id\"] = sim_dt[\"order_id\"].astype(float)\n",
    "cols = ['partner_dispatch_to_enter_pickup',\n",
    "       'activation_to_partner_dispatch', 'waiting_delivery_time',\n",
    "       'pickup_to_delivery_time', 'food_getting_cold', 'waiting_pickup_time',\n",
    "       'start_to_pickup_time', 'last_stacking_to_courier_start',\n",
    "       'first_stacking_to_last_stacking', 'activation_to_first_stacking',\n",
    "       'customer_delivery_time', 'courier_delivery_time',\n",
    "       'first_stacking_to_courier_start']\n",
    "sim_dt[cols] = sim_dt[cols].astype(float)"
   ]
  },
  {
   "cell_type": "code",
   "execution_count": 150,
   "metadata": {},
   "outputs": [],
   "source": [
    "## DATA PREPROCESSING\n",
    "sim_dt[time_metrics] = sim_dt[time_metrics].astype(float)\n",
    "\n",
    "# change for mins\n",
    "sim_dt[time_metrics] = sim_dt[time_metrics].apply(lambda x: x/60, axis=1)\n",
    "real_dt[time_metrics] = real_dt[time_metrics].apply(lambda x: x/60, axis=1)\n",
    "\n",
    "# drop na in activation time\n",
    "# TODO check na in other columns\n",
    "sim_dt = sim_dt.dropna(subset = [\"activation_time\"])\n",
    "real_dt = real_dt.dropna(subset = [\"activation_time\"])\n",
    "\n",
    "#sim_dt_all = sim_dt.copy()\n",
    "#real_dt_all = real_dt.copy()\n",
    "\n",
    "#covert time to float\n",
    "sim_dt[time_metrics] = sim_dt[time_metrics].astype(float)\n",
    "\n",
    "# convert to datetime\n",
    "# truncate miliseconds\n",
    "real_dt.loc[:, \"activation_time\"] = real_dt.loc[:, \"activation_time\"].apply(lambda x: x[:-4])\n",
    "\n",
    "\n",
    "real_dt.loc[:, \"activation_time\"] = real_dt.loc[:, \"activation_time\"].apply(lambda x: datetime.strptime(x,'%Y-%m-%d %H:%M:%S'))\n",
    "real_dt.loc[:, \"activation_time_date\"] = real_dt.loc[:, \"activation_time\"].apply(lambda x: datetime.strftime(x,'%Y-%m-%d'))\n",
    "real_dt.loc[:, \"activation_time_hour\"] = real_dt.loc[:, \"activation_time\"].apply(lambda x: x.hour)\n",
    "\n",
    "sim_dt.loc[:, \"activation_time\"] = sim_dt.loc[:, \"activation_time\"].apply(lambda x: datetime.strptime(x,'%H:%M:%S'))\n",
    "sim_dt.loc[:, \"activation_time_date\"] = sim_dt.loc[:, \"activation_time\"].apply(lambda x: datetime.strftime(x,'%Y-%m-%d'))\n",
    "sim_dt.loc[:, \"activation_time_hour\"] = sim_dt.loc[:, \"activation_time\"].apply(lambda x: x.hour)\n"
   ]
  },
  {
   "cell_type": "code",
   "execution_count": 151,
   "metadata": {},
   "outputs": [],
   "source": [
    "time = 'customer_delivery_time'\n",
    "\n",
    "time_components = ['activation_to_first_stacking',\n",
    "       'first_stacking_to_courier_start', \n",
    "     'start_to_pickup_time',\n",
    "      'waiting_pickup_time',\n",
    "       'pickup_to_delivery_time', \n",
    "     'waiting_delivery_time']\n",
    "\n"
   ]
  },
  {
   "cell_type": "code",
   "execution_count": 152,
   "metadata": {},
   "outputs": [],
   "source": [
    "\n",
    "def get_overall_distr_by_hour(col):\n",
    "    # compute the ttest to check the pvalue for avgs\n",
    "    pvals_df = pd.DataFrame(columns=['hour','pvalue'])\n",
    "\n",
    "    # TODO: check which statistical test to use!!!\n",
    "\n",
    "    for hour in range(24):\n",
    "        pvals_df_hour = dict({})\n",
    "        sim_dt_per_hour = sim_dt.loc[sim_dt[\"activation_time_hour\"] == hour]\n",
    "        real_dt_per_hour = real_dt.loc[real_dt[\"activation_time_hour\"] == hour]\n",
    "\n",
    "        # save plots distribution\n",
    "        if (len(sim_dt_per_hour) > 0 and len(real_dt_per_hour) > 0):\n",
    "            ks, pv = ks_2samp(sim_dt_per_hour[col], real_dt_per_hour[col])\n",
    "            pvals_df_hour[hour] = pv\n",
    "        pvals_df = pvals_df.append(pd.DataFrame(list(pvals_df_hour.items()), columns=['hour', 'pvalue']), ignore_index=True)\n",
    "\n",
    "    # compute weights - the percentage of data in each hour\n",
    "    nsim = len(sim_dt)\n",
    "    sim_weights = sim_dt.groupby([\"activation_time_hour\"], as_index= False)[col].count().\\\n",
    "        rename(columns={col:'sim_nrows'})\n",
    "    sim_weights['sim_nrows'] = sim_weights['sim_nrows'].apply(lambda x: x/nsim)\n",
    "\n",
    "    nreal = len(real_dt)\n",
    "    real_weights = real_dt.groupby([\"activation_time_hour\"], as_index= False)[col].count().\\\n",
    "        rename(columns={col:'real_nrows'})\n",
    "    real_weights['real_nrows'] = real_weights['real_nrows'].apply(lambda x: x/nreal)\n",
    "\n",
    "    # difference\n",
    "\n",
    "    # compute the average per hour\n",
    "    real_avg_dt_per_hour = real_dt.groupby([\"activation_time_hour\"], as_index= False)[col].mean().\\\n",
    "        rename(columns={col:'real_avg_dt'})\n",
    "    sim_avg_dt_per_hour = sim_dt.groupby([\"activation_time_hour\"], as_index= False)[col].mean().\\\n",
    "        rename(columns={col:'sim_avg_dt'})\n",
    "\n",
    "    # merge simulation and real data\n",
    "    diff_dt = pd.merge(real_avg_dt_per_hour, sim_avg_dt_per_hour, how='outer', on='activation_time_hour')\n",
    "\n",
    "    # merge weights (the percentage of data in each hour)\n",
    "    diff_dt = pd.merge(diff_dt, sim_weights, on=\"activation_time_hour\", how='left')\n",
    "    diff_dt = pd.merge(diff_dt, real_weights, on=\"activation_time_hour\", how='left')\n",
    "\n",
    "    # compute the difference\n",
    "    diff_dt = diff_dt.dropna()\n",
    "    diff_dt[\"diff\"] = diff_dt['sim_avg_dt']*diff_dt['sim_nrows'] - diff_dt['real_avg_dt']*diff_dt['real_nrows']\n",
    "    return diff_dt"
   ]
  },
  {
   "cell_type": "markdown",
   "metadata": {},
   "source": [
    "# Simulator accuracy\n",
    "\n",
    "The goal of below analysis is to measure the accuracy between the simulator output and real data extracted from dwh. We define the following metrics that we track: 'customer_delivery_time','courier_delivery_time', 'activation_to_first_stacking',\n",
    "       'first_stacking_to_courier_start', 'start_to_pickup_time','pickup_to_delivery_time',\n",
    "        'waiting_pickup_time', 'waiting_delivery_time',\n",
    "        'pickup_to_delivery_distance',\n",
    "       'start_to_pickup_distance'.\n",
    "By comparing the distributions on different level of aggregations we are trying to identify where are the gaps between real data and the simulator.\n",
    "\n",
    "\n",
    "The distributions are compared based on Kolmogonorov-Smirnov (KS) statistical test. It compares cdf obetween two samples of data.\n",
    "The p-value < 0.05 indicates we cannot assume that the data are from the same distribution. \n",
    "Outliers are removed based on percentiles of data. "
   ]
  },
  {
   "cell_type": "markdown",
   "metadata": {},
   "source": [
    "The structure is following:\n",
    "1. Consistency checks\n",
    "2. Outlier values in CDT and DT, that may bias all the metrics\n",
    "3. Data aggregated by different time components on daily level\n",
    "4. In debt analysis the two key metrics: 'customer_delivery_time' and 'courier_delivery_time'.\n",
    "5. For the rest of metrics there generated separate reports that consider aggregation by hours. "
   ]
  },
  {
   "cell_type": "markdown",
   "metadata": {},
   "source": [
    "# Consistency checks\n",
    "\n",
    "The goal of this analysis is to make some basic consistency checks in order to guarantee that the orders we are simulating are the same we are using to compare accuracy. The checks we will do are the following:\n",
    "\n",
    "1. Number of orders real vs simulation. \n",
    "2. Dates ranges.\n",
    "3. Duplicates\n",
    "4. Check that the orders are exactly the same (same order_id's).\n",
    "5. Missing values. \n",
    "\n",
    "For the accuracy check, we will only keep the orders that are found both in reality and in simulation. However, they should be the same. "
   ]
  },
  {
   "cell_type": "code",
   "execution_count": 153,
   "metadata": {},
   "outputs": [
    {
     "name": "stdout",
     "output_type": "stream",
     "text": [
      "Number of orders from Matrix: 122, (122 unique)\n",
      "Number of orders from Reality: 2099, (2099 unique)\n",
      "Range of dates-hours in Matrix: Min =  1900-01-01 00:00:30 Max =  1900-01-01 12:58:37\n",
      "Range of dates-hours in Reality: Min =  2019-12-01 00:00:30.000 Max =  2019-12-01 23:55:15.000\n",
      "Number of common orders in matrix and reality: 107\n"
     ]
    }
   ],
   "source": [
    "print(\"Number of orders from Matrix: %d, (%d unique)\" %(len(sim_dt), len(sim_dt['order_id'].unique())))\n",
    "print(\"Number of orders from Reality: %d, (%d unique)\" %(len(real_dt), len(real_dt['order_id'].unique())))\n",
    "print(\"Range of dates-hours in Matrix: Min = \", sim_dt.activation_time.min(), 'Max = ', sim_dt.activation_time.max())\n",
    "print(\"Range of dates-hours in Reality: Min = \", real_dt.activation_time_local.min(), 'Max = ', real_dt.activation_time_local.max())\n",
    "\n",
    "orders_intersection = pd.merge(sim_dt[['order_id']], real_dt[['order_id']], how='inner')\n",
    "print(\"Number of common orders in matrix and reality:\", len(orders_intersection))\n",
    "\n",
    "#We keep only orders that are found on both matrix and reality.\n",
    "sim_dt = pd.merge(sim_dt, orders_intersection, on = 'order_id', how = 'inner')\n",
    "real_dt = pd.merge(real_dt, orders_intersection, on = 'order_id', how = 'inner')\n",
    "\n"
   ]
  },
  {
   "cell_type": "code",
   "execution_count": 154,
   "metadata": {},
   "outputs": [
    {
     "data": {
      "text/plain": [
       "Index(['activation_time', 'courier_starts_order', 'order_id', 'partner_dispatch_to_enter_pickup', 'activation_to_partner_dispatch', 'waiting_delivery_time', 'pickup_to_delivery_time', 'food_getting_cold', 'waiting_pickup_time', 'start_to_pickup_time', 'last_stacking_to_courier_start', 'first_stacking_to_last_stacking', 'activation_to_first_stacking', 'customer_delivery_time', 'courier_delivery_time', 'prioritized_pickup', 'start_to_pickup_distance', 'first_stacking_to_courier_start', 'activation_time_date', 'activation_time_hour'], dtype='object')"
      ]
     },
     "execution_count": 154,
     "metadata": {},
     "output_type": "execute_result"
    }
   ],
   "source": [
    "sim_dt.columns"
   ]
  },
  {
   "cell_type": "markdown",
   "metadata": {},
   "source": [
    "# Outliers analysis\n",
    "\n",
    "First we will use boxplots to assess the amount of potential outliers that we may find in each of the metrics for the simulated values and the real values and we will explore what may be the reason behind the outlier value. The treatment for the outliers for now will be to exclude them from the accuracy analysis if they are caused by a phenomena that we are not considering in the simulation. However, we will later make an assessment of which is the difference in accuracy if considering the outliers or if not considering them. \n",
    "\n",
    "## Data before outlier cleansing"
   ]
  },
  {
   "cell_type": "code",
   "execution_count": 155,
   "metadata": {
    "scrolled": false
   },
   "outputs": [
    {
     "data": {
      "image/png": "[encoded data removed]",
      "text/plain": [
       "<Figure size 1080x360 with 2 Axes>"
      ]
     },
     "metadata": {
      "needs_background": "light"
     },
     "output_type": "display_data"
    },
    {
     "name": "stdout",
     "output_type": "stream",
     "text": [
      "Real values: customer DT outliers\n"
     ]
    },
    {
     "data": {
      "text/html": [
       "<div>\n",
       "<style scoped>\n",
       "    .dataframe tbody tr th:only-of-type {\n",
       "        vertical-align: middle;\n",
       "    }\n",
       "\n",
       "    .dataframe tbody tr th {\n",
       "        vertical-align: top;\n",
       "    }\n",
       "\n",
       "    .dataframe thead th {\n",
       "        text-align: right;\n",
       "    }\n",
       "</style>\n",
       "<table border=\"1\" class=\"dataframe\">\n",
       "  <thead>\n",
       "    <tr style=\"text-align: right;\">\n",
       "      <th></th>\n",
       "      <th>order_id</th>\n",
       "      <th>customer_delivery_time</th>\n",
       "      <th>activation_to_first_stacking</th>\n",
       "      <th>first_stacking_to_courier_start</th>\n",
       "      <th>number_of_assignments</th>\n",
       "    </tr>\n",
       "  </thead>\n",
       "  <tbody>\n",
       "    <tr>\n",
       "      <th>52</th>\n",
       "      <td>81911014</td>\n",
       "      <td>93.500000</td>\n",
       "      <td>0.850000</td>\n",
       "      <td>57.433333</td>\n",
       "      <td>2</td>\n",
       "    </tr>\n",
       "    <tr>\n",
       "      <th>19</th>\n",
       "      <td>81920850</td>\n",
       "      <td>76.316667</td>\n",
       "      <td>0.066667</td>\n",
       "      <td>4.066667</td>\n",
       "      <td>1</td>\n",
       "    </tr>\n",
       "    <tr>\n",
       "      <th>44</th>\n",
       "      <td>81921336</td>\n",
       "      <td>61.700000</td>\n",
       "      <td>0.966667</td>\n",
       "      <td>6.133333</td>\n",
       "      <td>1</td>\n",
       "    </tr>\n",
       "    <tr>\n",
       "      <th>50</th>\n",
       "      <td>81910472</td>\n",
       "      <td>57.316667</td>\n",
       "      <td>13.516667</td>\n",
       "      <td>9.166667</td>\n",
       "      <td>2</td>\n",
       "    </tr>\n",
       "    <tr>\n",
       "      <th>65</th>\n",
       "      <td>81908951</td>\n",
       "      <td>57.133333</td>\n",
       "      <td>0.116667</td>\n",
       "      <td>0.033333</td>\n",
       "      <td>1</td>\n",
       "    </tr>\n",
       "  </tbody>\n",
       "</table>\n",
       "</div>"
      ],
      "text/plain": [
       "    order_id  customer_delivery_time  activation_to_first_stacking  first_stacking_to_courier_start  number_of_assignments\n",
       "52  81911014               93.500000                      0.850000                        57.433333                      2\n",
       "19  81920850               76.316667                      0.066667                         4.066667                      1\n",
       "44  81921336               61.700000                      0.966667                         6.133333                      1\n",
       "50  81910472               57.316667                     13.516667                         9.166667                      2\n",
       "65  81908951               57.133333                      0.116667                         0.033333                      1"
      ]
     },
     "metadata": {},
     "output_type": "display_data"
    },
    {
     "name": "stdout",
     "output_type": "stream",
     "text": [
      "Real values: courier DT outliers\n"
     ]
    },
    {
     "data": {
      "text/html": [
       "<div>\n",
       "<style scoped>\n",
       "    .dataframe tbody tr th:only-of-type {\n",
       "        vertical-align: middle;\n",
       "    }\n",
       "\n",
       "    .dataframe tbody tr th {\n",
       "        vertical-align: top;\n",
       "    }\n",
       "\n",
       "    .dataframe thead th {\n",
       "        text-align: right;\n",
       "    }\n",
       "</style>\n",
       "<table border=\"1\" class=\"dataframe\">\n",
       "  <thead>\n",
       "    <tr style=\"text-align: right;\">\n",
       "      <th></th>\n",
       "      <th>order_id</th>\n",
       "      <th>courier_delivery_time</th>\n",
       "      <th>activation_to_first_stacking</th>\n",
       "      <th>first_stacking_to_courier_start</th>\n",
       "      <th>start_to_pickup_time</th>\n",
       "      <th>waiting_pickup_time</th>\n",
       "      <th>pickup_to_delivery_time</th>\n",
       "      <th>waiting_delivery_time</th>\n",
       "    </tr>\n",
       "  </thead>\n",
       "  <tbody>\n",
       "    <tr>\n",
       "      <th>19</th>\n",
       "      <td>81920850</td>\n",
       "      <td>72.133333</td>\n",
       "      <td>0.066667</td>\n",
       "      <td>4.066667</td>\n",
       "      <td>10.200000</td>\n",
       "      <td>51.400000</td>\n",
       "      <td>4.333333</td>\n",
       "      <td>6.183333</td>\n",
       "    </tr>\n",
       "    <tr>\n",
       "      <th>65</th>\n",
       "      <td>81908951</td>\n",
       "      <td>56.966667</td>\n",
       "      <td>0.116667</td>\n",
       "      <td>0.033333</td>\n",
       "      <td>24.566667</td>\n",
       "      <td>20.666667</td>\n",
       "      <td>9.300000</td>\n",
       "      <td>2.416667</td>\n",
       "    </tr>\n",
       "    <tr>\n",
       "      <th>44</th>\n",
       "      <td>81921336</td>\n",
       "      <td>54.583333</td>\n",
       "      <td>0.966667</td>\n",
       "      <td>6.133333</td>\n",
       "      <td>26.850000</td>\n",
       "      <td>10.983333</td>\n",
       "      <td>7.983333</td>\n",
       "      <td>7.266667</td>\n",
       "    </tr>\n",
       "    <tr>\n",
       "      <th>105</th>\n",
       "      <td>81928502</td>\n",
       "      <td>50.516667</td>\n",
       "      <td>0.800000</td>\n",
       "      <td>0.016667</td>\n",
       "      <td>1439.983333</td>\n",
       "      <td>38.366667</td>\n",
       "      <td>8.983333</td>\n",
       "      <td>3.150000</td>\n",
       "    </tr>\n",
       "    <tr>\n",
       "      <th>82</th>\n",
       "      <td>81902218</td>\n",
       "      <td>47.633333</td>\n",
       "      <td>0.350000</td>\n",
       "      <td>0.016667</td>\n",
       "      <td>16.150000</td>\n",
       "      <td>8.900000</td>\n",
       "      <td>17.950000</td>\n",
       "      <td>4.616667</td>\n",
       "    </tr>\n",
       "  </tbody>\n",
       "</table>\n",
       "</div>"
      ],
      "text/plain": [
       "     order_id  courier_delivery_time  activation_to_first_stacking  first_stacking_to_courier_start  start_to_pickup_time  waiting_pickup_time  pickup_to_delivery_time  waiting_delivery_time\n",
       "19   81920850              72.133333                      0.066667                         4.066667             10.200000            51.400000                 4.333333               6.183333\n",
       "65   81908951              56.966667                      0.116667                         0.033333             24.566667            20.666667                 9.300000               2.416667\n",
       "44   81921336              54.583333                      0.966667                         6.133333             26.850000            10.983333                 7.983333               7.266667\n",
       "105  81928502              50.516667                      0.800000                         0.016667           1439.983333            38.366667                 8.983333               3.150000\n",
       "82   81902218              47.633333                      0.350000                         0.016667             16.150000             8.900000                17.950000               4.616667"
      ]
     },
     "metadata": {},
     "output_type": "display_data"
    }
   ],
   "source": [
    "real_dt.columns\n",
    "\n",
    "fig, (ax1, ax2) = plt.subplots(ncols = 2, figsize=(15,5))\n",
    "fig.subplots_adjust(left=None, bottom=None, right=None, top=None, wspace=None, hspace=None)\n",
    "real_dt.boxplot(column=['customer_delivery_time', 'courier_delivery_time'], ax = ax1, rot = 90)\n",
    "ax1.set_title('Real Values')\n",
    "\n",
    "sim_dt.boxplot(column=['customer_delivery_time', 'courier_delivery_time'], ax = ax2, rot = 90)\n",
    "ax2.set_title('Matrix Values')\n",
    "plt.show()\n",
    "\n",
    "\n",
    "outlier_validation_metrics = ['order_id', 'customer_delivery_time', 'activation_to_first_stacking', \n",
    "                              'first_stacking_to_courier_start', 'number_of_assignments']\n",
    "print('Real values: customer DT outliers')\n",
    "display(real_dt[outlier_validation_metrics].sort_values('customer_delivery_time', ascending = False).head(5))\n",
    "\n",
    "\n",
    "\n",
    "outlier_validation_metrics = ['order_id', 'courier_delivery_time', 'activation_to_first_stacking',\n",
    "                              'first_stacking_to_courier_start', 'start_to_pickup_time', 'waiting_pickup_time',\n",
    "                              'pickup_to_delivery_time', 'waiting_delivery_time']\n",
    "print('Real values: courier DT outliers')\n",
    "display(real_dt[outlier_validation_metrics].sort_values('courier_delivery_time', ascending = False).head(5))\n",
    "\n",
    "real_dt_original = real_dt\n",
    "\n",
    "real_dt_reassignments = real_dt[real_dt.number_of_assignments > 1]\n",
    "real_dt = real_dt[real_dt.number_of_assignments == 1]\n",
    "\n",
    "\n",
    "waiting_delivery_time_boundary = real_dt.waiting_delivery_time.quantile(0.75) + 3 * iqr(real_dt.waiting_delivery_time)\n",
    "\n",
    "real_dt_wtd_outlier = real_dt[real_dt.waiting_delivery_time > waiting_delivery_time_boundary]\n",
    "real_dt = real_dt[real_dt.waiting_delivery_time <= waiting_delivery_time_boundary]\n",
    "\n",
    "\n",
    "\n",
    "waiting_pickup_time_boundary = real_dt.waiting_pickup_time.quantile(0.75) + 3 * iqr(real_dt.waiting_pickup_time)\n",
    "\n",
    "real_dt_wtp_outlier = real_dt[real_dt.waiting_pickup_time > waiting_pickup_time_boundary]\n",
    "real_dt = real_dt[real_dt.waiting_pickup_time <= waiting_pickup_time_boundary]\n",
    "\n",
    "\n",
    "dispatch_to_accept_time_boundary = real_dt.partner_dispatch_to_accept.quantile(0.75) + 3 * iqr(real_dt.partner_dispatch_to_accept)\n",
    "\n",
    "real_dt_disp_to_accept_outlier = real_dt[real_dt.partner_dispatch_to_accept > dispatch_to_accept_time_boundary]\n",
    "real_dt = real_dt[real_dt.partner_dispatch_to_accept <= dispatch_to_accept_time_boundary]\n",
    "\n",
    "# sp distance\n",
    "sp_distance_boundary = real_dt.start_to_pickup_distance.quantile(0.75) + 3 * iqr(real_dt.start_to_pickup_distance)\n",
    "\n",
    "real_dt_sp_distance_outlier = real_dt[real_dt.start_to_pickup_distance > sp_distance_boundary]\n",
    "real_dt = real_dt[real_dt.start_to_pickup_distance <= sp_distance_boundary]"
   ]
  },
  {
   "cell_type": "markdown",
   "metadata": {},
   "source": [
    "## Cleaning outliers\n",
    "\n",
    "For the moment, we have applied the following criterias to detect outliers, caused by phenomenas that we are not considering in our simulation. \n",
    "\n",
    "1. Orders that have been reassigned. \n",
    "2. Orders that have a waiting at pickup time higher than 3Q + 3IQR. \n",
    "3. Orders that have a waiting at delivery time higher than 3Q + 3IQR. \n",
    "\n",
    "These are quite conservative criterias. The number of cleaned orders by each of the criterias is the following:"
   ]
  },
  {
   "cell_type": "code",
   "execution_count": 156,
   "metadata": {},
   "outputs": [
    {
     "data": {
      "image/png": "[encoded data removed]",
      "text/plain": [
       "<Figure size 432x288 with 1 Axes>"
      ]
     },
     "metadata": {
      "needs_background": "light"
     },
     "output_type": "display_data"
    }
   ],
   "source": [
    "\n",
    "df = pd.DataFrame({'lab':['Initial_orders', 'Cleaned_orders', 'reasignments', 'wtd_outliers', 'wtp_outliers',\n",
    "                         'partner_dispatch_to_accept'], \n",
    "                   'val':[len(real_dt_original), len(real_dt), len(real_dt_reassignments),\n",
    "                          len(real_dt_wtd_outlier),len(real_dt_wtp_outlier), len(real_dt_disp_to_accept_outlier)]})\n",
    "\n",
    "ax = df.plot.bar(x='lab', y='val', rot=90)\n",
    "\n",
    "\n"
   ]
  },
  {
   "cell_type": "markdown",
   "metadata": {},
   "source": [
    "## Data after outlier cleansing"
   ]
  },
  {
   "cell_type": "code",
   "execution_count": 157,
   "metadata": {},
   "outputs": [
    {
     "data": {
      "text/html": [
       "<div>\n",
       "<style scoped>\n",
       "    .dataframe tbody tr th:only-of-type {\n",
       "        vertical-align: middle;\n",
       "    }\n",
       "\n",
       "    .dataframe tbody tr th {\n",
       "        vertical-align: top;\n",
       "    }\n",
       "\n",
       "    .dataframe thead th {\n",
       "        text-align: right;\n",
       "    }\n",
       "</style>\n",
       "<table border=\"1\" class=\"dataframe\">\n",
       "  <thead>\n",
       "    <tr style=\"text-align: right;\">\n",
       "      <th></th>\n",
       "      <th>order_id</th>\n",
       "      <th>customer_delivery_time</th>\n",
       "      <th>activation_to_first_stacking</th>\n",
       "      <th>first_stacking_to_courier_start</th>\n",
       "      <th>number_of_assignments</th>\n",
       "    </tr>\n",
       "  </thead>\n",
       "  <tbody>\n",
       "    <tr>\n",
       "      <th>44</th>\n",
       "      <td>81921336</td>\n",
       "      <td>61.700000</td>\n",
       "      <td>0.966667</td>\n",
       "      <td>6.133333</td>\n",
       "      <td>1</td>\n",
       "    </tr>\n",
       "    <tr>\n",
       "      <th>65</th>\n",
       "      <td>81908951</td>\n",
       "      <td>57.133333</td>\n",
       "      <td>0.116667</td>\n",
       "      <td>0.033333</td>\n",
       "      <td>1</td>\n",
       "    </tr>\n",
       "    <tr>\n",
       "      <th>31</th>\n",
       "      <td>81904275</td>\n",
       "      <td>56.383333</td>\n",
       "      <td>0.100000</td>\n",
       "      <td>27.516667</td>\n",
       "      <td>1</td>\n",
       "    </tr>\n",
       "    <tr>\n",
       "      <th>73</th>\n",
       "      <td>81844788</td>\n",
       "      <td>56.216667</td>\n",
       "      <td>25.550000</td>\n",
       "      <td>0.016667</td>\n",
       "      <td>1</td>\n",
       "    </tr>\n",
       "    <tr>\n",
       "      <th>95</th>\n",
       "      <td>81846119</td>\n",
       "      <td>55.550000</td>\n",
       "      <td>9.850000</td>\n",
       "      <td>0.016667</td>\n",
       "      <td>1</td>\n",
       "    </tr>\n",
       "  </tbody>\n",
       "</table>\n",
       "</div>"
      ],
      "text/plain": [
       "    order_id  customer_delivery_time  activation_to_first_stacking  first_stacking_to_courier_start  number_of_assignments\n",
       "44  81921336               61.700000                      0.966667                         6.133333                      1\n",
       "65  81908951               57.133333                      0.116667                         0.033333                      1\n",
       "31  81904275               56.383333                      0.100000                        27.516667                      1\n",
       "73  81844788               56.216667                     25.550000                         0.016667                      1\n",
       "95  81846119               55.550000                      9.850000                         0.016667                      1"
      ]
     },
     "metadata": {},
     "output_type": "display_data"
    },
    {
     "name": "stdout",
     "output_type": "stream",
     "text": [
      "Real values: courier DT outliers\n"
     ]
    },
    {
     "data": {
      "text/html": [
       "<div>\n",
       "<style scoped>\n",
       "    .dataframe tbody tr th:only-of-type {\n",
       "        vertical-align: middle;\n",
       "    }\n",
       "\n",
       "    .dataframe tbody tr th {\n",
       "        vertical-align: top;\n",
       "    }\n",
       "\n",
       "    .dataframe thead th {\n",
       "        text-align: right;\n",
       "    }\n",
       "</style>\n",
       "<table border=\"1\" class=\"dataframe\">\n",
       "  <thead>\n",
       "    <tr style=\"text-align: right;\">\n",
       "      <th></th>\n",
       "      <th>order_id</th>\n",
       "      <th>courier_delivery_time</th>\n",
       "      <th>activation_to_first_stacking</th>\n",
       "      <th>first_stacking_to_courier_start</th>\n",
       "      <th>start_to_pickup_time</th>\n",
       "      <th>waiting_pickup_time</th>\n",
       "      <th>pickup_to_delivery_time</th>\n",
       "      <th>waiting_delivery_time</th>\n",
       "    </tr>\n",
       "  </thead>\n",
       "  <tbody>\n",
       "    <tr>\n",
       "      <th>65</th>\n",
       "      <td>81908951</td>\n",
       "      <td>56.966667</td>\n",
       "      <td>0.116667</td>\n",
       "      <td>0.033333</td>\n",
       "      <td>24.566667</td>\n",
       "      <td>20.666667</td>\n",
       "      <td>9.300000</td>\n",
       "      <td>2.416667</td>\n",
       "    </tr>\n",
       "    <tr>\n",
       "      <th>44</th>\n",
       "      <td>81921336</td>\n",
       "      <td>54.583333</td>\n",
       "      <td>0.966667</td>\n",
       "      <td>6.133333</td>\n",
       "      <td>26.850000</td>\n",
       "      <td>10.983333</td>\n",
       "      <td>7.983333</td>\n",
       "      <td>7.266667</td>\n",
       "    </tr>\n",
       "    <tr>\n",
       "      <th>82</th>\n",
       "      <td>81902218</td>\n",
       "      <td>47.633333</td>\n",
       "      <td>0.350000</td>\n",
       "      <td>0.016667</td>\n",
       "      <td>16.150000</td>\n",
       "      <td>8.900000</td>\n",
       "      <td>17.950000</td>\n",
       "      <td>4.616667</td>\n",
       "    </tr>\n",
       "    <tr>\n",
       "      <th>13</th>\n",
       "      <td>81908950</td>\n",
       "      <td>46.300000</td>\n",
       "      <td>0.133333</td>\n",
       "      <td>4.083333</td>\n",
       "      <td>17.933333</td>\n",
       "      <td>20.166667</td>\n",
       "      <td>4.733333</td>\n",
       "      <td>3.450000</td>\n",
       "    </tr>\n",
       "    <tr>\n",
       "      <th>95</th>\n",
       "      <td>81846119</td>\n",
       "      <td>45.650000</td>\n",
       "      <td>9.850000</td>\n",
       "      <td>0.016667</td>\n",
       "      <td>16.300000</td>\n",
       "      <td>14.416667</td>\n",
       "      <td>9.383333</td>\n",
       "      <td>5.533333</td>\n",
       "    </tr>\n",
       "  </tbody>\n",
       "</table>\n",
       "</div>"
      ],
      "text/plain": [
       "    order_id  courier_delivery_time  activation_to_first_stacking  first_stacking_to_courier_start  start_to_pickup_time  waiting_pickup_time  pickup_to_delivery_time  waiting_delivery_time\n",
       "65  81908951              56.966667                      0.116667                         0.033333             24.566667            20.666667                 9.300000               2.416667\n",
       "44  81921336              54.583333                      0.966667                         6.133333             26.850000            10.983333                 7.983333               7.266667\n",
       "82  81902218              47.633333                      0.350000                         0.016667             16.150000             8.900000                17.950000               4.616667\n",
       "13  81908950              46.300000                      0.133333                         4.083333             17.933333            20.166667                 4.733333               3.450000\n",
       "95  81846119              45.650000                      9.850000                         0.016667             16.300000            14.416667                 9.383333               5.533333"
      ]
     },
     "metadata": {},
     "output_type": "display_data"
    }
   ],
   "source": [
    "\n",
    "outlier_validation_metrics = ['order_id', 'customer_delivery_time', 'activation_to_first_stacking', 'first_stacking_to_courier_start', 'number_of_assignments']\n",
    "display(real_dt[outlier_validation_metrics].sort_values('customer_delivery_time', ascending = False).head(5))\n",
    "\n",
    "\n",
    "outlier_validation_metrics = ['order_id', 'courier_delivery_time', 'activation_to_first_stacking', 'first_stacking_to_courier_start', 'start_to_pickup_time', 'waiting_pickup_time', 'pickup_to_delivery_time', 'waiting_delivery_time']\n",
    "print('Real values: courier DT outliers')\n",
    "display(real_dt[outlier_validation_metrics].sort_values('courier_delivery_time', ascending = False).head(5))\n",
    "\n"
   ]
  },
  {
   "cell_type": "markdown",
   "metadata": {},
   "source": [
    "## Incidents"
   ]
  },
  {
   "cell_type": "code",
   "execution_count": 158,
   "metadata": {},
   "outputs": [],
   "source": [
    "# FILTER OUR INCIDENTS\n",
    "\n",
    "incidents_summary = pd.read_csv(\"reality_data/incidences_summary_SEV_2019-12-01_2019-12-01.csv\")\n",
    "incidents_orders = pd.read_csv(\"reality_data/incidences_orders_SEV_2019-12-01_2019-12-01.csv\")\n",
    "                        "
   ]
  },
  {
   "cell_type": "code",
   "execution_count": 159,
   "metadata": {},
   "outputs": [],
   "source": [
    "orders_intersection = pd.merge(incidents_orders[['order_id']], real_dt[['order_id']], how='inner')\n",
    "orders_intersection = pd.merge(orders_intersection, sim_dt[['order_id']], how='inner')\n",
    "\n",
    "#print(\"Number of common orders in matrix and reality:\", len(orders_intersection))\n",
    "\n",
    "#We keep only orders that are found on both matrix and reality.\n",
    "sim_dt = pd.merge(sim_dt, orders_intersection, on = 'order_id', how = 'inner')\n",
    "real_dt = pd.merge(real_dt, orders_intersection, on = 'order_id', how = 'inner')"
   ]
  },
  {
   "cell_type": "code",
   "execution_count": 160,
   "metadata": {},
   "outputs": [],
   "source": [
    "\n",
    "real_dt_with_incidents = pd.merge(real_dt, incidents_orders, on = 'order_id', how = 'left')\n",
    "real_dt = real_dt_with_incidents.loc[real_dt_with_incidents[\"Any_problem\"]==False]"
   ]
  },
  {
   "cell_type": "code",
   "execution_count": 161,
   "metadata": {},
   "outputs": [
    {
     "data": {
      "text/html": [
       "<div>\n",
       "<style scoped>\n",
       "    .dataframe tbody tr th:only-of-type {\n",
       "        vertical-align: middle;\n",
       "    }\n",
       "\n",
       "    .dataframe tbody tr th {\n",
       "        vertical-align: top;\n",
       "    }\n",
       "\n",
       "    .dataframe thead th {\n",
       "        text-align: right;\n",
       "    }\n",
       "</style>\n",
       "<table border=\"1\" class=\"dataframe\">\n",
       "  <thead>\n",
       "    <tr style=\"text-align: right;\">\n",
       "      <th></th>\n",
       "      <th>Order Type</th>\n",
       "      <th>val</th>\n",
       "    </tr>\n",
       "  </thead>\n",
       "  <tbody>\n",
       "    <tr>\n",
       "      <th>0</th>\n",
       "      <td>Total</td>\n",
       "      <td>2789</td>\n",
       "    </tr>\n",
       "    <tr>\n",
       "      <th>1</th>\n",
       "      <td>Cancelled</td>\n",
       "      <td>484</td>\n",
       "    </tr>\n",
       "    <tr>\n",
       "      <th>2</th>\n",
       "      <td>Delivered</td>\n",
       "      <td>2305</td>\n",
       "    </tr>\n",
       "    <tr>\n",
       "      <th>3</th>\n",
       "      <td>Reassigned</td>\n",
       "      <td>164</td>\n",
       "    </tr>\n",
       "    <tr>\n",
       "      <th>4</th>\n",
       "      <td>Manual_Assignment</td>\n",
       "      <td>40</td>\n",
       "    </tr>\n",
       "    <tr>\n",
       "      <th>5</th>\n",
       "      <td>Orphan</td>\n",
       "      <td>69</td>\n",
       "    </tr>\n",
       "    <tr>\n",
       "      <th>6</th>\n",
       "      <td>Cancelled Reassignments</td>\n",
       "      <td>31</td>\n",
       "    </tr>\n",
       "    <tr>\n",
       "      <th>7</th>\n",
       "      <td>Orders_without_incidences</td>\n",
       "      <td>2067</td>\n",
       "    </tr>\n",
       "  </tbody>\n",
       "</table>\n",
       "</div>"
      ],
      "text/plain": [
       "                  Order Type   val\n",
       "0                      Total  2789\n",
       "1                  Cancelled   484\n",
       "2                  Delivered  2305\n",
       "3                 Reassigned   164\n",
       "4          Manual_Assignment    40\n",
       "5                     Orphan    69\n",
       "6    Cancelled Reassignments    31\n",
       "7  Orders_without_incidences  2067"
      ]
     },
     "execution_count": 161,
     "metadata": {},
     "output_type": "execute_result"
    }
   ],
   "source": [
    "incidents_summary"
   ]
  },
  {
   "cell_type": "markdown",
   "metadata": {},
   "source": [
    "\n",
    "# Customer Delivery Time\n",
    "\n",
    "We will start by taking a look at the deviation of the CDT. At the same time, we will try which of the components of the CDT are the ones that have the biggest deviation. \n",
    "\n",
    "## Daily aggregation\n"
   ]
  },
  {
   "cell_type": "code",
   "execution_count": 162,
   "metadata": {},
   "outputs": [],
   "source": [
    "def plot_time_comp_distr_and_hours(real_dt, sim_dt, metric):\n",
    "\n",
    "    # check if dataframes non empty\n",
    "    if len(real_dt)==0:\n",
    "        print(\"Real data is empty\")\n",
    "        return\n",
    "    if len(sim_dt)==0:\n",
    "        print(\"Sim data is empty\")\n",
    "        return\n",
    "    \n",
    "    real_no_outl, real_outl = detect_outliers(real_dt[metric], q1, q2, th)\n",
    "    sim_no_outl, sim_outl = detect_outliers(sim_dt[metric], q1, q2, th)\n",
    "\n",
    "    ## compute statistics\n",
    "    row_real = get_statistics(real_no_outl, real_outl, \"real\", q1, q2)\n",
    "    row_sim = get_statistics(sim_no_outl, sim_outl, \"sim\", q1, q2)\n",
    "    \n",
    "    diff_activation_time = get_overall_distr_by_hour(metric)\n",
    "    \n",
    "    \n",
    "    # plot distributions\n",
    "    fig, (ax1, ax2) = plt.subplots(1, 2,figsize=(15,5))\n",
    "    fig.subplots_adjust(left=None, bottom=None, right=None, top=None, wspace=0.5, hspace=None)\n",
    "    \n",
    "    ax1.set_title(metric)\n",
    "    ax1.hist(real_no_outl, bins=30, label='real', alpha=0.5, density= True)\n",
    "    ax1.hist(sim_no_outl, bins=30, color='r', label='simulation', alpha=0.5, density= True)\n",
    "    #ax1.set_xlim((min(min(real_no_outl), min(sim_no_outl)), max(max(real_no_outl), max(sim_no_outl))))\n",
    "    ax1.legend()\n",
    "    ax1.set_xlabel(\"time[min]\")\n",
    "    \n",
    "    ax2.plot(diff_activation_time[\"activation_time_hour\"], diff_activation_time[\"diff\"], label=metric)\n",
    "    ax2.set_xticks(diff_activation_time[\"activation_time_hour\"])\n",
    "    ax2.set_xlabel(\"hour\")\n",
    "    ax2.set_ylabel(\"difference (simulation - real) [min]\")\n",
    "    ax2.set_title(\"Difference between simulation and real data by hour\")\n",
    "    ax2.grid()\n",
    "    ax2.legend()\n",
    "    plt.show()\n",
    "\n",
    "    \n",
    "    # compute ks test\n",
    "    kstat, p_value = ks_2samp(sim_no_outl, real_no_outl)\n",
    "    print(\"p-value = %.2f\" %p_value)\n",
    "\n",
    "    # print the difference between mean of two distributions\n",
    "    print_avg_diff(real_no_outl, sim_no_outl)\n",
    "\n",
    "    # print statistics\n",
    "    row_sim.append(row_real)"
   ]
  },
  {
   "cell_type": "code",
   "execution_count": 163,
   "metadata": {},
   "outputs": [],
   "source": [
    "def plot_dist_comp_distr_and_hours(metric):\n",
    "\n",
    "    \n",
    "    real_no_outl, real_outl = detect_outliers(real_dt[metric], q1, q2, th)\n",
    "    sim_no_outl, sim_outl = detect_outliers(sim_dt[metric], q1, q2, th)\n",
    "\n",
    "    ## compute statistics\n",
    "    row_real = get_statistics(real_no_outl, real_outl, \"real\", q1, q2)\n",
    "    row_sim = get_statistics(sim_no_outl, sim_outl, \"sim\", q1, q2)\n",
    "    \n",
    "    diff_activation_time = get_overall_distr_by_hour(metric)\n",
    "    \n",
    "    \n",
    "    # plot distributions\n",
    "    fig, (ax1, ax2) = plt.subplots(1, 2,figsize=(15,5))\n",
    "    fig.subplots_adjust(left=None, bottom=None, right=None, top=None, wspace=0.5, hspace=None)\n",
    "    \n",
    "    ax1.set_title(metric)\n",
    "    ax1.hist(real_no_outl, bins=30, label='real', alpha=0.5, density= True)\n",
    "    ax1.hist(sim_no_outl, bins=30, color='r', label='simulation', alpha=0.5, density= True)\n",
    "    ax1.set_xlim((min(min(real_no_outl), min(sim_no_outl)), max(max(real_no_outl), max(sim_no_outl))))\n",
    "    ax1.legend()\n",
    "    ax1.set_xlabel(\"distance[m]\")\n",
    "    \n",
    "    ax2.plot(diff_activation_time[\"activation_time_hour\"], diff_activation_time[\"diff\"], label=metric)\n",
    "    ax2.set_xticks(diff_activation_time[\"activation_time_hour\"])\n",
    "    ax2.set_xlabel(\"hour\")\n",
    "    ax2.set_ylabel(\"difference (simulation - real) [m]\")\n",
    "    ax2.set_title(\"Difference between simulation and real data by hour\")\n",
    "    ax2.grid()\n",
    "    ax2.legend()\n",
    "    plt.show()\n",
    "\n",
    "    \n",
    "    # compute ks test\n",
    "    kstat, p_value = ks_2samp(sim_no_outl, real_no_outl)\n",
    "    print(\"p-value = %.2f\" %p_value)\n",
    "\n",
    "    # print the difference between mean of two distributions\n",
    "    print_avg_diff_dist(real_no_outl, sim_no_outl)\n",
    "\n",
    "    # print statistics\n",
    "    row_sim.append(row_real)"
   ]
  },
  {
   "cell_type": "code",
   "execution_count": 164,
   "metadata": {
    "scrolled": true
   },
   "outputs": [
    {
     "data": {
      "image/png": "[encoded data removed]",
      "text/plain": [
       "<Figure size 1080x360 with 2 Axes>"
      ]
     },
     "metadata": {
      "needs_background": "light"
     },
     "output_type": "display_data"
    },
    {
     "name": "stdout",
     "output_type": "stream",
     "text": [
      "p-value = 0.00\n"
     ]
    },
    {
     "data": {
      "text/markdown": [
       "$\\Delta \\mu = -154.65$ min [real - simulation]"
      ],
      "text/plain": [
       "<IPython.core.display.Markdown object>"
      ]
     },
     "metadata": {},
     "output_type": "display_data"
    },
    {
     "data": {
      "text/html": [
       "<div>\n",
       "<style scoped>\n",
       "    .dataframe tbody tr th:only-of-type {\n",
       "        vertical-align: middle;\n",
       "    }\n",
       "\n",
       "    .dataframe tbody tr th {\n",
       "        vertical-align: top;\n",
       "    }\n",
       "\n",
       "    .dataframe thead th {\n",
       "        text-align: right;\n",
       "    }\n",
       "</style>\n",
       "<table border=\"1\" class=\"dataframe\">\n",
       "  <thead>\n",
       "    <tr style=\"text-align: right;\">\n",
       "      <th></th>\n",
       "      <th>mean</th>\n",
       "      <th>std</th>\n",
       "      <th>outliers no</th>\n",
       "      <th>outliers %</th>\n",
       "      <th>q15</th>\n",
       "      <th>q85</th>\n",
       "    </tr>\n",
       "  </thead>\n",
       "  <tbody>\n",
       "    <tr>\n",
       "      <th>sim</th>\n",
       "      <td>187.24</td>\n",
       "      <td>234.23</td>\n",
       "      <td>0</td>\n",
       "      <td>0.0</td>\n",
       "      <td>29.20</td>\n",
       "      <td>532.18</td>\n",
       "    </tr>\n",
       "    <tr>\n",
       "      <th>real</th>\n",
       "      <td>32.59</td>\n",
       "      <td>10.07</td>\n",
       "      <td>0</td>\n",
       "      <td>0.0</td>\n",
       "      <td>22.89</td>\n",
       "      <td>43.06</td>\n",
       "    </tr>\n",
       "  </tbody>\n",
       "</table>\n",
       "</div>"
      ],
      "text/plain": [
       "        mean     std  outliers no  outliers %    q15     q85\n",
       "sim   187.24  234.23            0         0.0  29.20  532.18\n",
       "real   32.59   10.07            0         0.0  22.89   43.06"
      ]
     },
     "metadata": {},
     "output_type": "display_data"
    },
    {
     "data": {
      "text/html": [
       "<div>\n",
       "<style scoped>\n",
       "    .dataframe tbody tr th:only-of-type {\n",
       "        vertical-align: middle;\n",
       "    }\n",
       "\n",
       "    .dataframe tbody tr th {\n",
       "        vertical-align: top;\n",
       "    }\n",
       "\n",
       "    .dataframe thead th {\n",
       "        text-align: right;\n",
       "    }\n",
       "</style>\n",
       "<table border=\"1\" class=\"dataframe\">\n",
       "  <thead>\n",
       "    <tr style=\"text-align: right;\">\n",
       "      <th></th>\n",
       "      <th>activation_to_first_stacking</th>\n",
       "      <th>first_stacking_to_courier_start</th>\n",
       "      <th>start_to_pickup_time</th>\n",
       "      <th>waiting_pickup_time</th>\n",
       "      <th>pickup_to_delivery_time</th>\n",
       "      <th>waiting_delivery_time</th>\n",
       "    </tr>\n",
       "  </thead>\n",
       "  <tbody>\n",
       "    <tr>\n",
       "      <th>real</th>\n",
       "      <td>1.851149</td>\n",
       "      <td>3.018966</td>\n",
       "      <td>9.703640</td>\n",
       "      <td>6.340230</td>\n",
       "      <td>8.515709</td>\n",
       "      <td>2.968199</td>\n",
       "    </tr>\n",
       "    <tr>\n",
       "      <th>sim</th>\n",
       "      <td>101.745019</td>\n",
       "      <td>1.942529</td>\n",
       "      <td>10.294177</td>\n",
       "      <td>10.747585</td>\n",
       "      <td>8.670106</td>\n",
       "      <td>3.086441</td>\n",
       "    </tr>\n",
       "    <tr>\n",
       "      <th>diff</th>\n",
       "      <td>-99.893870</td>\n",
       "      <td>1.076437</td>\n",
       "      <td>-0.590537</td>\n",
       "      <td>-4.407355</td>\n",
       "      <td>-0.154397</td>\n",
       "      <td>-0.118241</td>\n",
       "    </tr>\n",
       "  </tbody>\n",
       "</table>\n",
       "</div>"
      ],
      "text/plain": [
       "      activation_to_first_stacking  first_stacking_to_courier_start  start_to_pickup_time  waiting_pickup_time  pickup_to_delivery_time  waiting_delivery_time\n",
       "real                      1.851149                         3.018966              9.703640             6.340230                 8.515709               2.968199\n",
       "sim                     101.745019                         1.942529             10.294177            10.747585                 8.670106               3.086441\n",
       "diff                    -99.893870                         1.076437             -0.590537            -4.407355                -0.154397              -0.118241"
      ]
     },
     "metadata": {},
     "output_type": "display_data"
    }
   ],
   "source": [
    "def plot_distr_by_day_with_comps(col, components):\n",
    "    # plot by day\n",
    "\n",
    "    # compute mean differences for each of the components metrics. \n",
    "    \n",
    "    avg_diff = []\n",
    "    for metric in components:\n",
    "        diff =  real_dt.loc[:, metric].mean() - sim_dt.loc[:, metric].mean() \n",
    "        avg_diff.append(diff)\n",
    "\n",
    "    # set percentiles\n",
    "    q1 = 15\n",
    "    q2 = 85\n",
    "\n",
    "    # identify outliers\n",
    "    real_no_outl, real_outl = detect_outliers(real_dt[col], q1, q2, 1.8)\n",
    "    sim_no_outl, sim_outl = detect_outliers(sim_dt[col], q1, q2, 1.8)\n",
    "\n",
    "    # compute statistics\n",
    "    row_real = get_statistics(real_no_outl, real_outl, \"real\", q1, q2)\n",
    "    row_sim = get_statistics(sim_no_outl, sim_outl, \"sim\", q1, q2)\n",
    "\n",
    "    \n",
    "    fig, (ax1, ax2) = plt.subplots(1, 2,figsize=(15,5))\n",
    "    fig.subplots_adjust(left=None, bottom=None, right=None, top=None, wspace=0.5, hspace=None)\n",
    "    \n",
    "    # plot distributions\n",
    "    ax1.hist(real_no_outl, bins=30, label='real', alpha=0.5, density=True)\n",
    "    ax1.hist(sim_no_outl, bins=30, color='r', label='simulation', alpha=0.5, density= True)\n",
    "    ax1.set_xlim((min(min(real_no_outl), min(sim_no_outl)), max(max(real_no_outl), max(sim_no_outl))))\n",
    "    ax1.legend()\n",
    "    ax1.set_xlabel(\"time[min]\")\n",
    "    ax1.set_title(col)\n",
    " \n",
    "    \n",
    "\n",
    "    ax2.plot(np.arange(len(avg_diff)), avg_diff)\n",
    "    ax2.set_xticks(np.arange(len(avg_diff)))\n",
    "    ax2.set_xticklabels(components, rotation='vertical')\n",
    "    ax2.set_ylabel(\"difference (real - simulation) [min]\")\n",
    "    ax2.set_title(\"Difference between simulation and real data by time component\")\n",
    "    ax2.grid()\n",
    "    \n",
    "    plt.show()\n",
    "\n",
    "    # compute ks test\n",
    "    kstat, p_value = ks_2samp(sim_no_outl, real_no_outl)\n",
    "    print(\"p-value = %.2f\" %p_value)\n",
    "\n",
    "    # print the difference between mean of two distributions\n",
    "    print_avg_diff(real_dt[col], sim_dt[col])\n",
    "    \n",
    "    # print statistics\n",
    "    display(row_sim.append(row_real))\n",
    "    \n",
    "    \n",
    "\n",
    "    \n",
    "plot_distr_by_day_with_comps(time, time_components)\n",
    "\n",
    "real_means = real_dt[time_components].apply(np.mean, axis = 0)\n",
    "sim_means = sim_dt[time_components].apply(np.mean, axis = 0)\n",
    "summary_real_sim = pd.DataFrame({'real': real_means, 'sim':sim_means})\n",
    "summary_real_sim['diff'] = summary_real_sim.real - summary_real_sim.sim\n",
    "summary_real_sim = summary_real_sim.T\n",
    "\n",
    "summary_real_sim = summary_real_sim[['activation_to_first_stacking', 'first_stacking_to_courier_start',\n",
    "       'start_to_pickup_time', 'waiting_pickup_time','pickup_to_delivery_time',\n",
    "        'waiting_delivery_time']]\n",
    "\n",
    "\n",
    "display(summary_real_sim)\n",
    "\n"
   ]
  },
  {
   "cell_type": "code",
   "execution_count": 165,
   "metadata": {},
   "outputs": [
    {
     "data": {
      "text/html": [
       "<div>\n",
       "<style scoped>\n",
       "    .dataframe tbody tr th:only-of-type {\n",
       "        vertical-align: middle;\n",
       "    }\n",
       "\n",
       "    .dataframe tbody tr th {\n",
       "        vertical-align: top;\n",
       "    }\n",
       "\n",
       "    .dataframe thead th {\n",
       "        text-align: right;\n",
       "    }\n",
       "</style>\n",
       "<table border=\"1\" class=\"dataframe\">\n",
       "  <thead>\n",
       "    <tr style=\"text-align: right;\">\n",
       "      <th></th>\n",
       "      <th>activation_time</th>\n",
       "      <th>courier_starts_order</th>\n",
       "      <th>order_id</th>\n",
       "      <th>partner_dispatch_to_enter_pickup</th>\n",
       "      <th>activation_to_partner_dispatch</th>\n",
       "      <th>waiting_delivery_time</th>\n",
       "      <th>pickup_to_delivery_time</th>\n",
       "      <th>food_getting_cold</th>\n",
       "      <th>waiting_pickup_time</th>\n",
       "      <th>start_to_pickup_time</th>\n",
       "      <th>last_stacking_to_courier_start</th>\n",
       "      <th>first_stacking_to_last_stacking</th>\n",
       "      <th>activation_to_first_stacking</th>\n",
       "      <th>customer_delivery_time</th>\n",
       "      <th>courier_delivery_time</th>\n",
       "      <th>prioritized_pickup</th>\n",
       "      <th>start_to_pickup_distance</th>\n",
       "      <th>first_stacking_to_courier_start</th>\n",
       "      <th>activation_time_date</th>\n",
       "      <th>activation_time_hour</th>\n",
       "    </tr>\n",
       "  </thead>\n",
       "  <tbody>\n",
       "    <tr>\n",
       "      <th>0</th>\n",
       "      <td>1900-01-01 00:00:31</td>\n",
       "      <td>09:52:00</td>\n",
       "      <td>81844642.0</td>\n",
       "      <td>1181.0</td>\n",
       "      <td>39089.0</td>\n",
       "      <td>0.933333</td>\n",
       "      <td>5.016667</td>\n",
       "      <td>0.0</td>\n",
       "      <td>0.000000</td>\n",
       "      <td>79.683333</td>\n",
       "      <td>0.0</td>\n",
       "      <td>0.0</td>\n",
       "      <td>591.483333</td>\n",
       "      <td>677.116667</td>\n",
       "      <td>85.633333</td>\n",
       "      <td>False</td>\n",
       "      <td>200</td>\n",
       "      <td>0.0</td>\n",
       "      <td>1900-01-01</td>\n",
       "      <td>0</td>\n",
       "    </tr>\n",
       "    <tr>\n",
       "      <th>1</th>\n",
       "      <td>1900-01-01 00:01:32</td>\n",
       "      <td>08:35:00</td>\n",
       "      <td>81844788.0</td>\n",
       "      <td>862.0</td>\n",
       "      <td>30301.0</td>\n",
       "      <td>2.616667</td>\n",
       "      <td>12.716667</td>\n",
       "      <td>0.0</td>\n",
       "      <td>0.633333</td>\n",
       "      <td>5.916667</td>\n",
       "      <td>720.0</td>\n",
       "      <td>0.0</td>\n",
       "      <td>501.466667</td>\n",
       "      <td>535.350000</td>\n",
       "      <td>21.883333</td>\n",
       "      <td>False</td>\n",
       "      <td>200</td>\n",
       "      <td>12.0</td>\n",
       "      <td>1900-01-01</td>\n",
       "      <td>0</td>\n",
       "    </tr>\n",
       "    <tr>\n",
       "      <th>2</th>\n",
       "      <td>1900-01-01 00:03:47</td>\n",
       "      <td>00:08:00</td>\n",
       "      <td>81845121.0</td>\n",
       "      <td>503.0</td>\n",
       "      <td>253.0</td>\n",
       "      <td>3.266667</td>\n",
       "      <td>10.333333</td>\n",
       "      <td>0.0</td>\n",
       "      <td>6.616667</td>\n",
       "      <td>8.383333</td>\n",
       "      <td>0.0</td>\n",
       "      <td>0.0</td>\n",
       "      <td>4.216667</td>\n",
       "      <td>32.816667</td>\n",
       "      <td>28.600000</td>\n",
       "      <td>False</td>\n",
       "      <td>200</td>\n",
       "      <td>0.0</td>\n",
       "      <td>1900-01-01</td>\n",
       "      <td>0</td>\n",
       "    </tr>\n",
       "    <tr>\n",
       "      <th>3</th>\n",
       "      <td>1900-01-01 00:05:41</td>\n",
       "      <td>09:58:00</td>\n",
       "      <td>81845420.0</td>\n",
       "      <td>731.0</td>\n",
       "      <td>36096.0</td>\n",
       "      <td>4.350000</td>\n",
       "      <td>8.683333</td>\n",
       "      <td>25.0</td>\n",
       "      <td>0.000000</td>\n",
       "      <td>21.466667</td>\n",
       "      <td>720.0</td>\n",
       "      <td>0.0</td>\n",
       "      <td>580.316667</td>\n",
       "      <td>626.816667</td>\n",
       "      <td>34.500000</td>\n",
       "      <td>False</td>\n",
       "      <td>200</td>\n",
       "      <td>12.0</td>\n",
       "      <td>1900-01-01</td>\n",
       "      <td>0</td>\n",
       "    </tr>\n",
       "    <tr>\n",
       "      <th>4</th>\n",
       "      <td>1900-01-01 00:06:17</td>\n",
       "      <td>09:47:00</td>\n",
       "      <td>81845509.0</td>\n",
       "      <td>900.0</td>\n",
       "      <td>35541.0</td>\n",
       "      <td>2.483333</td>\n",
       "      <td>5.016667</td>\n",
       "      <td>0.0</td>\n",
       "      <td>0.000000</td>\n",
       "      <td>26.633333</td>\n",
       "      <td>0.0</td>\n",
       "      <td>0.0</td>\n",
       "      <td>580.716667</td>\n",
       "      <td>614.850000</td>\n",
       "      <td>34.133333</td>\n",
       "      <td>False</td>\n",
       "      <td>200</td>\n",
       "      <td>0.0</td>\n",
       "      <td>1900-01-01</td>\n",
       "      <td>0</td>\n",
       "    </tr>\n",
       "  </tbody>\n",
       "</table>\n",
       "</div>"
      ],
      "text/plain": [
       "      activation_time courier_starts_order    order_id  partner_dispatch_to_enter_pickup  activation_to_partner_dispatch  waiting_delivery_time  pickup_to_delivery_time  food_getting_cold  waiting_pickup_time  start_to_pickup_time  last_stacking_to_courier_start  first_stacking_to_last_stacking  activation_to_first_stacking  customer_delivery_time  courier_delivery_time  prioritized_pickup  start_to_pickup_distance  first_stacking_to_courier_start activation_time_date  activation_time_hour\n",
       "0 1900-01-01 00:00:31             09:52:00  81844642.0                            1181.0                         39089.0               0.933333                 5.016667                0.0             0.000000             79.683333                             0.0                              0.0                    591.483333              677.116667              85.633333               False                       200                              0.0           1900-01-01                     0\n",
       "1 1900-01-01 00:01:32             08:35:00  81844788.0                             862.0                         30301.0               2.616667                12.716667                0.0             0.633333              5.916667                           720.0                              0.0                    501.466667              535.350000              21.883333               False                       200                             12.0           1900-01-01                     0\n",
       "2 1900-01-01 00:03:47             00:08:00  81845121.0                             503.0                           253.0               3.266667                10.333333                0.0             6.616667              8.383333                             0.0                              0.0                      4.216667               32.816667              28.600000               False                       200                              0.0           1900-01-01                     0\n",
       "3 1900-01-01 00:05:41             09:58:00  81845420.0                             731.0                         36096.0               4.350000                 8.683333               25.0             0.000000             21.466667                           720.0                              0.0                    580.316667              626.816667              34.500000               False                       200                             12.0           1900-01-01                     0\n",
       "4 1900-01-01 00:06:17             09:47:00  81845509.0                             900.0                         35541.0               2.483333                 5.016667                0.0             0.000000             26.633333                             0.0                              0.0                    580.716667              614.850000              34.133333               False                       200                              0.0           1900-01-01                     0"
      ]
     },
     "execution_count": 165,
     "metadata": {},
     "output_type": "execute_result"
    }
   ],
   "source": [
    "sim_dt.head()"
   ]
  },
  {
   "cell_type": "code",
   "execution_count": 166,
   "metadata": {},
   "outputs": [
    {
     "data": {
      "text/html": [
       "<div>\n",
       "<style scoped>\n",
       "    .dataframe tbody tr th:only-of-type {\n",
       "        vertical-align: middle;\n",
       "    }\n",
       "\n",
       "    .dataframe tbody tr th {\n",
       "        vertical-align: top;\n",
       "    }\n",
       "\n",
       "    .dataframe thead th {\n",
       "        text-align: right;\n",
       "    }\n",
       "</style>\n",
       "<table border=\"1\" class=\"dataframe\">\n",
       "  <thead>\n",
       "    <tr style=\"text-align: right;\">\n",
       "      <th></th>\n",
       "      <th>Unnamed: 0</th>\n",
       "      <th>order_id</th>\n",
       "      <th>city_code</th>\n",
       "      <th>courier_id</th>\n",
       "      <th>activation_time</th>\n",
       "      <th>activation_time_local</th>\n",
       "      <th>pickup</th>\n",
       "      <th>delivery</th>\n",
       "      <th>is_food</th>\n",
       "      <th>is_marketplace</th>\n",
       "      <th>partner_order</th>\n",
       "      <th>order_category</th>\n",
       "      <th>number_of_assignments</th>\n",
       "      <th>waiting_pickup_time</th>\n",
       "      <th>store_address_id</th>\n",
       "      <th>transport</th>\n",
       "      <th>category</th>\n",
       "      <th>final_status_x</th>\n",
       "      <th>delivery_latitude</th>\n",
       "      <th>delivery_longitude</th>\n",
       "      <th>pickup_latitude</th>\n",
       "      <th>pickup_longitude</th>\n",
       "      <th>point_creation_time</th>\n",
       "      <th>entering_delivery</th>\n",
       "      <th>entering_pickup</th>\n",
       "      <th>first_stacking</th>\n",
       "      <th>last_stacking</th>\n",
       "      <th>courier_start_latitude</th>\n",
       "      <th>courier_start_longitude</th>\n",
       "      <th>courier_start_local</th>\n",
       "      <th>courier_start</th>\n",
       "      <th>partner_dispatch</th>\n",
       "      <th>partner_accepted</th>\n",
       "      <th>store_id</th>\n",
       "      <th>prioritized_pickup</th>\n",
       "      <th>courier_delivery_time</th>\n",
       "      <th>customer_delivery_time</th>\n",
       "      <th>start_to_pickup_time</th>\n",
       "      <th>pickup_to_delivery_time</th>\n",
       "      <th>waiting_delivery_time</th>\n",
       "      <th>activation_to_partner_dispatch</th>\n",
       "      <th>partner_dispatch_to_enter_pickup</th>\n",
       "      <th>partner_dispatch_to_accept</th>\n",
       "      <th>activation_to_first_stacking</th>\n",
       "      <th>first_stacking_to_last_stacking</th>\n",
       "      <th>last_stacking_to_courier_start</th>\n",
       "      <th>pickup_to_delivery_distance</th>\n",
       "      <th>start_to_pickup_distance</th>\n",
       "      <th>first_stacking_to_courier_start</th>\n",
       "      <th>activation_time_date</th>\n",
       "      <th>activation_time_hour</th>\n",
       "      <th>final_status_y</th>\n",
       "      <th>reassigned</th>\n",
       "      <th>manual_assingment</th>\n",
       "      <th>orphan</th>\n",
       "      <th>cancelled_reassignment</th>\n",
       "      <th>Any_problem</th>\n",
       "    </tr>\n",
       "  </thead>\n",
       "  <tbody>\n",
       "    <tr>\n",
       "      <th>0</th>\n",
       "      <td>0</td>\n",
       "      <td>81901831</td>\n",
       "      <td>SEV</td>\n",
       "      <td>4025483.0</td>\n",
       "      <td>2019-12-01 07:25:41</td>\n",
       "      <td>2019-12-01 08:25:41.000</td>\n",
       "      <td>2019-12-01 07:42:18.706</td>\n",
       "      <td>2019-12-01 08:01:13.000</td>\n",
       "      <td>True</td>\n",
       "      <td>False</td>\n",
       "      <td>True</td>\n",
       "      <td>WALL - Partner</td>\n",
       "      <td>1</td>\n",
       "      <td>2.183333</td>\n",
       "      <td>23869.0</td>\n",
       "      <td>BICYCLE</td>\n",
       "      <td>MCDONALDS</td>\n",
       "      <td>DeliveredStatus</td>\n",
       "      <td>37.370790</td>\n",
       "      <td>-5.972510</td>\n",
       "      <td>37.391863</td>\n",
       "      <td>-5.975339</td>\n",
       "      <td>2019-12-01 07:25:40.000</td>\n",
       "      <td>2019-12-01 07:56:30.000</td>\n",
       "      <td>2019-12-01 07:40:07.000</td>\n",
       "      <td>2019-12-01 07:26:04.819</td>\n",
       "      <td>2019-12-01 07:26:04.819</td>\n",
       "      <td>37.392679</td>\n",
       "      <td>-5.970318</td>\n",
       "      <td>2019-12-01 08:26:06.071</td>\n",
       "      <td>2019-12-01 07:26:06.071</td>\n",
       "      <td>2019-12-01 07:26:15.000</td>\n",
       "      <td>2019-12-01 07:27:18.000</td>\n",
       "      <td>23869.0</td>\n",
       "      <td>False</td>\n",
       "      <td>35.100000</td>\n",
       "      <td>35.533333</td>\n",
       "      <td>14.000000</td>\n",
       "      <td>14.183333</td>\n",
       "      <td>4.716667</td>\n",
       "      <td>34</td>\n",
       "      <td>832</td>\n",
       "      <td>63</td>\n",
       "      <td>0.383333</td>\n",
       "      <td>0</td>\n",
       "      <td>1</td>\n",
       "      <td>2356.508537</td>\n",
       "      <td>452.739021</td>\n",
       "      <td>0.016667</td>\n",
       "      <td>2019-12-01</td>\n",
       "      <td>7</td>\n",
       "      <td>DeliveredStatus</td>\n",
       "      <td>False</td>\n",
       "      <td>False</td>\n",
       "      <td>False</td>\n",
       "      <td>False</td>\n",
       "      <td>False</td>\n",
       "    </tr>\n",
       "    <tr>\n",
       "      <th>1</th>\n",
       "      <td>1</td>\n",
       "      <td>81907294</td>\n",
       "      <td>SEV</td>\n",
       "      <td>12032938.0</td>\n",
       "      <td>2019-12-01 09:03:18</td>\n",
       "      <td>2019-12-01 10:03:18.000</td>\n",
       "      <td>2019-12-01 09:26:47.081</td>\n",
       "      <td>2019-12-01 09:36:28.000</td>\n",
       "      <td>True</td>\n",
       "      <td>False</td>\n",
       "      <td>True</td>\n",
       "      <td>WALL - Partner</td>\n",
       "      <td>1</td>\n",
       "      <td>6.433333</td>\n",
       "      <td>5029.0</td>\n",
       "      <td>MOTORBIKE</td>\n",
       "      <td>SNACK_IBERIA</td>\n",
       "      <td>DeliveredStatus</td>\n",
       "      <td>37.397680</td>\n",
       "      <td>-5.980350</td>\n",
       "      <td>37.394786</td>\n",
       "      <td>-5.991559</td>\n",
       "      <td>2019-12-01 09:03:17.000</td>\n",
       "      <td>2019-12-01 09:32:07.000</td>\n",
       "      <td>2019-12-01 09:20:20.000</td>\n",
       "      <td>2019-12-01 09:03:42.544</td>\n",
       "      <td>2019-12-01 09:03:42.544</td>\n",
       "      <td>37.388025</td>\n",
       "      <td>-6.001247</td>\n",
       "      <td>2019-12-01 10:03:43.430</td>\n",
       "      <td>2019-12-01 09:03:43.430</td>\n",
       "      <td>2019-12-01 09:03:55.000</td>\n",
       "      <td>2019-12-01 09:05:15.000</td>\n",
       "      <td>5029.0</td>\n",
       "      <td>False</td>\n",
       "      <td>32.733333</td>\n",
       "      <td>33.166667</td>\n",
       "      <td>16.600000</td>\n",
       "      <td>5.316667</td>\n",
       "      <td>4.350000</td>\n",
       "      <td>37</td>\n",
       "      <td>985</td>\n",
       "      <td>80</td>\n",
       "      <td>0.400000</td>\n",
       "      <td>0</td>\n",
       "      <td>0</td>\n",
       "      <td>1041.193017</td>\n",
       "      <td>1139.183308</td>\n",
       "      <td>0.000000</td>\n",
       "      <td>2019-12-01</td>\n",
       "      <td>9</td>\n",
       "      <td>DeliveredStatus</td>\n",
       "      <td>False</td>\n",
       "      <td>False</td>\n",
       "      <td>False</td>\n",
       "      <td>False</td>\n",
       "      <td>False</td>\n",
       "    </tr>\n",
       "    <tr>\n",
       "      <th>2</th>\n",
       "      <td>2</td>\n",
       "      <td>81926966</td>\n",
       "      <td>SEV</td>\n",
       "      <td>9126179.0</td>\n",
       "      <td>2019-12-01 11:47:18</td>\n",
       "      <td>2019-12-01 12:47:18.000</td>\n",
       "      <td>2019-12-01 12:14:12.747</td>\n",
       "      <td>2019-12-01 12:23:40.000</td>\n",
       "      <td>True</td>\n",
       "      <td>False</td>\n",
       "      <td>True</td>\n",
       "      <td>WALL - Partner</td>\n",
       "      <td>1</td>\n",
       "      <td>5.800000</td>\n",
       "      <td>68868.0</td>\n",
       "      <td>MOTORBIKE</td>\n",
       "      <td>MCDONALDS</td>\n",
       "      <td>DeliveredStatus</td>\n",
       "      <td>37.364153</td>\n",
       "      <td>-6.076765</td>\n",
       "      <td>37.378483</td>\n",
       "      <td>-6.082777</td>\n",
       "      <td>2019-12-01 11:47:17.000</td>\n",
       "      <td>2019-12-01 12:20:50.000</td>\n",
       "      <td>2019-12-01 12:08:24.000</td>\n",
       "      <td>2019-12-01 11:47:30.382</td>\n",
       "      <td>2019-12-01 11:48:31.609</td>\n",
       "      <td>37.374822</td>\n",
       "      <td>-5.999863</td>\n",
       "      <td>2019-12-01 12:55:39.246</td>\n",
       "      <td>2019-12-01 11:55:39.246</td>\n",
       "      <td>2019-12-01 11:58:55.000</td>\n",
       "      <td>2019-12-01 11:59:36.000</td>\n",
       "      <td>68868.0</td>\n",
       "      <td>True</td>\n",
       "      <td>28.000000</td>\n",
       "      <td>36.366667</td>\n",
       "      <td>12.733333</td>\n",
       "      <td>6.616667</td>\n",
       "      <td>2.833333</td>\n",
       "      <td>697</td>\n",
       "      <td>569</td>\n",
       "      <td>41</td>\n",
       "      <td>0.200000</td>\n",
       "      <td>61</td>\n",
       "      <td>427</td>\n",
       "      <td>1679.715036</td>\n",
       "      <td>7337.838725</td>\n",
       "      <td>8.133333</td>\n",
       "      <td>2019-12-01</td>\n",
       "      <td>11</td>\n",
       "      <td>DeliveredStatus</td>\n",
       "      <td>False</td>\n",
       "      <td>False</td>\n",
       "      <td>False</td>\n",
       "      <td>False</td>\n",
       "      <td>False</td>\n",
       "    </tr>\n",
       "    <tr>\n",
       "      <th>3</th>\n",
       "      <td>90</td>\n",
       "      <td>81906523</td>\n",
       "      <td>SEV</td>\n",
       "      <td>4025483.0</td>\n",
       "      <td>2019-12-01 08:52:50</td>\n",
       "      <td>2019-12-01 09:52:50.000</td>\n",
       "      <td>2019-12-01 09:10:47.316</td>\n",
       "      <td>2019-12-01 09:24:53.000</td>\n",
       "      <td>True</td>\n",
       "      <td>False</td>\n",
       "      <td>True</td>\n",
       "      <td>WALL - Partner</td>\n",
       "      <td>1</td>\n",
       "      <td>3.166667</td>\n",
       "      <td>12038.0</td>\n",
       "      <td>BICYCLE</td>\n",
       "      <td>SNACK_IBERIA</td>\n",
       "      <td>DeliveredStatus</td>\n",
       "      <td>37.376990</td>\n",
       "      <td>-6.005643</td>\n",
       "      <td>37.390365</td>\n",
       "      <td>-5.999953</td>\n",
       "      <td>2019-12-01 08:52:49.000</td>\n",
       "      <td>2019-12-01 09:20:57.000</td>\n",
       "      <td>2019-12-01 09:07:37.000</td>\n",
       "      <td>2019-12-01 08:53:32.799</td>\n",
       "      <td>2019-12-01 08:53:32.799</td>\n",
       "      <td>37.386569</td>\n",
       "      <td>-6.008723</td>\n",
       "      <td>2019-12-01 09:57:38.871</td>\n",
       "      <td>2019-12-01 08:57:38.871</td>\n",
       "      <td>2019-12-01 08:53:43.000</td>\n",
       "      <td>2019-12-01 08:56:32.000</td>\n",
       "      <td>12038.0</td>\n",
       "      <td>False</td>\n",
       "      <td>27.233333</td>\n",
       "      <td>32.050000</td>\n",
       "      <td>9.966667</td>\n",
       "      <td>10.150000</td>\n",
       "      <td>3.933333</td>\n",
       "      <td>53</td>\n",
       "      <td>834</td>\n",
       "      <td>169</td>\n",
       "      <td>0.700000</td>\n",
       "      <td>0</td>\n",
       "      <td>246</td>\n",
       "      <td>1569.957046</td>\n",
       "      <td>882.288803</td>\n",
       "      <td>4.100000</td>\n",
       "      <td>2019-12-01</td>\n",
       "      <td>8</td>\n",
       "      <td>DeliveredStatus</td>\n",
       "      <td>False</td>\n",
       "      <td>False</td>\n",
       "      <td>False</td>\n",
       "      <td>False</td>\n",
       "      <td>False</td>\n",
       "    </tr>\n",
       "    <tr>\n",
       "      <th>4</th>\n",
       "      <td>133</td>\n",
       "      <td>81912551</td>\n",
       "      <td>SEV</td>\n",
       "      <td>23067043.0</td>\n",
       "      <td>2019-12-01 10:02:27</td>\n",
       "      <td>2019-12-01 11:02:27.000</td>\n",
       "      <td>2019-12-01 10:24:15.613</td>\n",
       "      <td>2019-12-01 10:37:02.000</td>\n",
       "      <td>True</td>\n",
       "      <td>False</td>\n",
       "      <td>True</td>\n",
       "      <td>WALL - Partner</td>\n",
       "      <td>1</td>\n",
       "      <td>10.916667</td>\n",
       "      <td>5029.0</td>\n",
       "      <td>BICYCLE</td>\n",
       "      <td>SNACK_IBERIA</td>\n",
       "      <td>DeliveredStatus</td>\n",
       "      <td>37.407810</td>\n",
       "      <td>-5.986971</td>\n",
       "      <td>37.394786</td>\n",
       "      <td>-5.991559</td>\n",
       "      <td>2019-12-01 10:02:27.000</td>\n",
       "      <td>2019-12-01 10:33:45.000</td>\n",
       "      <td>2019-12-01 10:13:21.000</td>\n",
       "      <td>2019-12-01 10:02:40.996</td>\n",
       "      <td>2019-12-01 10:02:40.996</td>\n",
       "      <td>37.398470</td>\n",
       "      <td>-5.994010</td>\n",
       "      <td>2019-12-01 11:08:48.594</td>\n",
       "      <td>2019-12-01 10:08:48.594</td>\n",
       "      <td>2019-12-01 10:02:44.000</td>\n",
       "      <td>2019-12-01 10:04:09.000</td>\n",
       "      <td>5029.0</td>\n",
       "      <td>False</td>\n",
       "      <td>28.216667</td>\n",
       "      <td>34.583333</td>\n",
       "      <td>4.533333</td>\n",
       "      <td>9.483333</td>\n",
       "      <td>3.283333</td>\n",
       "      <td>17</td>\n",
       "      <td>637</td>\n",
       "      <td>85</td>\n",
       "      <td>0.216667</td>\n",
       "      <td>0</td>\n",
       "      <td>367</td>\n",
       "      <td>1503.882309</td>\n",
       "      <td>463.396156</td>\n",
       "      <td>6.116667</td>\n",
       "      <td>2019-12-01</td>\n",
       "      <td>10</td>\n",
       "      <td>DeliveredStatus</td>\n",
       "      <td>False</td>\n",
       "      <td>False</td>\n",
       "      <td>False</td>\n",
       "      <td>False</td>\n",
       "      <td>False</td>\n",
       "    </tr>\n",
       "  </tbody>\n",
       "</table>\n",
       "</div>"
      ],
      "text/plain": [
       "   Unnamed: 0  order_id city_code  courier_id     activation_time    activation_time_local                   pickup                 delivery  is_food  is_marketplace  partner_order  order_category  number_of_assignments  waiting_pickup_time  store_address_id  transport      category   final_status_x  delivery_latitude  delivery_longitude  pickup_latitude  pickup_longitude      point_creation_time        entering_delivery          entering_pickup           first_stacking            last_stacking  courier_start_latitude  courier_start_longitude      courier_start_local            courier_start         partner_dispatch         partner_accepted  store_id  prioritized_pickup  courier_delivery_time  customer_delivery_time  start_to_pickup_time  pickup_to_delivery_time  waiting_delivery_time  activation_to_partner_dispatch  partner_dispatch_to_enter_pickup  partner_dispatch_to_accept  activation_to_first_stacking  first_stacking_to_last_stacking  last_stacking_to_courier_start  \\\n",
       "0           0  81901831       SEV   4025483.0 2019-12-01 07:25:41  2019-12-01 08:25:41.000  2019-12-01 07:42:18.706  2019-12-01 08:01:13.000     True           False           True  WALL - Partner                      1             2.183333           23869.0    BICYCLE     MCDONALDS  DeliveredStatus          37.370790           -5.972510        37.391863         -5.975339  2019-12-01 07:25:40.000  2019-12-01 07:56:30.000  2019-12-01 07:40:07.000  2019-12-01 07:26:04.819  2019-12-01 07:26:04.819               37.392679                -5.970318  2019-12-01 08:26:06.071  2019-12-01 07:26:06.071  2019-12-01 07:26:15.000  2019-12-01 07:27:18.000   23869.0               False              35.100000               35.533333             14.000000                14.183333               4.716667                              34                               832                          63                      0.383333                                0                               1   \n",
       "1           1  81907294       SEV  12032938.0 2019-12-01 09:03:18  2019-12-01 10:03:18.000  2019-12-01 09:26:47.081  2019-12-01 09:36:28.000     True           False           True  WALL - Partner                      1             6.433333            5029.0  MOTORBIKE  SNACK_IBERIA  DeliveredStatus          37.397680           -5.980350        37.394786         -5.991559  2019-12-01 09:03:17.000  2019-12-01 09:32:07.000  2019-12-01 09:20:20.000  2019-12-01 09:03:42.544  2019-12-01 09:03:42.544               37.388025                -6.001247  2019-12-01 10:03:43.430  2019-12-01 09:03:43.430  2019-12-01 09:03:55.000  2019-12-01 09:05:15.000    5029.0               False              32.733333               33.166667             16.600000                 5.316667               4.350000                              37                               985                          80                      0.400000                                0                               0   \n",
       "2           2  81926966       SEV   9126179.0 2019-12-01 11:47:18  2019-12-01 12:47:18.000  2019-12-01 12:14:12.747  2019-12-01 12:23:40.000     True           False           True  WALL - Partner                      1             5.800000           68868.0  MOTORBIKE     MCDONALDS  DeliveredStatus          37.364153           -6.076765        37.378483         -6.082777  2019-12-01 11:47:17.000  2019-12-01 12:20:50.000  2019-12-01 12:08:24.000  2019-12-01 11:47:30.382  2019-12-01 11:48:31.609               37.374822                -5.999863  2019-12-01 12:55:39.246  2019-12-01 11:55:39.246  2019-12-01 11:58:55.000  2019-12-01 11:59:36.000   68868.0                True              28.000000               36.366667             12.733333                 6.616667               2.833333                             697                               569                          41                      0.200000                               61                             427   \n",
       "3          90  81906523       SEV   4025483.0 2019-12-01 08:52:50  2019-12-01 09:52:50.000  2019-12-01 09:10:47.316  2019-12-01 09:24:53.000     True           False           True  WALL - Partner                      1             3.166667           12038.0    BICYCLE  SNACK_IBERIA  DeliveredStatus          37.376990           -6.005643        37.390365         -5.999953  2019-12-01 08:52:49.000  2019-12-01 09:20:57.000  2019-12-01 09:07:37.000  2019-12-01 08:53:32.799  2019-12-01 08:53:32.799               37.386569                -6.008723  2019-12-01 09:57:38.871  2019-12-01 08:57:38.871  2019-12-01 08:53:43.000  2019-12-01 08:56:32.000   12038.0               False              27.233333               32.050000              9.966667                10.150000               3.933333                              53                               834                         169                      0.700000                                0                             246   \n",
       "4         133  81912551       SEV  23067043.0 2019-12-01 10:02:27  2019-12-01 11:02:27.000  2019-12-01 10:24:15.613  2019-12-01 10:37:02.000     True           False           True  WALL - Partner                      1            10.916667            5029.0    BICYCLE  SNACK_IBERIA  DeliveredStatus          37.407810           -5.986971        37.394786         -5.991559  2019-12-01 10:02:27.000  2019-12-01 10:33:45.000  2019-12-01 10:13:21.000  2019-12-01 10:02:40.996  2019-12-01 10:02:40.996               37.398470                -5.994010  2019-12-01 11:08:48.594  2019-12-01 10:08:48.594  2019-12-01 10:02:44.000  2019-12-01 10:04:09.000    5029.0               False              28.216667               34.583333              4.533333                 9.483333               3.283333                              17                               637                          85                      0.216667                                0                             367   \n",
       "\n",
       "   pickup_to_delivery_distance  start_to_pickup_distance  first_stacking_to_courier_start activation_time_date  activation_time_hour   final_status_y reassigned manual_assingment orphan cancelled_reassignment Any_problem  \n",
       "0                  2356.508537                452.739021                         0.016667           2019-12-01                     7  DeliveredStatus      False             False  False                  False       False  \n",
       "1                  1041.193017               1139.183308                         0.000000           2019-12-01                     9  DeliveredStatus      False             False  False                  False       False  \n",
       "2                  1679.715036               7337.838725                         8.133333           2019-12-01                    11  DeliveredStatus      False             False  False                  False       False  \n",
       "3                  1569.957046                882.288803                         4.100000           2019-12-01                     8  DeliveredStatus      False             False  False                  False       False  \n",
       "4                  1503.882309                463.396156                         6.116667           2019-12-01                    10  DeliveredStatus      False             False  False                  False       False  "
      ]
     },
     "execution_count": 166,
     "metadata": {},
     "output_type": "execute_result"
    }
   ],
   "source": [
    "real_dt.head()"
   ]
  },
  {
   "cell_type": "markdown",
   "metadata": {},
   "source": [
    "## Analysis by order category"
   ]
  },
  {
   "cell_type": "code",
   "execution_count": 202,
   "metadata": {},
   "outputs": [],
   "source": [
    "# faked pp flag\n",
    "sim_dt['order_category'] = 'WALL - Partner'"
   ]
  },
  {
   "cell_type": "code",
   "execution_count": 203,
   "metadata": {},
   "outputs": [],
   "source": [
    "# add order category based on reality data \n",
    "sim_dt = pd.merge(sim_dt, real_dt[[\"order_id\", \"prioritized_pickup\"]].drop_duplicates(),\n",
    "                 how=\"left\", on=\"order_id\")"
   ]
  },
  {
   "cell_type": "code",
   "execution_count": null,
   "metadata": {},
   "outputs": [],
   "source": []
  },
  {
   "cell_type": "code",
   "execution_count": 204,
   "metadata": {},
   "outputs": [
    {
     "data": {
      "image/png": "[encoded data removed]",
      "text/plain": [
       "<Figure size 1080x360 with 2 Axes>"
      ]
     },
     "metadata": {
      "needs_background": "light"
     },
     "output_type": "display_data"
    }
   ],
   "source": [
    "def plot_distr_by_day_with_order_category(col, components):\n",
    "    \n",
    "    # compute number of orders per category\n",
    "   \n",
    "    \n",
    "    r_partner=real_dt.loc[real_dt['order_category'] == 'WALL - Partner'][\"order_id\"].count()\n",
    "    r_fqs=real_dt.loc[(real_dt['order_category'] == \"WALL - NonPartner\") |\n",
    "                      (real_dt['order_category'] == \"COURIER\") |\n",
    "                      (real_dt['order_category'] == \"QUIERO\")][\"order_id\"].count()\n",
    "    r_pp=real_dt.loc[(real_dt['prioritized_pickup'] == True)][\"order_id\"].count()\n",
    "    \n",
    "    orders_real_count = pd.DataFrame({'Partner Normal': r_partner - r_pp,\n",
    "                                                   'Partner PP': r_pp,\n",
    "                                                  'F/Q/S': r_fqs}, \n",
    "                                    index=[0])\n",
    " \n",
    "    s_partner=sim_dt.loc[sim_dt['order_category'] == 'WALL - Partner'][\"order_id\"].count()\n",
    "    s_fqs=sim_dt.loc[(sim_dt['order_category'] == \"WALL - NonPartner\") |\n",
    "                      (sim_dt['order_category'] == \"COURIER\") |\n",
    "                      (sim_dt['order_category'] == \"QUIERO\")][\"order_id\"].count()\n",
    "    s_pp=sim_dt.loc[(sim_dt['prioritized_pickup'] == True)][\"order_id\"].count()\n",
    "    \n",
    "    orders_sim_count = pd.DataFrame({'Partner Normal': s_partner - s_pp,\n",
    "                                                   'Partner PP': s_pp,\n",
    "                                                  'F/Q/S': s_fqs},\n",
    "                                   index=[0])\n",
    "    \n",
    "    \n",
    "    fig, (ax1, ax2) = plt.subplots(1, 2,figsize=(15,5))\n",
    "    fig.subplots_adjust(left=None, bottom=None, right=None, top=None, wspace=0.5, hspace=None)\n",
    "    \n",
    "    # plot distributions\n",
    "    x = np.arange(orders_real_count.shape[1])  # the label locations\n",
    "    width = 0.3  # the width of the bars\n",
    "\n",
    "    rects1 = ax1.bar(x - width/2, orders_real_count.values[0], width, alpha=0.5, label='real')\n",
    "    rects2 = ax1.bar(x + width/2, orders_sim_count.values[0], width, color='r', alpha=0.5, label='sim')\n",
    "\n",
    "    # Add some text for labels, title and custom x-axis tick labels, etc.\n",
    "\n",
    "    ax1.set_xticks(x)\n",
    "    ax1.set_xticklabels(orders_real_count.columns, rotation='vertical')\n",
    "    ax1.legend()\n",
    "    \n",
    "    #real_dt['order_category'].value_counts().plot(kind='bar', ax=ax1)\n",
    "   # ax1.set_xlim((min(min(real_no_outl), min(sim_no_outl)), max(max(real_no_outl), max(sim_no_outl))))\n",
    "    #ax1.set_xlabel(\"order category\")\n",
    "    ax1.set_title(\"Number of orders per category\")\n",
    " \n",
    "    # compute mean differences for each of the components metrics. \n",
    "    \n",
    "    r_avg_partner=real_dt.loc[(real_dt['order_category'] == 'WALL - Partner')\n",
    "                             | (real_dt['prioritized_pickup'] != True)][col].mean()\n",
    "    r_avg_fqs=real_dt.loc[(real_dt['order_category'] == \"WALL - NonPartner\") |\n",
    "                      (real_dt['order_category'] == \"COURIER\") |\n",
    "                      (real_dt['order_category'] == \"QUIERO\")][col].mean()\n",
    "    r_pp=real_dt.loc[(real_dt['prioritized_pickup'] == True)][col].mean()\n",
    "    \n",
    " \n",
    "    s_avg_partner=sim_dt.loc[(sim_dt['order_category'] == 'WALL - Partner')\n",
    "                             | (sim_dt['prioritized_pickup'] != True)][col].mean()\n",
    "    s_avg_fqs=sim_dt.loc[(sim_dt['order_category'] == \"WALL - NonPartner\") |\n",
    "                      (sim_dt['order_category'] == \"COURIER\") |\n",
    "                      (sim_dt['order_category'] == \"QUIERO\")][col].mean()\n",
    "    s_pp=sim_dt.loc[(sim_dt['prioritized_pickup'] == True)][col].mean()\n",
    "    \n",
    "\n",
    "    avg_diff = [r_avg_partner - s_avg_partner, r_avg_fqs - s_avg_fqs, r_pp - s_pp]\n",
    "    ax2.plot(np.arange(len(avg_diff)), avg_diff, \"*\")\n",
    "    ax2.set_xticks(np.arange(len(avg_diff)))\n",
    "    ax2.set_xticklabels(orders_real_count.columns, rotation='vertical')\n",
    "    ax2.set_ylabel(\"difference (real - simulation) [min]\")\n",
    "    ax2.set_title(\"Difference between simulation and real data by order category\")\n",
    "    ax2.grid()\n",
    "    \n",
    "    plt.show()\n",
    "\n",
    "category_list = [\"Partner\", \"F/Q/S\", \"prioritized_pickup\"]\n",
    "\n",
    "plot_distr_by_day_with_order_category(\"customer_delivery_time\", category_list)\n"
   ]
  },
  {
   "cell_type": "markdown",
   "metadata": {},
   "source": [
    "### Partner Orders Normal (non PP)"
   ]
  },
  {
   "cell_type": "code",
   "execution_count": 205,
   "metadata": {},
   "outputs": [],
   "source": [
    "sim_dt[\"order_category\"] = 'WALL - Partner'"
   ]
  },
  {
   "cell_type": "code",
   "execution_count": 206,
   "metadata": {},
   "outputs": [
    {
     "data": {
      "image/png": "[encoded data removed]",
      "text/plain": [
       "<Figure size 1080x360 with 2 Axes>"
      ]
     },
     "metadata": {
      "needs_background": "light"
     },
     "output_type": "display_data"
    },
    {
     "name": "stdout",
     "output_type": "stream",
     "text": [
      "p-value = 0.00\n"
     ]
    },
    {
     "data": {
      "text/markdown": [
       "$\\Delta \\mu = -154.65$ min [real - simulation]"
      ],
      "text/plain": [
       "<IPython.core.display.Markdown object>"
      ]
     },
     "metadata": {},
     "output_type": "display_data"
    }
   ],
   "source": [
    "#percentiles\n",
    "q1 = 10\n",
    "q2 = 90\n",
    "th = 2\n",
    "   \n",
    "real_dt_partner=real_dt.loc[(real_dt['order_category'] == 'WALL - Partner')\n",
    "                             | (real_dt['prioritized_pickup'] != True)]\n",
    "sim_dt_partner=sim_dt.loc[(sim_dt['order_category'] == 'WALL - Partner')\n",
    "                             | (sim_dt['prioritized_pickup'] != True)]\n",
    "\n",
    "plot_time_comp_distr_and_hours(real_dt_partner, sim_dt_partner, 'customer_delivery_time')"
   ]
  },
  {
   "cell_type": "markdown",
   "metadata": {},
   "source": [
    "### Partner Orders Prioritized Pickup"
   ]
  },
  {
   "cell_type": "code",
   "execution_count": 207,
   "metadata": {},
   "outputs": [
    {
     "data": {
      "image/png": "[encoded data removed]",
      "text/plain": [
       "<Figure size 1080x360 with 2 Axes>"
      ]
     },
     "metadata": {
      "needs_background": "light"
     },
     "output_type": "display_data"
    },
    {
     "name": "stdout",
     "output_type": "stream",
     "text": [
      "p-value = 0.00\n"
     ]
    },
    {
     "data": {
      "text/markdown": [
       "$\\Delta \\mu = -80.37$ min [real - simulation]"
      ],
      "text/plain": [
       "<IPython.core.display.Markdown object>"
      ]
     },
     "metadata": {},
     "output_type": "display_data"
    }
   ],
   "source": [
    "#percentiles\n",
    "q1 = 5\n",
    "q2 = 95\n",
    "th = 2\n",
    "   \n",
    "real_dt_pp=real_dt.loc[real_dt['prioritized_pickup'] == True]\n",
    "sim_dt_pp=sim_dt.loc[sim_dt['prioritized_pickup'] == True]\n",
    "\n",
    "plot_time_comp_distr_and_hours(real_dt_pp, sim_dt_pp, 'customer_delivery_time')"
   ]
  },
  {
   "cell_type": "markdown",
   "metadata": {},
   "source": [
    "### Fake/Quiero/Shipment"
   ]
  },
  {
   "cell_type": "code",
   "execution_count": 208,
   "metadata": {},
   "outputs": [
    {
     "name": "stdout",
     "output_type": "stream",
     "text": [
      "Real data is empty\n"
     ]
    }
   ],
   "source": [
    "#percentiles\n",
    "q1 = 5\n",
    "q2 = 95\n",
    "th = 2\n",
    "\n",
    "    \n",
    "real_dt_fqs=real_dt.loc[(real_dt['order_category'] == \"WALL - NonPartner\") |\n",
    "                      (real_dt['order_category'] == \"COURIER\") |\n",
    "                      (real_dt['order_category'] == \"QUIERO\")]\n",
    "  \n",
    "sim_dt_fqs=sim_dt.loc[(sim_dt['order_category'] == \"WALL - NonPartner\") |\n",
    "                      (sim_dt['order_category'] == \"COURIER\") |\n",
    "                      (sim_dt['order_category'] == \"QUIERO\")]\n",
    "\n",
    "plot_time_comp_distr_and_hours(real_dt_fqs, sim_dt_fqs, 'customer_delivery_time')"
   ]
  },
  {
   "cell_type": "markdown",
   "metadata": {},
   "source": [
    "## Customer DT components analysis\n",
    "\n",
    "In this section, we will look at each of the components of the CDT\n",
    "\n",
    "### Activation to first stacked\n",
    "\n",
    "#### General overview\n",
    "\n"
   ]
  },
  {
   "cell_type": "code",
   "execution_count": 194,
   "metadata": {},
   "outputs": [
    {
     "data": {
      "image/png": "[encoded data removed]",
      "text/plain": [
       "<Figure size 1080x360 with 2 Axes>"
      ]
     },
     "metadata": {
      "needs_background": "light"
     },
     "output_type": "display_data"
    },
    {
     "name": "stdout",
     "output_type": "stream",
     "text": [
      "p-value = 0.02\n"
     ]
    },
    {
     "data": {
      "text/markdown": [
       "$\\Delta \\mu = -100.17$ min [real - simulation]"
      ],
      "text/plain": [
       "<IPython.core.display.Markdown object>"
      ]
     },
     "metadata": {},
     "output_type": "display_data"
    }
   ],
   "source": [
    "#percentiles\n",
    "q1 = 10\n",
    "q2 = 90\n",
    "th = 2\n",
    "\n",
    "plot_time_comp_distr_and_hours(real_dt, sim_dt,'activation_to_first_stacking')"
   ]
  },
  {
   "cell_type": "markdown",
   "metadata": {},
   "source": [
    "#### Edge cases review"
   ]
  },
  {
   "cell_type": "code",
   "execution_count": 195,
   "metadata": {},
   "outputs": [
    {
     "data": {
      "text/html": [
       "<div>\n",
       "<style scoped>\n",
       "    .dataframe tbody tr th:only-of-type {\n",
       "        vertical-align: middle;\n",
       "    }\n",
       "\n",
       "    .dataframe tbody tr th {\n",
       "        vertical-align: top;\n",
       "    }\n",
       "\n",
       "    .dataframe thead th {\n",
       "        text-align: right;\n",
       "    }\n",
       "</style>\n",
       "<table border=\"1\" class=\"dataframe\">\n",
       "  <thead>\n",
       "    <tr style=\"text-align: right;\">\n",
       "      <th></th>\n",
       "      <th>order_id</th>\n",
       "      <th>activation_to_first_stacking_x</th>\n",
       "      <th>activation_time_x</th>\n",
       "      <th>activation_to_first_stacking_y</th>\n",
       "      <th>activation_time_y</th>\n",
       "      <th>sim_real_activation_first_stack_gap</th>\n",
       "    </tr>\n",
       "  </thead>\n",
       "  <tbody>\n",
       "    <tr>\n",
       "      <th>10</th>\n",
       "      <td>81910652</td>\n",
       "      <td>9.500000</td>\n",
       "      <td>2019-12-01 09:41:59</td>\n",
       "      <td>0.016667</td>\n",
       "      <td>1900-01-01 10:41:59</td>\n",
       "      <td>9.483333</td>\n",
       "    </tr>\n",
       "    <tr>\n",
       "      <th>15</th>\n",
       "      <td>81918109</td>\n",
       "      <td>9.350000</td>\n",
       "      <td>2019-12-01 10:51:20</td>\n",
       "      <td>0.666667</td>\n",
       "      <td>1900-01-01 11:51:20</td>\n",
       "      <td>8.683333</td>\n",
       "    </tr>\n",
       "    <tr>\n",
       "      <th>61</th>\n",
       "      <td>81927615</td>\n",
       "      <td>4.183333</td>\n",
       "      <td>2019-12-01 11:50:26</td>\n",
       "      <td>0.566667</td>\n",
       "      <td>1900-01-01 12:50:26</td>\n",
       "      <td>3.616667</td>\n",
       "    </tr>\n",
       "    <tr>\n",
       "      <th>42</th>\n",
       "      <td>81846132</td>\n",
       "      <td>5.650000</td>\n",
       "      <td>2019-11-30 23:10:15</td>\n",
       "      <td>2.750000</td>\n",
       "      <td>1900-01-01 00:10:15</td>\n",
       "      <td>2.900000</td>\n",
       "    </tr>\n",
       "    <tr>\n",
       "      <th>56</th>\n",
       "      <td>81909688</td>\n",
       "      <td>2.800000</td>\n",
       "      <td>2019-12-01 09:31:24</td>\n",
       "      <td>0.600000</td>\n",
       "      <td>1900-01-01 10:31:24</td>\n",
       "      <td>2.200000</td>\n",
       "    </tr>\n",
       "    <tr>\n",
       "      <th>26</th>\n",
       "      <td>81929299</td>\n",
       "      <td>2.116667</td>\n",
       "      <td>2019-12-01 11:58:37</td>\n",
       "      <td>0.383333</td>\n",
       "      <td>1900-01-01 12:58:37</td>\n",
       "      <td>1.733333</td>\n",
       "    </tr>\n",
       "    <tr>\n",
       "      <th>17</th>\n",
       "      <td>81929197</td>\n",
       "      <td>2.666667</td>\n",
       "      <td>2019-12-01 11:58:04</td>\n",
       "      <td>0.933333</td>\n",
       "      <td>1900-01-01 12:58:04</td>\n",
       "      <td>1.733333</td>\n",
       "    </tr>\n",
       "    <tr>\n",
       "      <th>36</th>\n",
       "      <td>81921336</td>\n",
       "      <td>0.966667</td>\n",
       "      <td>2019-12-01 11:13:59</td>\n",
       "      <td>0.016667</td>\n",
       "      <td>1900-01-01 12:13:59</td>\n",
       "      <td>0.950000</td>\n",
       "    </tr>\n",
       "    <tr>\n",
       "      <th>41</th>\n",
       "      <td>81913234</td>\n",
       "      <td>0.866667</td>\n",
       "      <td>2019-12-01 10:08:55</td>\n",
       "      <td>0.083333</td>\n",
       "      <td>1900-01-01 11:08:55</td>\n",
       "      <td>0.783333</td>\n",
       "    </tr>\n",
       "    <tr>\n",
       "      <th>50</th>\n",
       "      <td>81912601</td>\n",
       "      <td>0.716667</td>\n",
       "      <td>2019-12-01 10:02:58</td>\n",
       "      <td>0.033333</td>\n",
       "      <td>1900-01-01 11:02:58</td>\n",
       "      <td>0.683333</td>\n",
       "    </tr>\n",
       "  </tbody>\n",
       "</table>\n",
       "</div>"
      ],
      "text/plain": [
       "    order_id  activation_to_first_stacking_x   activation_time_x  activation_to_first_stacking_y   activation_time_y  sim_real_activation_first_stack_gap\n",
       "10  81910652                        9.500000 2019-12-01 09:41:59                        0.016667 1900-01-01 10:41:59                             9.483333\n",
       "15  81918109                        9.350000 2019-12-01 10:51:20                        0.666667 1900-01-01 11:51:20                             8.683333\n",
       "61  81927615                        4.183333 2019-12-01 11:50:26                        0.566667 1900-01-01 12:50:26                             3.616667\n",
       "42  81846132                        5.650000 2019-11-30 23:10:15                        2.750000 1900-01-01 00:10:15                             2.900000\n",
       "56  81909688                        2.800000 2019-12-01 09:31:24                        0.600000 1900-01-01 10:31:24                             2.200000\n",
       "26  81929299                        2.116667 2019-12-01 11:58:37                        0.383333 1900-01-01 12:58:37                             1.733333\n",
       "17  81929197                        2.666667 2019-12-01 11:58:04                        0.933333 1900-01-01 12:58:04                             1.733333\n",
       "36  81921336                        0.966667 2019-12-01 11:13:59                        0.016667 1900-01-01 12:13:59                             0.950000\n",
       "41  81913234                        0.866667 2019-12-01 10:08:55                        0.083333 1900-01-01 11:08:55                             0.783333\n",
       "50  81912601                        0.716667 2019-12-01 10:02:58                        0.033333 1900-01-01 11:02:58                             0.683333"
      ]
     },
     "execution_count": 195,
     "metadata": {},
     "output_type": "execute_result"
    }
   ],
   "source": [
    "fields = ['order_id', 'activation_to_first_stacking', 'activation_time']\n",
    "\n",
    "#sim_dt.columns\n",
    "\n",
    "sim_real_activation_first_stack = pd.merge(real_dt[fields], sim_dt[fields], how = \"inner\", on = \"order_id\")\n",
    "sim_real_activation_first_stack['sim_real_activation_first_stack_gap'] = sim_real_activation_first_stack.activation_to_first_stacking_x - sim_real_activation_first_stack.activation_to_first_stacking_y\n",
    "\n",
    "sim_real_activation_first_stack = sim_real_activation_first_stack.sort_values('sim_real_activation_first_stack_gap', ascending = False)\n",
    "\n",
    "sim_real_activation_first_stack.head(10)"
   ]
  },
  {
   "cell_type": "markdown",
   "metadata": {},
   "source": [
    "### First stacked to started\n",
    "\n",
    "#### General overview\n"
   ]
  },
  {
   "cell_type": "code",
   "execution_count": 196,
   "metadata": {},
   "outputs": [
    {
     "data": {
      "image/png": "[encoded data removed]",
      "text/plain": [
       "<Figure size 1080x360 with 2 Axes>"
      ]
     },
     "metadata": {
      "needs_background": "light"
     },
     "output_type": "display_data"
    },
    {
     "name": "stdout",
     "output_type": "stream",
     "text": [
      "p-value = 0.00\n"
     ]
    },
    {
     "data": {
      "text/markdown": [
       "$\\Delta \\mu = 0.79$ min [real - simulation]"
      ],
      "text/plain": [
       "<IPython.core.display.Markdown object>"
      ]
     },
     "metadata": {},
     "output_type": "display_data"
    }
   ],
   "source": [
    "\n",
    "#percentiles\n",
    "q1 = 10\n",
    "q2 = 90\n",
    "th = 2\n",
    "\n",
    "plot_time_comp_distr_and_hours(real_dt, sim_dt,'first_stacking_to_courier_start')\n",
    "\n"
   ]
  },
  {
   "cell_type": "markdown",
   "metadata": {},
   "source": [
    "#### Edge cases review"
   ]
  },
  {
   "cell_type": "code",
   "execution_count": 197,
   "metadata": {},
   "outputs": [
    {
     "data": {
      "text/html": [
       "<div>\n",
       "<style scoped>\n",
       "    .dataframe tbody tr th:only-of-type {\n",
       "        vertical-align: middle;\n",
       "    }\n",
       "\n",
       "    .dataframe tbody tr th {\n",
       "        vertical-align: top;\n",
       "    }\n",
       "\n",
       "    .dataframe thead th {\n",
       "        text-align: right;\n",
       "    }\n",
       "</style>\n",
       "<table border=\"1\" class=\"dataframe\">\n",
       "  <thead>\n",
       "    <tr style=\"text-align: right;\">\n",
       "      <th></th>\n",
       "      <th>order_id</th>\n",
       "      <th>first_stacking_to_courier_start_x</th>\n",
       "      <th>first_stacking_to_courier_start_y</th>\n",
       "      <th>sim_real_first_stacking_courier_start_gap</th>\n",
       "    </tr>\n",
       "  </thead>\n",
       "  <tbody>\n",
       "    <tr>\n",
       "      <th>82</th>\n",
       "      <td>81917724</td>\n",
       "      <td>23.433333</td>\n",
       "      <td>0.0</td>\n",
       "      <td>23.433333</td>\n",
       "    </tr>\n",
       "    <tr>\n",
       "      <th>25</th>\n",
       "      <td>81904275</td>\n",
       "      <td>27.516667</td>\n",
       "      <td>10.0</td>\n",
       "      <td>17.516667</td>\n",
       "    </tr>\n",
       "    <tr>\n",
       "      <th>27</th>\n",
       "      <td>81920193</td>\n",
       "      <td>14.250000</td>\n",
       "      <td>0.0</td>\n",
       "      <td>14.250000</td>\n",
       "    </tr>\n",
       "    <tr>\n",
       "      <th>63</th>\n",
       "      <td>81917536</td>\n",
       "      <td>14.233333</td>\n",
       "      <td>0.0</td>\n",
       "      <td>14.233333</td>\n",
       "    </tr>\n",
       "    <tr>\n",
       "      <th>77</th>\n",
       "      <td>81927461</td>\n",
       "      <td>13.216667</td>\n",
       "      <td>0.0</td>\n",
       "      <td>13.216667</td>\n",
       "    </tr>\n",
       "    <tr>\n",
       "      <th>23</th>\n",
       "      <td>81927648</td>\n",
       "      <td>12.200000</td>\n",
       "      <td>0.0</td>\n",
       "      <td>12.200000</td>\n",
       "    </tr>\n",
       "    <tr>\n",
       "      <th>86</th>\n",
       "      <td>81893148</td>\n",
       "      <td>11.166667</td>\n",
       "      <td>0.0</td>\n",
       "      <td>11.166667</td>\n",
       "    </tr>\n",
       "    <tr>\n",
       "      <th>69</th>\n",
       "      <td>81928576</td>\n",
       "      <td>10.166667</td>\n",
       "      <td>0.0</td>\n",
       "      <td>10.166667</td>\n",
       "    </tr>\n",
       "    <tr>\n",
       "      <th>39</th>\n",
       "      <td>81918248</td>\n",
       "      <td>9.166667</td>\n",
       "      <td>0.0</td>\n",
       "      <td>9.166667</td>\n",
       "    </tr>\n",
       "    <tr>\n",
       "      <th>61</th>\n",
       "      <td>81927615</td>\n",
       "      <td>8.150000</td>\n",
       "      <td>0.0</td>\n",
       "      <td>8.150000</td>\n",
       "    </tr>\n",
       "  </tbody>\n",
       "</table>\n",
       "</div>"
      ],
      "text/plain": [
       "    order_id  first_stacking_to_courier_start_x  first_stacking_to_courier_start_y  sim_real_first_stacking_courier_start_gap\n",
       "82  81917724                          23.433333                                0.0                                  23.433333\n",
       "25  81904275                          27.516667                               10.0                                  17.516667\n",
       "27  81920193                          14.250000                                0.0                                  14.250000\n",
       "63  81917536                          14.233333                                0.0                                  14.233333\n",
       "77  81927461                          13.216667                                0.0                                  13.216667\n",
       "23  81927648                          12.200000                                0.0                                  12.200000\n",
       "86  81893148                          11.166667                                0.0                                  11.166667\n",
       "69  81928576                          10.166667                                0.0                                  10.166667\n",
       "39  81918248                           9.166667                                0.0                                   9.166667\n",
       "61  81927615                           8.150000                                0.0                                   8.150000"
      ]
     },
     "metadata": {},
     "output_type": "display_data"
    },
    {
     "data": {
      "text/html": [
       "<div>\n",
       "<style scoped>\n",
       "    .dataframe tbody tr th:only-of-type {\n",
       "        vertical-align: middle;\n",
       "    }\n",
       "\n",
       "    .dataframe tbody tr th {\n",
       "        vertical-align: top;\n",
       "    }\n",
       "\n",
       "    .dataframe thead th {\n",
       "        text-align: right;\n",
       "    }\n",
       "</style>\n",
       "<table border=\"1\" class=\"dataframe\">\n",
       "  <thead>\n",
       "    <tr style=\"text-align: right;\">\n",
       "      <th></th>\n",
       "      <th>order_id</th>\n",
       "      <th>first_stacking_to_courier_start_x</th>\n",
       "      <th>first_stacking_to_courier_start_y</th>\n",
       "      <th>sim_real_first_stacking_courier_start_gap</th>\n",
       "    </tr>\n",
       "  </thead>\n",
       "  <tbody>\n",
       "    <tr>\n",
       "      <th>66</th>\n",
       "      <td>81902218</td>\n",
       "      <td>0.016667</td>\n",
       "      <td>9.0</td>\n",
       "      <td>-8.983333</td>\n",
       "    </tr>\n",
       "    <tr>\n",
       "      <th>16</th>\n",
       "      <td>81848731</td>\n",
       "      <td>0.016667</td>\n",
       "      <td>9.0</td>\n",
       "      <td>-8.983333</td>\n",
       "    </tr>\n",
       "    <tr>\n",
       "      <th>80</th>\n",
       "      <td>81848717</td>\n",
       "      <td>0.000000</td>\n",
       "      <td>9.0</td>\n",
       "      <td>-9.000000</td>\n",
       "    </tr>\n",
       "    <tr>\n",
       "      <th>71</th>\n",
       "      <td>81845420</td>\n",
       "      <td>0.016667</td>\n",
       "      <td>12.0</td>\n",
       "      <td>-11.983333</td>\n",
       "    </tr>\n",
       "    <tr>\n",
       "      <th>59</th>\n",
       "      <td>81844788</td>\n",
       "      <td>0.016667</td>\n",
       "      <td>12.0</td>\n",
       "      <td>-11.983333</td>\n",
       "    </tr>\n",
       "    <tr>\n",
       "      <th>70</th>\n",
       "      <td>81845742</td>\n",
       "      <td>0.016667</td>\n",
       "      <td>13.0</td>\n",
       "      <td>-12.983333</td>\n",
       "    </tr>\n",
       "    <tr>\n",
       "      <th>9</th>\n",
       "      <td>81904756</td>\n",
       "      <td>0.016667</td>\n",
       "      <td>15.0</td>\n",
       "      <td>-14.983333</td>\n",
       "    </tr>\n",
       "    <tr>\n",
       "      <th>49</th>\n",
       "      <td>81850452</td>\n",
       "      <td>0.000000</td>\n",
       "      <td>15.0</td>\n",
       "      <td>-15.000000</td>\n",
       "    </tr>\n",
       "    <tr>\n",
       "      <th>0</th>\n",
       "      <td>81901831</td>\n",
       "      <td>0.016667</td>\n",
       "      <td>16.0</td>\n",
       "      <td>-15.983333</td>\n",
       "    </tr>\n",
       "    <tr>\n",
       "      <th>78</th>\n",
       "      <td>81846119</td>\n",
       "      <td>0.016667</td>\n",
       "      <td>18.0</td>\n",
       "      <td>-17.983333</td>\n",
       "    </tr>\n",
       "  </tbody>\n",
       "</table>\n",
       "</div>"
      ],
      "text/plain": [
       "    order_id  first_stacking_to_courier_start_x  first_stacking_to_courier_start_y  sim_real_first_stacking_courier_start_gap\n",
       "66  81902218                           0.016667                                9.0                                  -8.983333\n",
       "16  81848731                           0.016667                                9.0                                  -8.983333\n",
       "80  81848717                           0.000000                                9.0                                  -9.000000\n",
       "71  81845420                           0.016667                               12.0                                 -11.983333\n",
       "59  81844788                           0.016667                               12.0                                 -11.983333\n",
       "70  81845742                           0.016667                               13.0                                 -12.983333\n",
       "9   81904756                           0.016667                               15.0                                 -14.983333\n",
       "49  81850452                           0.000000                               15.0                                 -15.000000\n",
       "0   81901831                           0.016667                               16.0                                 -15.983333\n",
       "78  81846119                           0.016667                               18.0                                 -17.983333"
      ]
     },
     "metadata": {},
     "output_type": "display_data"
    },
    {
     "data": {
      "text/plain": [
       "count    87.000000\n",
       "mean      3.018966\n",
       "std       5.129776\n",
       "min       0.000000\n",
       "25%       0.016667\n",
       "50%       0.033333\n",
       "75%       5.091667\n",
       "max      27.516667\n",
       "Name: first_stacking_to_courier_start, dtype: float64"
      ]
     },
     "execution_count": 197,
     "metadata": {},
     "output_type": "execute_result"
    }
   ],
   "source": [
    "fields = ['order_id', 'first_stacking_to_courier_start']\n",
    "\n",
    "#sim_dt.columns\n",
    "\n",
    "sim_real_first_stack_courier_start = pd.merge(real_dt[fields], sim_dt[fields], how = \"inner\", on = \"order_id\")\n",
    "sim_real_first_stack_courier_start['sim_real_first_stacking_courier_start_gap'] = sim_real_first_stack_courier_start.first_stacking_to_courier_start_x - sim_real_first_stack_courier_start.first_stacking_to_courier_start_y\n",
    "\n",
    "sim_real_first_stack_courier_start = sim_real_first_stack_courier_start.sort_values('sim_real_first_stacking_courier_start_gap', ascending = False)\n",
    "\n",
    "\n",
    "display(sim_real_first_stack_courier_start.head(10))\n",
    "display(sim_real_first_stack_courier_start.tail(10))\n",
    "\n",
    "real_dt.first_stacking_to_courier_start.describe()"
   ]
  },
  {
   "cell_type": "markdown",
   "metadata": {},
   "source": [
    "### Started to enters pickup\n",
    "\n",
    "#### General overview"
   ]
  },
  {
   "cell_type": "code",
   "execution_count": 198,
   "metadata": {},
   "outputs": [
    {
     "data": {
      "image/png": "[encoded data removed]",
      "text/plain": [
       "<Figure size 1080x360 with 2 Axes>"
      ]
     },
     "metadata": {
      "needs_background": "light"
     },
     "output_type": "display_data"
    },
    {
     "name": "stdout",
     "output_type": "stream",
     "text": [
      "p-value = 0.32\n"
     ]
    },
    {
     "data": {
      "text/markdown": [
       "$\\Delta \\mu = 0.26$ min [real - simulation]"
      ],
      "text/plain": [
       "<IPython.core.display.Markdown object>"
      ]
     },
     "metadata": {},
     "output_type": "display_data"
    }
   ],
   "source": [
    "#percentiles\n",
    "q1 = 10\n",
    "q2 = 90\n",
    "th = 2\n",
    "\n",
    "plot_time_comp_distr_and_hours(real_dt, sim_dt,'start_to_pickup_time')"
   ]
  },
  {
   "cell_type": "markdown",
   "metadata": {},
   "source": [
    "#### Edge cases review"
   ]
  },
  {
   "cell_type": "code",
   "execution_count": 199,
   "metadata": {},
   "outputs": [
    {
     "data": {
      "text/html": [
       "<div>\n",
       "<style scoped>\n",
       "    .dataframe tbody tr th:only-of-type {\n",
       "        vertical-align: middle;\n",
       "    }\n",
       "\n",
       "    .dataframe tbody tr th {\n",
       "        vertical-align: top;\n",
       "    }\n",
       "\n",
       "    .dataframe thead th {\n",
       "        text-align: right;\n",
       "    }\n",
       "</style>\n",
       "<table border=\"1\" class=\"dataframe\">\n",
       "  <thead>\n",
       "    <tr style=\"text-align: right;\">\n",
       "      <th></th>\n",
       "      <th>order_id</th>\n",
       "      <th>start_to_pickup_time_x</th>\n",
       "      <th>start_to_pickup_time_y</th>\n",
       "      <th>sim_real_start_to_pickup_time_gap</th>\n",
       "    </tr>\n",
       "  </thead>\n",
       "  <tbody>\n",
       "    <tr>\n",
       "      <th>28</th>\n",
       "      <td>81915980</td>\n",
       "      <td>22.833333</td>\n",
       "      <td>3.500000</td>\n",
       "      <td>19.333333</td>\n",
       "    </tr>\n",
       "    <tr>\n",
       "      <th>12</th>\n",
       "      <td>81908950</td>\n",
       "      <td>17.933333</td>\n",
       "      <td>2.583333</td>\n",
       "      <td>15.350000</td>\n",
       "    </tr>\n",
       "    <tr>\n",
       "      <th>36</th>\n",
       "      <td>81921336</td>\n",
       "      <td>26.850000</td>\n",
       "      <td>11.683333</td>\n",
       "      <td>15.166667</td>\n",
       "    </tr>\n",
       "    <tr>\n",
       "      <th>32</th>\n",
       "      <td>81925728</td>\n",
       "      <td>17.816667</td>\n",
       "      <td>3.000000</td>\n",
       "      <td>14.816667</td>\n",
       "    </tr>\n",
       "    <tr>\n",
       "      <th>45</th>\n",
       "      <td>81919879</td>\n",
       "      <td>17.683333</td>\n",
       "      <td>3.950000</td>\n",
       "      <td>13.733333</td>\n",
       "    </tr>\n",
       "    <tr>\n",
       "      <th>33</th>\n",
       "      <td>81926385</td>\n",
       "      <td>12.900000</td>\n",
       "      <td>1.633333</td>\n",
       "      <td>11.266667</td>\n",
       "    </tr>\n",
       "    <tr>\n",
       "      <th>77</th>\n",
       "      <td>81927461</td>\n",
       "      <td>15.233333</td>\n",
       "      <td>3.966667</td>\n",
       "      <td>11.266667</td>\n",
       "    </tr>\n",
       "    <tr>\n",
       "      <th>1</th>\n",
       "      <td>81907294</td>\n",
       "      <td>16.600000</td>\n",
       "      <td>5.416667</td>\n",
       "      <td>11.183333</td>\n",
       "    </tr>\n",
       "    <tr>\n",
       "      <th>55</th>\n",
       "      <td>81925119</td>\n",
       "      <td>11.850000</td>\n",
       "      <td>1.016667</td>\n",
       "      <td>10.833333</td>\n",
       "    </tr>\n",
       "    <tr>\n",
       "      <th>31</th>\n",
       "      <td>81927301</td>\n",
       "      <td>13.333333</td>\n",
       "      <td>2.700000</td>\n",
       "      <td>10.633333</td>\n",
       "    </tr>\n",
       "  </tbody>\n",
       "</table>\n",
       "</div>"
      ],
      "text/plain": [
       "    order_id  start_to_pickup_time_x  start_to_pickup_time_y  sim_real_start_to_pickup_time_gap\n",
       "28  81915980               22.833333                3.500000                          19.333333\n",
       "12  81908950               17.933333                2.583333                          15.350000\n",
       "36  81921336               26.850000               11.683333                          15.166667\n",
       "32  81925728               17.816667                3.000000                          14.816667\n",
       "45  81919879               17.683333                3.950000                          13.733333\n",
       "33  81926385               12.900000                1.633333                          11.266667\n",
       "77  81927461               15.233333                3.966667                          11.266667\n",
       "1   81907294               16.600000                5.416667                          11.183333\n",
       "55  81925119               11.850000                1.016667                          10.833333\n",
       "31  81927301               13.333333                2.700000                          10.633333"
      ]
     },
     "metadata": {},
     "output_type": "display_data"
    },
    {
     "data": {
      "text/html": [
       "<div>\n",
       "<style scoped>\n",
       "    .dataframe tbody tr th:only-of-type {\n",
       "        vertical-align: middle;\n",
       "    }\n",
       "\n",
       "    .dataframe tbody tr th {\n",
       "        vertical-align: top;\n",
       "    }\n",
       "\n",
       "    .dataframe thead th {\n",
       "        text-align: right;\n",
       "    }\n",
       "</style>\n",
       "<table border=\"1\" class=\"dataframe\">\n",
       "  <thead>\n",
       "    <tr style=\"text-align: right;\">\n",
       "      <th></th>\n",
       "      <th>order_id</th>\n",
       "      <th>start_to_pickup_time_x</th>\n",
       "      <th>start_to_pickup_time_y</th>\n",
       "      <th>sim_real_start_to_pickup_time_gap</th>\n",
       "    </tr>\n",
       "  </thead>\n",
       "  <tbody>\n",
       "    <tr>\n",
       "      <th>83</th>\n",
       "      <td>81925485</td>\n",
       "      <td>5.250000</td>\n",
       "      <td>19.466667</td>\n",
       "      <td>-14.216667</td>\n",
       "    </tr>\n",
       "    <tr>\n",
       "      <th>80</th>\n",
       "      <td>81848717</td>\n",
       "      <td>7.233333</td>\n",
       "      <td>23.566667</td>\n",
       "      <td>-16.333333</td>\n",
       "    </tr>\n",
       "    <tr>\n",
       "      <th>14</th>\n",
       "      <td>81846239</td>\n",
       "      <td>13.050000</td>\n",
       "      <td>37.000000</td>\n",
       "      <td>-23.950000</td>\n",
       "    </tr>\n",
       "    <tr>\n",
       "      <th>42</th>\n",
       "      <td>81846132</td>\n",
       "      <td>2.766667</td>\n",
       "      <td>30.066667</td>\n",
       "      <td>-27.300000</td>\n",
       "    </tr>\n",
       "    <tr>\n",
       "      <th>10</th>\n",
       "      <td>81910652</td>\n",
       "      <td>7.533333</td>\n",
       "      <td>37.300000</td>\n",
       "      <td>-29.766667</td>\n",
       "    </tr>\n",
       "    <tr>\n",
       "      <th>22</th>\n",
       "      <td>81844642</td>\n",
       "      <td>31.916667</td>\n",
       "      <td>79.683333</td>\n",
       "      <td>-47.766667</td>\n",
       "    </tr>\n",
       "    <tr>\n",
       "      <th>17</th>\n",
       "      <td>81929197</td>\n",
       "      <td>0.116667</td>\n",
       "      <td>NaN</td>\n",
       "      <td>NaN</td>\n",
       "    </tr>\n",
       "    <tr>\n",
       "      <th>26</th>\n",
       "      <td>81929299</td>\n",
       "      <td>3.366667</td>\n",
       "      <td>NaN</td>\n",
       "      <td>NaN</td>\n",
       "    </tr>\n",
       "    <tr>\n",
       "      <th>64</th>\n",
       "      <td>81929213</td>\n",
       "      <td>22.333333</td>\n",
       "      <td>NaN</td>\n",
       "      <td>NaN</td>\n",
       "    </tr>\n",
       "    <tr>\n",
       "      <th>69</th>\n",
       "      <td>81928576</td>\n",
       "      <td>5.583333</td>\n",
       "      <td>NaN</td>\n",
       "      <td>NaN</td>\n",
       "    </tr>\n",
       "  </tbody>\n",
       "</table>\n",
       "</div>"
      ],
      "text/plain": [
       "    order_id  start_to_pickup_time_x  start_to_pickup_time_y  sim_real_start_to_pickup_time_gap\n",
       "83  81925485                5.250000               19.466667                         -14.216667\n",
       "80  81848717                7.233333               23.566667                         -16.333333\n",
       "14  81846239               13.050000               37.000000                         -23.950000\n",
       "42  81846132                2.766667               30.066667                         -27.300000\n",
       "10  81910652                7.533333               37.300000                         -29.766667\n",
       "22  81844642               31.916667               79.683333                         -47.766667\n",
       "17  81929197                0.116667                     NaN                                NaN\n",
       "26  81929299                3.366667                     NaN                                NaN\n",
       "64  81929213               22.333333                     NaN                                NaN\n",
       "69  81928576                5.583333                     NaN                                NaN"
      ]
     },
     "metadata": {},
     "output_type": "display_data"
    },
    {
     "data": {
      "text/plain": [
       "count    87.000000\n",
       "mean      9.703640\n",
       "std       6.457349\n",
       "min       0.083333\n",
       "25%       4.916667\n",
       "50%       8.266667\n",
       "75%      13.125000\n",
       "max      31.916667\n",
       "Name: start_to_pickup_time, dtype: float64"
      ]
     },
     "execution_count": 199,
     "metadata": {},
     "output_type": "execute_result"
    }
   ],
   "source": [
    "fields = ['order_id', 'start_to_pickup_time']\n",
    "\n",
    "#sim_dt.columns\n",
    "\n",
    "sim_real_start_to_pickup_time = pd.merge(real_dt[fields], sim_dt[fields], how = \"inner\", on = \"order_id\")\n",
    "sim_real_start_to_pickup_time['sim_real_start_to_pickup_time_gap'] = \\\n",
    "sim_real_start_to_pickup_time.start_to_pickup_time_x - sim_real_start_to_pickup_time.start_to_pickup_time_y\n",
    "\n",
    "sim_real_start_to_pickup_time= sim_real_start_to_pickup_time.sort_values('sim_real_start_to_pickup_time_gap', ascending = False)\n",
    "\n",
    "\n",
    "display(sim_real_start_to_pickup_time.head(10))\n",
    "display(sim_real_start_to_pickup_time.tail(10))\n",
    "\n",
    "real_dt.start_to_pickup_time.describe()"
   ]
  },
  {
   "cell_type": "markdown",
   "metadata": {},
   "source": [
    "#### SP distance"
   ]
  },
  {
   "cell_type": "code",
   "execution_count": 200,
   "metadata": {},
   "outputs": [],
   "source": [
    "def calculate_velocity(df, time_col, dist_col):\n",
    "    \n",
    "    # calculate the velocity as distance/time\n",
    "    df.loc[:, \"velocity\"] = df.loc[:, dist_col]/df.loc[:, time_col]\n",
    "    \n",
    "    # remove negative time predictions with <=0 s (cannot compute the velocity these cases )\n",
    "    df.loc[:, \"velocity\"] = df.loc[:, \"velocity\"].where(df.loc[:, time_col] >5,0)\n",
    "    df.loc[:, \"velocity\"] = df.loc[:, \"velocity\"].where(df.loc[:, dist_col] >1,0)\n",
    "    df.loc[:, \"velocity\"] = df.loc[:, \"velocity\"].where(df.loc[:, \"velocity\"] < 3*10**5,0)\n",
    "    \n",
    "    return df.loc[:, \"velocity\"]\n",
    "    "
   ]
  },
  {
   "cell_type": "code",
   "execution_count": 170,
   "metadata": {
    "scrolled": true
   },
   "outputs": [
    {
     "data": {
      "image/png": "[encoded data removed]",
      "text/plain": [
       "<Figure size 1080x360 with 2 Axes>"
      ]
     },
     "metadata": {
      "needs_background": "light"
     },
     "output_type": "display_data"
    },
    {
     "name": "stdout",
     "output_type": "stream",
     "text": [
      "p-value = 0.00\n"
     ]
    },
    {
     "data": {
      "text/markdown": [
       "$\\Delta \\mu = 1269.03$ m [real - simulation]"
      ],
      "text/plain": [
       "<IPython.core.display.Markdown object>"
      ]
     },
     "metadata": {},
     "output_type": "display_data"
    }
   ],
   "source": [
    "col = 'start_to_pickup_distance'\n",
    "\n",
    "#percentiles\n",
    "q1 = 10\n",
    "q2 = 75\n",
    "th = 2\n",
    "\n",
    "plot_dist_comp_distr_and_hours(col)"
   ]
  },
  {
   "cell_type": "markdown",
   "metadata": {},
   "source": [
    "#### SP velocity"
   ]
  },
  {
   "cell_type": "markdown",
   "metadata": {},
   "source": [
    "Overall distribution of velocity computed as sp distance/sp time."
   ]
  },
  {
   "cell_type": "code",
   "execution_count": 171,
   "metadata": {},
   "outputs": [],
   "source": [
    "real_dt.loc[:, \"sp_velocity\"]= calculate_velocity(real_dt, \"start_to_pickup_time\", \"start_to_pickup_distance\")\n",
    "sim_dt.loc[:, \"sp_velocity\"]= calculate_velocity(sim_dt, \"start_to_pickup_time\", \"start_to_pickup_distance\")\n"
   ]
  },
  {
   "cell_type": "code",
   "execution_count": 172,
   "metadata": {},
   "outputs": [
    {
     "data": {
      "image/png": "[encoded data removed]",
      "text/plain": [
       "<Figure size 468x360 with 1 Axes>"
      ]
     },
     "metadata": {
      "needs_background": "light"
     },
     "output_type": "display_data"
    }
   ],
   "source": [
    "\n",
    "tmp = real_dt.copy()\n",
    "tmp = tmp[tmp.velocity !=0]\n",
    "\n",
    "\n",
    "data1 = tmp.loc[:, \"start_to_pickup_distance\"]\n",
    "data2 = tmp.loc[:, \"sp_velocity\"]\n",
    "\n",
    "tmp1 = sim_dt.copy()\n",
    "tmp1 = tmp1[tmp1.velocity !=0]\n",
    "\n",
    "\n",
    "# plot distributions\n",
    "\n",
    "plt.subplots(figsize=(6.5,5))\n",
    "\n",
    "plt.title(\"Velocity distribution\")\n",
    "\n",
    "plt.hist(tmp[\"sp_velocity\"], label='real', alpha=0.5, density= True)\n",
    "plt.hist(tmp1[\"sp_velocity\"], color='r', label='simulation', alpha=0.5, density= True)\n",
    "#ax.set_xlim((min(min(real_no_outl), min(sim_no_outl)), max(max(real_no_outl), max(sim_no_outl))))\n",
    "plt.legend()\n",
    "plt.xlabel(\"velocity[m/s]\")\n",
    "plt.show()\n"
   ]
  },
  {
   "cell_type": "markdown",
   "metadata": {},
   "source": [
    "Below we check the dependence between velocity and distance. Comparing the real and simulation data we can check if we take into account the correlation during the simulation process."
   ]
  },
  {
   "cell_type": "code",
   "execution_count": 173,
   "metadata": {},
   "outputs": [
    {
     "name": "stderr",
     "output_type": "stream",
     "text": [
      "No handles with labels found to put in legend.\n"
     ]
    },
    {
     "data": {
      "image/png": "[encoded data removed]",
      "text/plain": [
       "<Figure size 1080x360 with 2 Axes>"
      ]
     },
     "metadata": {
      "needs_background": "light"
     },
     "output_type": "display_data"
    }
   ],
   "source": [
    "def create_colors_dict(data):\n",
    "    c=[\"m\",\"c\",\"g\",\"r\",\"b\"]\n",
    "    colors = {}\n",
    "    for transport in data[\"transport\"].unique():\n",
    "        colors[transport] = c.pop()\n",
    "    return colors\n",
    "    \n",
    "colors=create_colors_dict(tmp)\n",
    "# plot\n",
    "fig, (ax1, ax2) = plt.subplots(1, 2, figsize=(15,5))\n",
    "plt.subplot(1,2,1)\n",
    "plt.title(\"real\")\n",
    "plt.scatter(data1, data2)\n",
    "#plt.scatter(data1, data2, c=tmp['transport'].apply(lambda x: colors[x]), \n",
    "#            label=list(tmp[\"transport\"].unique()))\n",
    "#plt.legend(list(tmp[\"transport\"].unique()))\n",
    "\n",
    "plt.legend()\n",
    "\n",
    "plt.xlabel(\"distance [m]\")\n",
    "plt.ylabel(\"velocity [m/s] \")\n",
    "\n",
    "data1 = tmp1.loc[:, \"start_to_pickup_distance\"]\n",
    "data2 = tmp1.loc[:, \"sp_velocity\"]\n",
    "\n",
    "#colors=create_colors_dict(tmp1)\n",
    "# plot\n",
    "plt.subplot(1,2,2)\n",
    "plt.title(\"simulation\")\n",
    "#plt.scatter(data1, data2, c=tmp1['transport'].apply(lambda x: colors[x]))\n",
    "plt.scatter(data1, data2)\n",
    "plt.xlabel(\"distance [m]\")\n",
    "plt.ylabel(\"velocity [m/s] \")\n",
    "plt.suptitle(\"Velocity vs distance\")\n",
    "plt.show()\n",
    "\n",
    "plt.show()"
   ]
  },
  {
   "cell_type": "markdown",
   "metadata": {},
   "source": [
    "### Waiting time at pickup\n",
    "\n",
    "#### General overview\n"
   ]
  },
  {
   "cell_type": "code",
   "execution_count": 174,
   "metadata": {},
   "outputs": [
    {
     "data": {
      "image/png": "[encoded data removed]",
      "text/plain": [
       "<Figure size 1080x360 with 2 Axes>"
      ]
     },
     "metadata": {
      "needs_background": "light"
     },
     "output_type": "display_data"
    },
    {
     "name": "stdout",
     "output_type": "stream",
     "text": [
      "p-value = 0.00\n"
     ]
    },
    {
     "data": {
      "text/markdown": [
       "$\\Delta \\mu = -2.8$ min [real - simulation]"
      ],
      "text/plain": [
       "<IPython.core.display.Markdown object>"
      ]
     },
     "metadata": {},
     "output_type": "display_data"
    }
   ],
   "source": [
    "\n",
    "#percentiles\n",
    "q1 = 10\n",
    "q2 = 75\n",
    "th = 1.5\n",
    "\n",
    "plot_time_comp_distr_and_hours(real_dt, sim_dt,'waiting_pickup_time')\n",
    "\n"
   ]
  },
  {
   "cell_type": "markdown",
   "metadata": {},
   "source": [
    "#### Edge cases review"
   ]
  },
  {
   "cell_type": "code",
   "execution_count": 175,
   "metadata": {},
   "outputs": [
    {
     "data": {
      "text/html": [
       "<div>\n",
       "<style scoped>\n",
       "    .dataframe tbody tr th:only-of-type {\n",
       "        vertical-align: middle;\n",
       "    }\n",
       "\n",
       "    .dataframe tbody tr th {\n",
       "        vertical-align: top;\n",
       "    }\n",
       "\n",
       "    .dataframe thead th {\n",
       "        text-align: right;\n",
       "    }\n",
       "</style>\n",
       "<table border=\"1\" class=\"dataframe\">\n",
       "  <thead>\n",
       "    <tr style=\"text-align: right;\">\n",
       "      <th></th>\n",
       "      <th>order_id</th>\n",
       "      <th>waiting_pickup_time_x</th>\n",
       "      <th>waiting_pickup_time_y</th>\n",
       "      <th>sim_real_waiting_pickup_time_gap</th>\n",
       "    </tr>\n",
       "  </thead>\n",
       "  <tbody>\n",
       "    <tr>\n",
       "      <th>52</th>\n",
       "      <td>81908951</td>\n",
       "      <td>20.666667</td>\n",
       "      <td>0.000000</td>\n",
       "      <td>20.666667</td>\n",
       "    </tr>\n",
       "    <tr>\n",
       "      <th>70</th>\n",
       "      <td>81845742</td>\n",
       "      <td>19.916667</td>\n",
       "      <td>0.000000</td>\n",
       "      <td>19.916667</td>\n",
       "    </tr>\n",
       "    <tr>\n",
       "      <th>43</th>\n",
       "      <td>81909295</td>\n",
       "      <td>17.550000</td>\n",
       "      <td>0.466667</td>\n",
       "      <td>17.083333</td>\n",
       "    </tr>\n",
       "    <tr>\n",
       "      <th>78</th>\n",
       "      <td>81846119</td>\n",
       "      <td>14.416667</td>\n",
       "      <td>0.683333</td>\n",
       "      <td>13.733333</td>\n",
       "    </tr>\n",
       "    <tr>\n",
       "      <th>59</th>\n",
       "      <td>81844788</td>\n",
       "      <td>12.316667</td>\n",
       "      <td>0.633333</td>\n",
       "      <td>11.683333</td>\n",
       "    </tr>\n",
       "    <tr>\n",
       "      <th>83</th>\n",
       "      <td>81925485</td>\n",
       "      <td>9.166667</td>\n",
       "      <td>0.000000</td>\n",
       "      <td>9.166667</td>\n",
       "    </tr>\n",
       "    <tr>\n",
       "      <th>42</th>\n",
       "      <td>81846132</td>\n",
       "      <td>8.100000</td>\n",
       "      <td>0.000000</td>\n",
       "      <td>8.100000</td>\n",
       "    </tr>\n",
       "    <tr>\n",
       "      <th>74</th>\n",
       "      <td>81849545</td>\n",
       "      <td>7.050000</td>\n",
       "      <td>0.000000</td>\n",
       "      <td>7.050000</td>\n",
       "    </tr>\n",
       "    <tr>\n",
       "      <th>9</th>\n",
       "      <td>81904756</td>\n",
       "      <td>6.066667</td>\n",
       "      <td>0.050000</td>\n",
       "      <td>6.016667</td>\n",
       "    </tr>\n",
       "    <tr>\n",
       "      <th>81</th>\n",
       "      <td>81916070</td>\n",
       "      <td>15.383333</td>\n",
       "      <td>9.500000</td>\n",
       "      <td>5.883333</td>\n",
       "    </tr>\n",
       "  </tbody>\n",
       "</table>\n",
       "</div>"
      ],
      "text/plain": [
       "    order_id  waiting_pickup_time_x  waiting_pickup_time_y  sim_real_waiting_pickup_time_gap\n",
       "52  81908951              20.666667               0.000000                         20.666667\n",
       "70  81845742              19.916667               0.000000                         19.916667\n",
       "43  81909295              17.550000               0.466667                         17.083333\n",
       "78  81846119              14.416667               0.683333                         13.733333\n",
       "59  81844788              12.316667               0.633333                         11.683333\n",
       "83  81925485               9.166667               0.000000                          9.166667\n",
       "42  81846132               8.100000               0.000000                          8.100000\n",
       "74  81849545               7.050000               0.000000                          7.050000\n",
       "9   81904756               6.066667               0.050000                          6.016667\n",
       "81  81916070              15.383333               9.500000                          5.883333"
      ]
     },
     "metadata": {},
     "output_type": "display_data"
    },
    {
     "data": {
      "text/html": [
       "<div>\n",
       "<style scoped>\n",
       "    .dataframe tbody tr th:only-of-type {\n",
       "        vertical-align: middle;\n",
       "    }\n",
       "\n",
       "    .dataframe tbody tr th {\n",
       "        vertical-align: top;\n",
       "    }\n",
       "\n",
       "    .dataframe thead th {\n",
       "        text-align: right;\n",
       "    }\n",
       "</style>\n",
       "<table border=\"1\" class=\"dataframe\">\n",
       "  <thead>\n",
       "    <tr style=\"text-align: right;\">\n",
       "      <th></th>\n",
       "      <th>order_id</th>\n",
       "      <th>waiting_pickup_time_x</th>\n",
       "      <th>waiting_pickup_time_y</th>\n",
       "      <th>sim_real_waiting_pickup_time_gap</th>\n",
       "    </tr>\n",
       "  </thead>\n",
       "  <tbody>\n",
       "    <tr>\n",
       "      <th>47</th>\n",
       "      <td>81928009</td>\n",
       "      <td>5.483333</td>\n",
       "      <td>NaN</td>\n",
       "      <td>NaN</td>\n",
       "    </tr>\n",
       "    <tr>\n",
       "      <th>55</th>\n",
       "      <td>81925119</td>\n",
       "      <td>15.966667</td>\n",
       "      <td>NaN</td>\n",
       "      <td>NaN</td>\n",
       "    </tr>\n",
       "    <tr>\n",
       "      <th>57</th>\n",
       "      <td>81927950</td>\n",
       "      <td>3.550000</td>\n",
       "      <td>NaN</td>\n",
       "      <td>NaN</td>\n",
       "    </tr>\n",
       "    <tr>\n",
       "      <th>58</th>\n",
       "      <td>81928336</td>\n",
       "      <td>12.233333</td>\n",
       "      <td>NaN</td>\n",
       "      <td>NaN</td>\n",
       "    </tr>\n",
       "    <tr>\n",
       "      <th>61</th>\n",
       "      <td>81927615</td>\n",
       "      <td>3.366667</td>\n",
       "      <td>NaN</td>\n",
       "      <td>NaN</td>\n",
       "    </tr>\n",
       "    <tr>\n",
       "      <th>64</th>\n",
       "      <td>81929213</td>\n",
       "      <td>1.066667</td>\n",
       "      <td>NaN</td>\n",
       "      <td>NaN</td>\n",
       "    </tr>\n",
       "    <tr>\n",
       "      <th>69</th>\n",
       "      <td>81928576</td>\n",
       "      <td>0.883333</td>\n",
       "      <td>NaN</td>\n",
       "      <td>NaN</td>\n",
       "    </tr>\n",
       "    <tr>\n",
       "      <th>76</th>\n",
       "      <td>81923195</td>\n",
       "      <td>18.333333</td>\n",
       "      <td>NaN</td>\n",
       "      <td>NaN</td>\n",
       "    </tr>\n",
       "    <tr>\n",
       "      <th>77</th>\n",
       "      <td>81927461</td>\n",
       "      <td>4.133333</td>\n",
       "      <td>NaN</td>\n",
       "      <td>NaN</td>\n",
       "    </tr>\n",
       "    <tr>\n",
       "      <th>85</th>\n",
       "      <td>81922886</td>\n",
       "      <td>3.466667</td>\n",
       "      <td>NaN</td>\n",
       "      <td>NaN</td>\n",
       "    </tr>\n",
       "  </tbody>\n",
       "</table>\n",
       "</div>"
      ],
      "text/plain": [
       "    order_id  waiting_pickup_time_x  waiting_pickup_time_y  sim_real_waiting_pickup_time_gap\n",
       "47  81928009               5.483333                    NaN                               NaN\n",
       "55  81925119              15.966667                    NaN                               NaN\n",
       "57  81927950               3.550000                    NaN                               NaN\n",
       "58  81928336              12.233333                    NaN                               NaN\n",
       "61  81927615               3.366667                    NaN                               NaN\n",
       "64  81929213               1.066667                    NaN                               NaN\n",
       "69  81928576               0.883333                    NaN                               NaN\n",
       "76  81923195              18.333333                    NaN                               NaN\n",
       "77  81927461               4.133333                    NaN                               NaN\n",
       "85  81922886               3.466667                    NaN                               NaN"
      ]
     },
     "metadata": {},
     "output_type": "display_data"
    },
    {
     "data": {
      "text/plain": [
       "count    87.000000\n",
       "mean      6.340230\n",
       "std       4.896686\n",
       "min       0.200000\n",
       "25%       2.400000\n",
       "50%       5.483333\n",
       "75%       8.483333\n",
       "max      20.666667\n",
       "Name: waiting_pickup_time, dtype: float64"
      ]
     },
     "execution_count": 175,
     "metadata": {},
     "output_type": "execute_result"
    }
   ],
   "source": [
    "fields = ['order_id', 'waiting_pickup_time']\n",
    "\n",
    "#sim_dt.columns\n",
    "\n",
    "sim_real_waiting_pickup_time = pd.merge(real_dt[fields], sim_dt[fields], how = \"inner\", on = \"order_id\")\n",
    "sim_real_waiting_pickup_time['sim_real_waiting_pickup_time_gap'] = \\\n",
    "sim_real_waiting_pickup_time.waiting_pickup_time_x - sim_real_waiting_pickup_time.waiting_pickup_time_y\n",
    "\n",
    "sim_real_waiting_pickup_time= sim_real_waiting_pickup_time.sort_values('sim_real_waiting_pickup_time_gap', ascending = False)\n",
    "\n",
    "\n",
    "display(sim_real_waiting_pickup_time.head(10))\n",
    "display(sim_real_waiting_pickup_time.tail(10))\n",
    "\n",
    "real_dt.waiting_pickup_time.describe()"
   ]
  },
  {
   "cell_type": "markdown",
   "metadata": {},
   "source": [
    "### Pickup to delivery time\n",
    "\n",
    "#### General overview"
   ]
  },
  {
   "cell_type": "code",
   "execution_count": 176,
   "metadata": {},
   "outputs": [
    {
     "data": {
      "image/png": "[encoded data removed]",
      "text/plain": [
       "<Figure size 1080x360 with 2 Axes>"
      ]
     },
     "metadata": {
      "needs_background": "light"
     },
     "output_type": "display_data"
    },
    {
     "name": "stdout",
     "output_type": "stream",
     "text": [
      "p-value = 1.00\n"
     ]
    },
    {
     "data": {
      "text/markdown": [
       "$\\Delta \\mu = -0.15$ min [real - simulation]"
      ],
      "text/plain": [
       "<IPython.core.display.Markdown object>"
      ]
     },
     "metadata": {},
     "output_type": "display_data"
    }
   ],
   "source": [
    "#percentiles\n",
    "q1 = 10\n",
    "q2 = 90\n",
    "th = 2\n",
    "\n",
    "plot_time_comp_distr_and_hours(real_dt, sim_dt,'pickup_to_delivery_time')"
   ]
  },
  {
   "cell_type": "markdown",
   "metadata": {},
   "source": [
    "#### Edge cases review"
   ]
  },
  {
   "cell_type": "code",
   "execution_count": 177,
   "metadata": {},
   "outputs": [
    {
     "data": {
      "text/html": [
       "<div>\n",
       "<style scoped>\n",
       "    .dataframe tbody tr th:only-of-type {\n",
       "        vertical-align: middle;\n",
       "    }\n",
       "\n",
       "    .dataframe tbody tr th {\n",
       "        vertical-align: top;\n",
       "    }\n",
       "\n",
       "    .dataframe thead th {\n",
       "        text-align: right;\n",
       "    }\n",
       "</style>\n",
       "<table border=\"1\" class=\"dataframe\">\n",
       "  <thead>\n",
       "    <tr style=\"text-align: right;\">\n",
       "      <th></th>\n",
       "      <th>order_id</th>\n",
       "      <th>pickup_to_delivery_time_x</th>\n",
       "      <th>pickup_to_delivery_time_y</th>\n",
       "      <th>sim_real_pickup_to_delivery_time_gap</th>\n",
       "    </tr>\n",
       "  </thead>\n",
       "  <tbody>\n",
       "    <tr>\n",
       "      <th>0</th>\n",
       "      <td>81901831</td>\n",
       "      <td>14.183333</td>\n",
       "      <td>14.183333</td>\n",
       "      <td>0.0</td>\n",
       "    </tr>\n",
       "    <tr>\n",
       "      <th>65</th>\n",
       "      <td>81848029</td>\n",
       "      <td>8.066667</td>\n",
       "      <td>8.066667</td>\n",
       "      <td>0.0</td>\n",
       "    </tr>\n",
       "    <tr>\n",
       "      <th>45</th>\n",
       "      <td>81919879</td>\n",
       "      <td>5.566667</td>\n",
       "      <td>5.566667</td>\n",
       "      <td>0.0</td>\n",
       "    </tr>\n",
       "    <tr>\n",
       "      <th>46</th>\n",
       "      <td>81914126</td>\n",
       "      <td>18.516667</td>\n",
       "      <td>18.516667</td>\n",
       "      <td>0.0</td>\n",
       "    </tr>\n",
       "    <tr>\n",
       "      <th>48</th>\n",
       "      <td>81915968</td>\n",
       "      <td>8.100000</td>\n",
       "      <td>8.100000</td>\n",
       "      <td>0.0</td>\n",
       "    </tr>\n",
       "    <tr>\n",
       "      <th>49</th>\n",
       "      <td>81850452</td>\n",
       "      <td>9.966667</td>\n",
       "      <td>9.966667</td>\n",
       "      <td>0.0</td>\n",
       "    </tr>\n",
       "    <tr>\n",
       "      <th>50</th>\n",
       "      <td>81912601</td>\n",
       "      <td>3.400000</td>\n",
       "      <td>3.400000</td>\n",
       "      <td>0.0</td>\n",
       "    </tr>\n",
       "    <tr>\n",
       "      <th>52</th>\n",
       "      <td>81908951</td>\n",
       "      <td>9.300000</td>\n",
       "      <td>9.300000</td>\n",
       "      <td>0.0</td>\n",
       "    </tr>\n",
       "    <tr>\n",
       "      <th>53</th>\n",
       "      <td>81909503</td>\n",
       "      <td>9.783333</td>\n",
       "      <td>9.783333</td>\n",
       "      <td>0.0</td>\n",
       "    </tr>\n",
       "    <tr>\n",
       "      <th>54</th>\n",
       "      <td>81923888</td>\n",
       "      <td>3.933333</td>\n",
       "      <td>3.933333</td>\n",
       "      <td>0.0</td>\n",
       "    </tr>\n",
       "  </tbody>\n",
       "</table>\n",
       "</div>"
      ],
      "text/plain": [
       "    order_id  pickup_to_delivery_time_x  pickup_to_delivery_time_y  sim_real_pickup_to_delivery_time_gap\n",
       "0   81901831                  14.183333                  14.183333                                   0.0\n",
       "65  81848029                   8.066667                   8.066667                                   0.0\n",
       "45  81919879                   5.566667                   5.566667                                   0.0\n",
       "46  81914126                  18.516667                  18.516667                                   0.0\n",
       "48  81915968                   8.100000                   8.100000                                   0.0\n",
       "49  81850452                   9.966667                   9.966667                                   0.0\n",
       "50  81912601                   3.400000                   3.400000                                   0.0\n",
       "52  81908951                   9.300000                   9.300000                                   0.0\n",
       "53  81909503                   9.783333                   9.783333                                   0.0\n",
       "54  81923888                   3.933333                   3.933333                                   0.0"
      ]
     },
     "metadata": {},
     "output_type": "display_data"
    },
    {
     "data": {
      "text/html": [
       "<div>\n",
       "<style scoped>\n",
       "    .dataframe tbody tr th:only-of-type {\n",
       "        vertical-align: middle;\n",
       "    }\n",
       "\n",
       "    .dataframe tbody tr th {\n",
       "        vertical-align: top;\n",
       "    }\n",
       "\n",
       "    .dataframe thead th {\n",
       "        text-align: right;\n",
       "    }\n",
       "</style>\n",
       "<table border=\"1\" class=\"dataframe\">\n",
       "  <thead>\n",
       "    <tr style=\"text-align: right;\">\n",
       "      <th></th>\n",
       "      <th>order_id</th>\n",
       "      <th>pickup_to_delivery_time_x</th>\n",
       "      <th>pickup_to_delivery_time_y</th>\n",
       "      <th>sim_real_pickup_to_delivery_time_gap</th>\n",
       "    </tr>\n",
       "  </thead>\n",
       "  <tbody>\n",
       "    <tr>\n",
       "      <th>57</th>\n",
       "      <td>81927950</td>\n",
       "      <td>11.966667</td>\n",
       "      <td>NaN</td>\n",
       "      <td>NaN</td>\n",
       "    </tr>\n",
       "    <tr>\n",
       "      <th>58</th>\n",
       "      <td>81928336</td>\n",
       "      <td>13.100000</td>\n",
       "      <td>NaN</td>\n",
       "      <td>NaN</td>\n",
       "    </tr>\n",
       "    <tr>\n",
       "      <th>61</th>\n",
       "      <td>81927615</td>\n",
       "      <td>10.033333</td>\n",
       "      <td>NaN</td>\n",
       "      <td>NaN</td>\n",
       "    </tr>\n",
       "    <tr>\n",
       "      <th>64</th>\n",
       "      <td>81929213</td>\n",
       "      <td>4.266667</td>\n",
       "      <td>NaN</td>\n",
       "      <td>NaN</td>\n",
       "    </tr>\n",
       "    <tr>\n",
       "      <th>69</th>\n",
       "      <td>81928576</td>\n",
       "      <td>5.700000</td>\n",
       "      <td>NaN</td>\n",
       "      <td>NaN</td>\n",
       "    </tr>\n",
       "    <tr>\n",
       "      <th>76</th>\n",
       "      <td>81923195</td>\n",
       "      <td>5.416667</td>\n",
       "      <td>NaN</td>\n",
       "      <td>NaN</td>\n",
       "    </tr>\n",
       "    <tr>\n",
       "      <th>77</th>\n",
       "      <td>81927461</td>\n",
       "      <td>4.733333</td>\n",
       "      <td>NaN</td>\n",
       "      <td>NaN</td>\n",
       "    </tr>\n",
       "    <tr>\n",
       "      <th>83</th>\n",
       "      <td>81925485</td>\n",
       "      <td>7.033333</td>\n",
       "      <td>NaN</td>\n",
       "      <td>NaN</td>\n",
       "    </tr>\n",
       "    <tr>\n",
       "      <th>84</th>\n",
       "      <td>81924441</td>\n",
       "      <td>15.583333</td>\n",
       "      <td>NaN</td>\n",
       "      <td>NaN</td>\n",
       "    </tr>\n",
       "    <tr>\n",
       "      <th>85</th>\n",
       "      <td>81922886</td>\n",
       "      <td>11.100000</td>\n",
       "      <td>NaN</td>\n",
       "      <td>NaN</td>\n",
       "    </tr>\n",
       "  </tbody>\n",
       "</table>\n",
       "</div>"
      ],
      "text/plain": [
       "    order_id  pickup_to_delivery_time_x  pickup_to_delivery_time_y  sim_real_pickup_to_delivery_time_gap\n",
       "57  81927950                  11.966667                        NaN                                   NaN\n",
       "58  81928336                  13.100000                        NaN                                   NaN\n",
       "61  81927615                  10.033333                        NaN                                   NaN\n",
       "64  81929213                   4.266667                        NaN                                   NaN\n",
       "69  81928576                   5.700000                        NaN                                   NaN\n",
       "76  81923195                   5.416667                        NaN                                   NaN\n",
       "77  81927461                   4.733333                        NaN                                   NaN\n",
       "83  81925485                   7.033333                        NaN                                   NaN\n",
       "84  81924441                  15.583333                        NaN                                   NaN\n",
       "85  81922886                  11.100000                        NaN                                   NaN"
      ]
     },
     "metadata": {},
     "output_type": "display_data"
    },
    {
     "data": {
      "text/plain": [
       "count    87.000000\n",
       "mean      8.515709\n",
       "std       4.197980\n",
       "min       1.966667\n",
       "25%       5.633333\n",
       "50%       7.633333\n",
       "75%      10.091667\n",
       "max      25.233333\n",
       "Name: pickup_to_delivery_time, dtype: float64"
      ]
     },
     "execution_count": 177,
     "metadata": {},
     "output_type": "execute_result"
    }
   ],
   "source": [
    "fields = ['order_id', 'pickup_to_delivery_time']\n",
    "\n",
    "#sim_dt.columns\n",
    "\n",
    "sim_real_pickup_to_delivery_time = pd.merge(real_dt[fields], sim_dt[fields], how = \"inner\", on = \"order_id\")\n",
    "sim_real_pickup_to_delivery_time['sim_real_pickup_to_delivery_time_gap'] = \\\n",
    "sim_real_pickup_to_delivery_time.pickup_to_delivery_time_x - sim_real_pickup_to_delivery_time.pickup_to_delivery_time_y\n",
    "\n",
    "sim_real_pickup_to_delivery_time= sim_real_pickup_to_delivery_time.sort_values('sim_real_pickup_to_delivery_time_gap', ascending = False)\n",
    "\n",
    "\n",
    "display(sim_real_pickup_to_delivery_time.head(10))\n",
    "display(sim_real_pickup_to_delivery_time.tail(10))\n",
    "\n",
    "real_dt.pickup_to_delivery_time.describe()"
   ]
  },
  {
   "cell_type": "markdown",
   "metadata": {},
   "source": [
    "### Waiting time at delivery\n",
    "\n",
    "#### General overview"
   ]
  },
  {
   "cell_type": "code",
   "execution_count": 178,
   "metadata": {},
   "outputs": [
    {
     "data": {
      "image/png": "[encoded data removed]",
      "text/plain": [
       "<Figure size 1080x360 with 2 Axes>"
      ]
     },
     "metadata": {
      "needs_background": "light"
     },
     "output_type": "display_data"
    },
    {
     "name": "stdout",
     "output_type": "stream",
     "text": [
      "p-value = 0.97\n"
     ]
    },
    {
     "data": {
      "text/markdown": [
       "$\\Delta \\mu = -0.12$ min [real - simulation]"
      ],
      "text/plain": [
       "<IPython.core.display.Markdown object>"
      ]
     },
     "metadata": {},
     "output_type": "display_data"
    }
   ],
   "source": [
    "col = 'waiting_delivery_time'\n",
    "\n",
    "plot_time_comp_distr_and_hours(real_dt, sim_dt, col)"
   ]
  },
  {
   "cell_type": "markdown",
   "metadata": {},
   "source": [
    "#### Edge cases review"
   ]
  },
  {
   "cell_type": "code",
   "execution_count": 179,
   "metadata": {},
   "outputs": [
    {
     "data": {
      "text/html": [
       "<div>\n",
       "<style scoped>\n",
       "    .dataframe tbody tr th:only-of-type {\n",
       "        vertical-align: middle;\n",
       "    }\n",
       "\n",
       "    .dataframe tbody tr th {\n",
       "        vertical-align: top;\n",
       "    }\n",
       "\n",
       "    .dataframe thead th {\n",
       "        text-align: right;\n",
       "    }\n",
       "</style>\n",
       "<table border=\"1\" class=\"dataframe\">\n",
       "  <thead>\n",
       "    <tr style=\"text-align: right;\">\n",
       "      <th></th>\n",
       "      <th>order_id</th>\n",
       "      <th>waiting_delivery_time_x</th>\n",
       "      <th>waiting_delivery_time_y</th>\n",
       "      <th>sim_real_waiting_delivery_time_gap</th>\n",
       "    </tr>\n",
       "  </thead>\n",
       "  <tbody>\n",
       "    <tr>\n",
       "      <th>0</th>\n",
       "      <td>81901831</td>\n",
       "      <td>4.716667</td>\n",
       "      <td>4.716667</td>\n",
       "      <td>0.0</td>\n",
       "    </tr>\n",
       "    <tr>\n",
       "      <th>63</th>\n",
       "      <td>81917536</td>\n",
       "      <td>3.550000</td>\n",
       "      <td>3.550000</td>\n",
       "      <td>0.0</td>\n",
       "    </tr>\n",
       "    <tr>\n",
       "      <th>45</th>\n",
       "      <td>81919879</td>\n",
       "      <td>3.400000</td>\n",
       "      <td>3.400000</td>\n",
       "      <td>0.0</td>\n",
       "    </tr>\n",
       "    <tr>\n",
       "      <th>46</th>\n",
       "      <td>81914126</td>\n",
       "      <td>0.683333</td>\n",
       "      <td>0.683333</td>\n",
       "      <td>0.0</td>\n",
       "    </tr>\n",
       "    <tr>\n",
       "      <th>48</th>\n",
       "      <td>81915968</td>\n",
       "      <td>2.750000</td>\n",
       "      <td>2.750000</td>\n",
       "      <td>0.0</td>\n",
       "    </tr>\n",
       "    <tr>\n",
       "      <th>49</th>\n",
       "      <td>81850452</td>\n",
       "      <td>2.583333</td>\n",
       "      <td>2.583333</td>\n",
       "      <td>0.0</td>\n",
       "    </tr>\n",
       "    <tr>\n",
       "      <th>50</th>\n",
       "      <td>81912601</td>\n",
       "      <td>1.200000</td>\n",
       "      <td>1.200000</td>\n",
       "      <td>0.0</td>\n",
       "    </tr>\n",
       "    <tr>\n",
       "      <th>52</th>\n",
       "      <td>81908951</td>\n",
       "      <td>2.416667</td>\n",
       "      <td>2.416667</td>\n",
       "      <td>0.0</td>\n",
       "    </tr>\n",
       "    <tr>\n",
       "      <th>53</th>\n",
       "      <td>81909503</td>\n",
       "      <td>2.750000</td>\n",
       "      <td>2.750000</td>\n",
       "      <td>0.0</td>\n",
       "    </tr>\n",
       "    <tr>\n",
       "      <th>54</th>\n",
       "      <td>81923888</td>\n",
       "      <td>2.783333</td>\n",
       "      <td>2.783333</td>\n",
       "      <td>0.0</td>\n",
       "    </tr>\n",
       "  </tbody>\n",
       "</table>\n",
       "</div>"
      ],
      "text/plain": [
       "    order_id  waiting_delivery_time_x  waiting_delivery_time_y  sim_real_waiting_delivery_time_gap\n",
       "0   81901831                 4.716667                 4.716667                                 0.0\n",
       "63  81917536                 3.550000                 3.550000                                 0.0\n",
       "45  81919879                 3.400000                 3.400000                                 0.0\n",
       "46  81914126                 0.683333                 0.683333                                 0.0\n",
       "48  81915968                 2.750000                 2.750000                                 0.0\n",
       "49  81850452                 2.583333                 2.583333                                 0.0\n",
       "50  81912601                 1.200000                 1.200000                                 0.0\n",
       "52  81908951                 2.416667                 2.416667                                 0.0\n",
       "53  81909503                 2.750000                 2.750000                                 0.0\n",
       "54  81923888                 2.783333                 2.783333                                 0.0"
      ]
     },
     "metadata": {},
     "output_type": "display_data"
    },
    {
     "data": {
      "text/html": [
       "<div>\n",
       "<style scoped>\n",
       "    .dataframe tbody tr th:only-of-type {\n",
       "        vertical-align: middle;\n",
       "    }\n",
       "\n",
       "    .dataframe tbody tr th {\n",
       "        vertical-align: top;\n",
       "    }\n",
       "\n",
       "    .dataframe thead th {\n",
       "        text-align: right;\n",
       "    }\n",
       "</style>\n",
       "<table border=\"1\" class=\"dataframe\">\n",
       "  <thead>\n",
       "    <tr style=\"text-align: right;\">\n",
       "      <th></th>\n",
       "      <th>order_id</th>\n",
       "      <th>waiting_delivery_time_x</th>\n",
       "      <th>waiting_delivery_time_y</th>\n",
       "      <th>sim_real_waiting_delivery_time_gap</th>\n",
       "    </tr>\n",
       "  </thead>\n",
       "  <tbody>\n",
       "    <tr>\n",
       "      <th>61</th>\n",
       "      <td>81927615</td>\n",
       "      <td>2.983333</td>\n",
       "      <td>NaN</td>\n",
       "      <td>NaN</td>\n",
       "    </tr>\n",
       "    <tr>\n",
       "      <th>64</th>\n",
       "      <td>81929213</td>\n",
       "      <td>2.716667</td>\n",
       "      <td>NaN</td>\n",
       "      <td>NaN</td>\n",
       "    </tr>\n",
       "    <tr>\n",
       "      <th>69</th>\n",
       "      <td>81928576</td>\n",
       "      <td>1.950000</td>\n",
       "      <td>NaN</td>\n",
       "      <td>NaN</td>\n",
       "    </tr>\n",
       "    <tr>\n",
       "      <th>75</th>\n",
       "      <td>81925328</td>\n",
       "      <td>1.566667</td>\n",
       "      <td>NaN</td>\n",
       "      <td>NaN</td>\n",
       "    </tr>\n",
       "    <tr>\n",
       "      <th>76</th>\n",
       "      <td>81923195</td>\n",
       "      <td>4.150000</td>\n",
       "      <td>NaN</td>\n",
       "      <td>NaN</td>\n",
       "    </tr>\n",
       "    <tr>\n",
       "      <th>77</th>\n",
       "      <td>81927461</td>\n",
       "      <td>1.100000</td>\n",
       "      <td>NaN</td>\n",
       "      <td>NaN</td>\n",
       "    </tr>\n",
       "    <tr>\n",
       "      <th>83</th>\n",
       "      <td>81925485</td>\n",
       "      <td>1.433333</td>\n",
       "      <td>NaN</td>\n",
       "      <td>NaN</td>\n",
       "    </tr>\n",
       "    <tr>\n",
       "      <th>84</th>\n",
       "      <td>81924441</td>\n",
       "      <td>3.233333</td>\n",
       "      <td>NaN</td>\n",
       "      <td>NaN</td>\n",
       "    </tr>\n",
       "    <tr>\n",
       "      <th>85</th>\n",
       "      <td>81922886</td>\n",
       "      <td>2.183333</td>\n",
       "      <td>NaN</td>\n",
       "      <td>NaN</td>\n",
       "    </tr>\n",
       "    <tr>\n",
       "      <th>86</th>\n",
       "      <td>81893148</td>\n",
       "      <td>2.550000</td>\n",
       "      <td>NaN</td>\n",
       "      <td>NaN</td>\n",
       "    </tr>\n",
       "  </tbody>\n",
       "</table>\n",
       "</div>"
      ],
      "text/plain": [
       "    order_id  waiting_delivery_time_x  waiting_delivery_time_y  sim_real_waiting_delivery_time_gap\n",
       "61  81927615                 2.983333                      NaN                                 NaN\n",
       "64  81929213                 2.716667                      NaN                                 NaN\n",
       "69  81928576                 1.950000                      NaN                                 NaN\n",
       "75  81925328                 1.566667                      NaN                                 NaN\n",
       "76  81923195                 4.150000                      NaN                                 NaN\n",
       "77  81927461                 1.100000                      NaN                                 NaN\n",
       "83  81925485                 1.433333                      NaN                                 NaN\n",
       "84  81924441                 3.233333                      NaN                                 NaN\n",
       "85  81922886                 2.183333                      NaN                                 NaN\n",
       "86  81893148                 2.550000                      NaN                                 NaN"
      ]
     },
     "metadata": {},
     "output_type": "display_data"
    },
    {
     "data": {
      "text/plain": [
       "count    87.000000\n",
       "mean      2.968199\n",
       "std       1.323156\n",
       "min       0.683333\n",
       "25%       1.941667\n",
       "50%       2.783333\n",
       "75%       3.841667\n",
       "max       7.266667\n",
       "Name: waiting_delivery_time, dtype: float64"
      ]
     },
     "execution_count": 179,
     "metadata": {},
     "output_type": "execute_result"
    }
   ],
   "source": [
    "fields = ['order_id', 'waiting_delivery_time']\n",
    "\n",
    "#sim_dt.columns\n",
    "\n",
    "sim_real_waiting_delivery_time = pd.merge(real_dt[fields], sim_dt[fields], how = \"inner\", on = \"order_id\")\n",
    "sim_real_waiting_delivery_time['sim_real_waiting_delivery_time_gap'] = \\\n",
    "sim_real_waiting_delivery_time.waiting_delivery_time_x - sim_real_waiting_delivery_time.waiting_delivery_time_y\n",
    "\n",
    "sim_real_waiting_delivery_time= sim_real_waiting_delivery_time.sort_values('sim_real_waiting_delivery_time_gap', ascending = False)\n",
    "\n",
    "\n",
    "display(sim_real_waiting_delivery_time.head(10))\n",
    "display(sim_real_waiting_delivery_time.tail(10))\n",
    "\n",
    "real_dt.waiting_delivery_time.describe()"
   ]
  },
  {
   "cell_type": "markdown",
   "metadata": {},
   "source": [
    "# Courier Delivery Time"
   ]
  },
  {
   "cell_type": "markdown",
   "metadata": {},
   "source": [
    "## Daily aggregation"
   ]
  },
  {
   "cell_type": "code",
   "execution_count": 180,
   "metadata": {},
   "outputs": [
    {
     "data": {
      "image/png": "[encoded data removed]",
      "text/plain": [
       "<Figure size 1080x360 with 2 Axes>"
      ]
     },
     "metadata": {
      "needs_background": "light"
     },
     "output_type": "display_data"
    },
    {
     "name": "stdout",
     "output_type": "stream",
     "text": [
      "p-value = 0.01\n"
     ]
    },
    {
     "data": {
      "text/markdown": [
       "$\\Delta \\mu = -6.93$ min [real - simulation]"
      ],
      "text/plain": [
       "<IPython.core.display.Markdown object>"
      ]
     },
     "metadata": {},
     "output_type": "display_data"
    },
    {
     "data": {
      "text/html": [
       "<div>\n",
       "<style scoped>\n",
       "    .dataframe tbody tr th:only-of-type {\n",
       "        vertical-align: middle;\n",
       "    }\n",
       "\n",
       "    .dataframe tbody tr th {\n",
       "        vertical-align: top;\n",
       "    }\n",
       "\n",
       "    .dataframe thead th {\n",
       "        text-align: right;\n",
       "    }\n",
       "</style>\n",
       "<table border=\"1\" class=\"dataframe\">\n",
       "  <thead>\n",
       "    <tr style=\"text-align: right;\">\n",
       "      <th></th>\n",
       "      <th>mean</th>\n",
       "      <th>std</th>\n",
       "      <th>outliers no</th>\n",
       "      <th>outliers %</th>\n",
       "      <th>q15</th>\n",
       "      <th>q85</th>\n",
       "    </tr>\n",
       "  </thead>\n",
       "  <tbody>\n",
       "    <tr>\n",
       "      <th>sim</th>\n",
       "      <td>32.69</td>\n",
       "      <td>11.10</td>\n",
       "      <td>2</td>\n",
       "      <td>3.39</td>\n",
       "      <td>23.99</td>\n",
       "      <td>40.80</td>\n",
       "    </tr>\n",
       "    <tr>\n",
       "      <th>real</th>\n",
       "      <td>27.70</td>\n",
       "      <td>9.48</td>\n",
       "      <td>0</td>\n",
       "      <td>0.00</td>\n",
       "      <td>18.16</td>\n",
       "      <td>38.01</td>\n",
       "    </tr>\n",
       "  </tbody>\n",
       "</table>\n",
       "</div>"
      ],
      "text/plain": [
       "       mean    std  outliers no  outliers %    q15    q85\n",
       "sim   32.69  11.10            2        3.39  23.99  40.80\n",
       "real  27.70   9.48            0        0.00  18.16  38.01"
      ]
     },
     "metadata": {},
     "output_type": "display_data"
    }
   ],
   "source": [
    "col = 'courier_delivery_time'\n",
    "\n",
    "plot_distr_by_day_with_comps(col, time_components)"
   ]
  },
  {
   "cell_type": "markdown",
   "metadata": {},
   "source": [
    "# Partner Metrics"
   ]
  },
  {
   "cell_type": "markdown",
   "metadata": {},
   "source": [
    "## Activation to partner dispatch"
   ]
  },
  {
   "cell_type": "markdown",
   "metadata": {},
   "source": [
    "### General overwiev"
   ]
  },
  {
   "cell_type": "code",
   "execution_count": 181,
   "metadata": {},
   "outputs": [
    {
     "data": {
      "image/png": "[encoded data removed]",
      "text/plain": [
       "<Figure size 1080x360 with 2 Axes>"
      ]
     },
     "metadata": {
      "needs_background": "light"
     },
     "output_type": "display_data"
    },
    {
     "name": "stdout",
     "output_type": "stream",
     "text": [
      "p-value = 0.01\n"
     ]
    },
    {
     "data": {
      "text/markdown": [
       "$\\Delta \\mu = -6075.23$ min [real - simulation]"
      ],
      "text/plain": [
       "<IPython.core.display.Markdown object>"
      ]
     },
     "metadata": {},
     "output_type": "display_data"
    }
   ],
   "source": [
    "col = 'activation_to_partner_dispatch'\n",
    "\n",
    "plot_time_comp_distr_and_hours(real_dt, sim_dt, col)"
   ]
  },
  {
   "cell_type": "markdown",
   "metadata": {},
   "source": [
    "### Edge cases review"
   ]
  },
  {
   "cell_type": "code",
   "execution_count": 182,
   "metadata": {
    "scrolled": true
   },
   "outputs": [
    {
     "data": {
      "text/html": [
       "<div>\n",
       "<style scoped>\n",
       "    .dataframe tbody tr th:only-of-type {\n",
       "        vertical-align: middle;\n",
       "    }\n",
       "\n",
       "    .dataframe tbody tr th {\n",
       "        vertical-align: top;\n",
       "    }\n",
       "\n",
       "    .dataframe thead th {\n",
       "        text-align: right;\n",
       "    }\n",
       "</style>\n",
       "<table border=\"1\" class=\"dataframe\">\n",
       "  <thead>\n",
       "    <tr style=\"text-align: right;\">\n",
       "      <th></th>\n",
       "      <th>order_id</th>\n",
       "      <th>activation_to_partner_dispatch_x</th>\n",
       "      <th>activation_to_partner_dispatch_y</th>\n",
       "      <th>sim_real_activation_to_partner_dispatch_gap</th>\n",
       "    </tr>\n",
       "  </thead>\n",
       "  <tbody>\n",
       "    <tr>\n",
       "      <th>32</th>\n",
       "      <td>81925728</td>\n",
       "      <td>1133</td>\n",
       "      <td>36.0</td>\n",
       "      <td>1097.0</td>\n",
       "    </tr>\n",
       "    <tr>\n",
       "      <th>82</th>\n",
       "      <td>81917724</td>\n",
       "      <td>1011</td>\n",
       "      <td>50.0</td>\n",
       "      <td>961.0</td>\n",
       "    </tr>\n",
       "    <tr>\n",
       "      <th>63</th>\n",
       "      <td>81917536</td>\n",
       "      <td>903</td>\n",
       "      <td>9.0</td>\n",
       "      <td>894.0</td>\n",
       "    </tr>\n",
       "    <tr>\n",
       "      <th>2</th>\n",
       "      <td>81926966</td>\n",
       "      <td>697</td>\n",
       "      <td>42.0</td>\n",
       "      <td>655.0</td>\n",
       "    </tr>\n",
       "    <tr>\n",
       "      <th>31</th>\n",
       "      <td>81927301</td>\n",
       "      <td>609</td>\n",
       "      <td>4.0</td>\n",
       "      <td>605.0</td>\n",
       "    </tr>\n",
       "    <tr>\n",
       "      <th>61</th>\n",
       "      <td>81927615</td>\n",
       "      <td>622</td>\n",
       "      <td>34.0</td>\n",
       "      <td>588.0</td>\n",
       "    </tr>\n",
       "    <tr>\n",
       "      <th>10</th>\n",
       "      <td>81910652</td>\n",
       "      <td>574</td>\n",
       "      <td>1.0</td>\n",
       "      <td>573.0</td>\n",
       "    </tr>\n",
       "    <tr>\n",
       "      <th>15</th>\n",
       "      <td>81918109</td>\n",
       "      <td>583</td>\n",
       "      <td>40.0</td>\n",
       "      <td>543.0</td>\n",
       "    </tr>\n",
       "    <tr>\n",
       "      <th>77</th>\n",
       "      <td>81927461</td>\n",
       "      <td>349</td>\n",
       "      <td>17.0</td>\n",
       "      <td>332.0</td>\n",
       "    </tr>\n",
       "    <tr>\n",
       "      <th>69</th>\n",
       "      <td>81928576</td>\n",
       "      <td>341</td>\n",
       "      <td>47.0</td>\n",
       "      <td>294.0</td>\n",
       "    </tr>\n",
       "  </tbody>\n",
       "</table>\n",
       "</div>"
      ],
      "text/plain": [
       "    order_id  activation_to_partner_dispatch_x  activation_to_partner_dispatch_y  sim_real_activation_to_partner_dispatch_gap\n",
       "32  81925728                              1133                              36.0                                       1097.0\n",
       "82  81917724                              1011                              50.0                                        961.0\n",
       "63  81917536                               903                               9.0                                        894.0\n",
       "2   81926966                               697                              42.0                                        655.0\n",
       "31  81927301                               609                               4.0                                        605.0\n",
       "61  81927615                               622                              34.0                                        588.0\n",
       "10  81910652                               574                               1.0                                        573.0\n",
       "15  81918109                               583                              40.0                                        543.0\n",
       "77  81927461                               349                              17.0                                        332.0\n",
       "69  81928576                               341                              47.0                                        294.0"
      ]
     },
     "metadata": {},
     "output_type": "display_data"
    },
    {
     "data": {
      "text/html": [
       "<div>\n",
       "<style scoped>\n",
       "    .dataframe tbody tr th:only-of-type {\n",
       "        vertical-align: middle;\n",
       "    }\n",
       "\n",
       "    .dataframe tbody tr th {\n",
       "        vertical-align: top;\n",
       "    }\n",
       "\n",
       "    .dataframe thead th {\n",
       "        text-align: right;\n",
       "    }\n",
       "</style>\n",
       "<table border=\"1\" class=\"dataframe\">\n",
       "  <thead>\n",
       "    <tr style=\"text-align: right;\">\n",
       "      <th></th>\n",
       "      <th>order_id</th>\n",
       "      <th>activation_to_partner_dispatch_x</th>\n",
       "      <th>activation_to_partner_dispatch_y</th>\n",
       "      <th>sim_real_activation_to_partner_dispatch_gap</th>\n",
       "    </tr>\n",
       "  </thead>\n",
       "  <tbody>\n",
       "    <tr>\n",
       "      <th>29</th>\n",
       "      <td>81850690</td>\n",
       "      <td>104</td>\n",
       "      <td>29457.0</td>\n",
       "      <td>-29353.0</td>\n",
       "    </tr>\n",
       "    <tr>\n",
       "      <th>49</th>\n",
       "      <td>81850452</td>\n",
       "      <td>65</td>\n",
       "      <td>30196.0</td>\n",
       "      <td>-30131.0</td>\n",
       "    </tr>\n",
       "    <tr>\n",
       "      <th>20</th>\n",
       "      <td>81847895</td>\n",
       "      <td>351</td>\n",
       "      <td>32499.0</td>\n",
       "      <td>-32148.0</td>\n",
       "    </tr>\n",
       "    <tr>\n",
       "      <th>78</th>\n",
       "      <td>81846119</td>\n",
       "      <td>607</td>\n",
       "      <td>33666.0</td>\n",
       "      <td>-33059.0</td>\n",
       "    </tr>\n",
       "    <tr>\n",
       "      <th>70</th>\n",
       "      <td>81845742</td>\n",
       "      <td>158</td>\n",
       "      <td>33391.0</td>\n",
       "      <td>-33233.0</td>\n",
       "    </tr>\n",
       "    <tr>\n",
       "      <th>79</th>\n",
       "      <td>81848113</td>\n",
       "      <td>584</td>\n",
       "      <td>33931.0</td>\n",
       "      <td>-33347.0</td>\n",
       "    </tr>\n",
       "    <tr>\n",
       "      <th>60</th>\n",
       "      <td>81845509</td>\n",
       "      <td>286</td>\n",
       "      <td>35541.0</td>\n",
       "      <td>-35255.0</td>\n",
       "    </tr>\n",
       "    <tr>\n",
       "      <th>71</th>\n",
       "      <td>81845420</td>\n",
       "      <td>275</td>\n",
       "      <td>36096.0</td>\n",
       "      <td>-35821.0</td>\n",
       "    </tr>\n",
       "    <tr>\n",
       "      <th>14</th>\n",
       "      <td>81846239</td>\n",
       "      <td>75</td>\n",
       "      <td>36299.0</td>\n",
       "      <td>-36224.0</td>\n",
       "    </tr>\n",
       "    <tr>\n",
       "      <th>22</th>\n",
       "      <td>81844642</td>\n",
       "      <td>15</td>\n",
       "      <td>39089.0</td>\n",
       "      <td>-39074.0</td>\n",
       "    </tr>\n",
       "  </tbody>\n",
       "</table>\n",
       "</div>"
      ],
      "text/plain": [
       "    order_id  activation_to_partner_dispatch_x  activation_to_partner_dispatch_y  sim_real_activation_to_partner_dispatch_gap\n",
       "29  81850690                               104                           29457.0                                     -29353.0\n",
       "49  81850452                                65                           30196.0                                     -30131.0\n",
       "20  81847895                               351                           32499.0                                     -32148.0\n",
       "78  81846119                               607                           33666.0                                     -33059.0\n",
       "70  81845742                               158                           33391.0                                     -33233.0\n",
       "79  81848113                               584                           33931.0                                     -33347.0\n",
       "60  81845509                               286                           35541.0                                     -35255.0\n",
       "71  81845420                               275                           36096.0                                     -35821.0\n",
       "14  81846239                                75                           36299.0                                     -36224.0\n",
       "22  81844642                                15                           39089.0                                     -39074.0"
      ]
     },
     "metadata": {},
     "output_type": "display_data"
    },
    {
     "data": {
      "text/plain": [
       "count      87.000000\n",
       "mean      186.896552\n",
       "std       278.544224\n",
       "min         9.000000\n",
       "25%        37.500000\n",
       "50%        62.000000\n",
       "75%       197.500000\n",
       "max      1540.000000\n",
       "Name: activation_to_partner_dispatch, dtype: float64"
      ]
     },
     "execution_count": 182,
     "metadata": {},
     "output_type": "execute_result"
    }
   ],
   "source": [
    "fields = ['order_id', 'activation_to_partner_dispatch']\n",
    "\n",
    "#sim_dt.columns\n",
    "\n",
    "sim_real_activation_to_partner_dispatch = pd.merge(real_dt[fields], sim_dt[fields], how = \"inner\", on = \"order_id\")\n",
    "sim_real_activation_to_partner_dispatch['sim_real_activation_to_partner_dispatch_gap'] = \\\n",
    "sim_real_activation_to_partner_dispatch.activation_to_partner_dispatch_x - sim_real_activation_to_partner_dispatch.activation_to_partner_dispatch_y\n",
    "\n",
    "sim_real_activation_to_partner_dispatch= sim_real_activation_to_partner_dispatch.sort_values('sim_real_activation_to_partner_dispatch_gap', ascending = False)\n",
    "\n",
    "\n",
    "display(sim_real_activation_to_partner_dispatch.head(10))\n",
    "display(sim_real_activation_to_partner_dispatch.tail(10))\n",
    "\n",
    "real_dt.activation_to_partner_dispatch.describe()"
   ]
  },
  {
   "cell_type": "markdown",
   "metadata": {},
   "source": [
    "## Partner dispatch to enter pickup"
   ]
  },
  {
   "cell_type": "markdown",
   "metadata": {},
   "source": [
    "### General overwiev"
   ]
  },
  {
   "cell_type": "code",
   "execution_count": 183,
   "metadata": {},
   "outputs": [
    {
     "data": {
      "image/png": "[encoded data removed]",
      "text/plain": [
       "<Figure size 1080x360 with 2 Axes>"
      ]
     },
     "metadata": {
      "needs_background": "light"
     },
     "output_type": "display_data"
    },
    {
     "name": "stdout",
     "output_type": "stream",
     "text": [
      "p-value = 0.04\n"
     ]
    },
    {
     "data": {
      "text/markdown": [
       "$\\Delta \\mu = 130.44$ m [real - simulation]"
      ],
      "text/plain": [
       "<IPython.core.display.Markdown object>"
      ]
     },
     "metadata": {},
     "output_type": "display_data"
    }
   ],
   "source": [
    "col = 'partner_dispatch_to_enter_pickup'\n",
    "\n",
    "plot_dist_comp_distr_and_hours(col)"
   ]
  },
  {
   "cell_type": "markdown",
   "metadata": {},
   "source": [
    "### Edge cases review"
   ]
  },
  {
   "cell_type": "code",
   "execution_count": 184,
   "metadata": {},
   "outputs": [
    {
     "data": {
      "text/html": [
       "<div>\n",
       "<style scoped>\n",
       "    .dataframe tbody tr th:only-of-type {\n",
       "        vertical-align: middle;\n",
       "    }\n",
       "\n",
       "    .dataframe tbody tr th {\n",
       "        vertical-align: top;\n",
       "    }\n",
       "\n",
       "    .dataframe thead th {\n",
       "        text-align: right;\n",
       "    }\n",
       "</style>\n",
       "<table border=\"1\" class=\"dataframe\">\n",
       "  <thead>\n",
       "    <tr style=\"text-align: right;\">\n",
       "      <th></th>\n",
       "      <th>order_id</th>\n",
       "      <th>partner_dispatch_to_enter_pickup_x</th>\n",
       "      <th>partner_dispatch_to_enter_pickup_y</th>\n",
       "      <th>sim_real_partner_dispatch_to_enter_pickup_gap</th>\n",
       "    </tr>\n",
       "  </thead>\n",
       "  <tbody>\n",
       "    <tr>\n",
       "      <th>75</th>\n",
       "      <td>81925328</td>\n",
       "      <td>86399</td>\n",
       "      <td>96.0</td>\n",
       "      <td>86303.0</td>\n",
       "    </tr>\n",
       "    <tr>\n",
       "      <th>32</th>\n",
       "      <td>81925728</td>\n",
       "      <td>86399</td>\n",
       "      <td>180.0</td>\n",
       "      <td>86219.0</td>\n",
       "    </tr>\n",
       "    <tr>\n",
       "      <th>25</th>\n",
       "      <td>81904275</td>\n",
       "      <td>2292</td>\n",
       "      <td>762.0</td>\n",
       "      <td>1530.0</td>\n",
       "    </tr>\n",
       "    <tr>\n",
       "      <th>36</th>\n",
       "      <td>81921336</td>\n",
       "      <td>1972</td>\n",
       "      <td>701.0</td>\n",
       "      <td>1271.0</td>\n",
       "    </tr>\n",
       "    <tr>\n",
       "      <th>77</th>\n",
       "      <td>81927461</td>\n",
       "      <td>1410</td>\n",
       "      <td>238.0</td>\n",
       "      <td>1172.0</td>\n",
       "    </tr>\n",
       "    <tr>\n",
       "      <th>28</th>\n",
       "      <td>81915980</td>\n",
       "      <td>1356</td>\n",
       "      <td>210.0</td>\n",
       "      <td>1146.0</td>\n",
       "    </tr>\n",
       "    <tr>\n",
       "      <th>22</th>\n",
       "      <td>81844642</td>\n",
       "      <td>2276</td>\n",
       "      <td>1181.0</td>\n",
       "      <td>1095.0</td>\n",
       "    </tr>\n",
       "    <tr>\n",
       "      <th>12</th>\n",
       "      <td>81908950</td>\n",
       "      <td>1258</td>\n",
       "      <td>215.0</td>\n",
       "      <td>1043.0</td>\n",
       "    </tr>\n",
       "    <tr>\n",
       "      <th>86</th>\n",
       "      <td>81893148</td>\n",
       "      <td>996</td>\n",
       "      <td>61.0</td>\n",
       "      <td>935.0</td>\n",
       "    </tr>\n",
       "    <tr>\n",
       "      <th>39</th>\n",
       "      <td>81918248</td>\n",
       "      <td>1273</td>\n",
       "      <td>405.0</td>\n",
       "      <td>868.0</td>\n",
       "    </tr>\n",
       "  </tbody>\n",
       "</table>\n",
       "</div>"
      ],
      "text/plain": [
       "    order_id  partner_dispatch_to_enter_pickup_x  partner_dispatch_to_enter_pickup_y  sim_real_partner_dispatch_to_enter_pickup_gap\n",
       "75  81925328                               86399                                96.0                                        86303.0\n",
       "32  81925728                               86399                               180.0                                        86219.0\n",
       "25  81904275                                2292                               762.0                                         1530.0\n",
       "36  81921336                                1972                               701.0                                         1271.0\n",
       "77  81927461                                1410                               238.0                                         1172.0\n",
       "28  81915980                                1356                               210.0                                         1146.0\n",
       "22  81844642                                2276                              1181.0                                         1095.0\n",
       "12  81908950                                1258                               215.0                                         1043.0\n",
       "86  81893148                                 996                                61.0                                          935.0\n",
       "39  81918248                                1273                               405.0                                          868.0"
      ]
     },
     "metadata": {},
     "output_type": "display_data"
    },
    {
     "data": {
      "text/html": [
       "<div>\n",
       "<style scoped>\n",
       "    .dataframe tbody tr th:only-of-type {\n",
       "        vertical-align: middle;\n",
       "    }\n",
       "\n",
       "    .dataframe tbody tr th {\n",
       "        vertical-align: top;\n",
       "    }\n",
       "\n",
       "    .dataframe thead th {\n",
       "        text-align: right;\n",
       "    }\n",
       "</style>\n",
       "<table border=\"1\" class=\"dataframe\">\n",
       "  <thead>\n",
       "    <tr style=\"text-align: right;\">\n",
       "      <th></th>\n",
       "      <th>order_id</th>\n",
       "      <th>partner_dispatch_to_enter_pickup_x</th>\n",
       "      <th>partner_dispatch_to_enter_pickup_y</th>\n",
       "      <th>sim_real_partner_dispatch_to_enter_pickup_gap</th>\n",
       "    </tr>\n",
       "  </thead>\n",
       "  <tbody>\n",
       "    <tr>\n",
       "      <th>59</th>\n",
       "      <td>81844788</td>\n",
       "      <td>172</td>\n",
       "      <td>862.0</td>\n",
       "      <td>-690.0</td>\n",
       "    </tr>\n",
       "    <tr>\n",
       "      <th>43</th>\n",
       "      <td>81909295</td>\n",
       "      <td>544</td>\n",
       "      <td>1244.0</td>\n",
       "      <td>-700.0</td>\n",
       "    </tr>\n",
       "    <tr>\n",
       "      <th>53</th>\n",
       "      <td>81909503</td>\n",
       "      <td>626</td>\n",
       "      <td>1395.0</td>\n",
       "      <td>-769.0</td>\n",
       "    </tr>\n",
       "    <tr>\n",
       "      <th>70</th>\n",
       "      <td>81845742</td>\n",
       "      <td>156</td>\n",
       "      <td>927.0</td>\n",
       "      <td>-771.0</td>\n",
       "    </tr>\n",
       "    <tr>\n",
       "      <th>15</th>\n",
       "      <td>81918109</td>\n",
       "      <td>443</td>\n",
       "      <td>1253.0</td>\n",
       "      <td>-810.0</td>\n",
       "    </tr>\n",
       "    <tr>\n",
       "      <th>10</th>\n",
       "      <td>81910652</td>\n",
       "      <td>450</td>\n",
       "      <td>2238.0</td>\n",
       "      <td>-1788.0</td>\n",
       "    </tr>\n",
       "    <tr>\n",
       "      <th>17</th>\n",
       "      <td>81929197</td>\n",
       "      <td>309</td>\n",
       "      <td>NaN</td>\n",
       "      <td>NaN</td>\n",
       "    </tr>\n",
       "    <tr>\n",
       "      <th>26</th>\n",
       "      <td>81929299</td>\n",
       "      <td>384</td>\n",
       "      <td>NaN</td>\n",
       "      <td>NaN</td>\n",
       "    </tr>\n",
       "    <tr>\n",
       "      <th>64</th>\n",
       "      <td>81929213</td>\n",
       "      <td>1333</td>\n",
       "      <td>NaN</td>\n",
       "      <td>NaN</td>\n",
       "    </tr>\n",
       "    <tr>\n",
       "      <th>69</th>\n",
       "      <td>81928576</td>\n",
       "      <td>632</td>\n",
       "      <td>NaN</td>\n",
       "      <td>NaN</td>\n",
       "    </tr>\n",
       "  </tbody>\n",
       "</table>\n",
       "</div>"
      ],
      "text/plain": [
       "    order_id  partner_dispatch_to_enter_pickup_x  partner_dispatch_to_enter_pickup_y  sim_real_partner_dispatch_to_enter_pickup_gap\n",
       "59  81844788                                 172                               862.0                                         -690.0\n",
       "43  81909295                                 544                              1244.0                                         -700.0\n",
       "53  81909503                                 626                              1395.0                                         -769.0\n",
       "70  81845742                                 156                               927.0                                         -771.0\n",
       "15  81918109                                 443                              1253.0                                         -810.0\n",
       "10  81910652                                 450                              2238.0                                        -1788.0\n",
       "17  81929197                                 309                                 NaN                                            NaN\n",
       "26  81929299                                 384                                 NaN                                            NaN\n",
       "64  81929213                                1333                                 NaN                                            NaN\n",
       "69  81928576                                 632                                 NaN                                            NaN"
      ]
     },
     "metadata": {},
     "output_type": "display_data"
    },
    {
     "data": {
      "text/plain": [
       "count       87.000000\n",
       "mean      2675.218391\n",
       "std      12924.098654\n",
       "min        142.000000\n",
       "25%        427.000000\n",
       "50%        646.000000\n",
       "75%        915.000000\n",
       "max      86399.000000\n",
       "Name: partner_dispatch_to_enter_pickup, dtype: float64"
      ]
     },
     "execution_count": 184,
     "metadata": {},
     "output_type": "execute_result"
    }
   ],
   "source": [
    "fields = ['order_id', 'partner_dispatch_to_enter_pickup']\n",
    "\n",
    "#sim_dt.columns\n",
    "\n",
    "sim_real_partner_dispatch_to_enter_pickup = pd.merge(real_dt[fields], sim_dt[fields], how = \"inner\", on = \"order_id\")\n",
    "sim_real_partner_dispatch_to_enter_pickup['sim_real_partner_dispatch_to_enter_pickup_gap'] = \\\n",
    "sim_real_partner_dispatch_to_enter_pickup.partner_dispatch_to_enter_pickup_x - sim_real_partner_dispatch_to_enter_pickup.partner_dispatch_to_enter_pickup_y\n",
    "\n",
    "sim_real_partner_dispatch_to_enter_pickup= sim_real_partner_dispatch_to_enter_pickup.sort_values('sim_real_partner_dispatch_to_enter_pickup_gap', ascending = False)\n",
    "\n",
    "\n",
    "display(sim_real_partner_dispatch_to_enter_pickup.head(10))\n",
    "display(sim_real_partner_dispatch_to_enter_pickup.tail(10))\n",
    "\n",
    "real_dt.partner_dispatch_to_enter_pickup.describe()"
   ]
  },
  {
   "cell_type": "markdown",
   "metadata": {},
   "source": [
    "# The distribution by hour\n",
    "\n",
    "The picture below shows the difference between the average delivery time in each hour for simulation and real data. \n",
    "We penalize by setting weights the hours where we don't have enough data to make any conclusions (In such cases the average from too few records is not giving a relevant information about the distribution).\n",
    "\n",
    "The measure of importance is defined as below:\n",
    "$f(h)= |n_h^{sim} * {avg}_h^{sim} - n_h^{real} * avg_h^{real}|$\n",
    "\n",
    "By looking on the peak values we can investigate the hours where we can expect some significant differences between the distributions."
   ]
  },
  {
   "cell_type": "code",
   "execution_count": 185,
   "metadata": {},
   "outputs": [
    {
     "data": {
      "image/png": "[encoded data removed]",
      "text/plain": [
       "<Figure size 432x288 with 1 Axes>"
      ]
     },
     "metadata": {
      "needs_background": "light"
     },
     "output_type": "display_data"
    }
   ],
   "source": [
    "diff_dt_customer = get_overall_distr_by_hour(\"customer_delivery_time\")\n",
    "diff_dt_courier = get_overall_distr_by_hour(\"courier_delivery_time\")\n",
    "\n",
    "# plot the difference\n",
    "fig= plt.figure()\n",
    "ax = fig.gca()\n",
    "plt.plot(diff_dt_customer[\"activation_time_hour\"], diff_dt_customer[\"diff\"], label=\"customer dt\")\n",
    "plt.plot(diff_dt_courier[\"activation_time_hour\"], diff_dt_courier[\"diff\"], label=\"courier dt\")\n",
    "ax.set_xticks(diff_dt_courier[\"activation_time_hour\"])\n",
    "plt.xlabel(\"hour\")\n",
    "plt.ylabel(\"difference (simulation - real) [min]\")\n",
    "plt.title(\"Difference between simulation and real data by hour\")\n",
    "plt.grid()\n",
    "plt.legend()\n",
    "plt.show()"
   ]
  },
  {
   "cell_type": "markdown",
   "metadata": {},
   "source": [
    "## Customer Delivery Time"
   ]
  },
  {
   "cell_type": "code",
   "execution_count": 186,
   "metadata": {},
   "outputs": [
    {
     "name": "stderr",
     "output_type": "stream",
     "text": [
      "/Library/Frameworks/Python.framework/Versions/3.7/lib/python3.7/site-packages/pandas/core/indexing.py:376: SettingWithCopyWarning: \n",
      "A value is trying to be set on a copy of a slice from a DataFrame.\n",
      "Try using .loc[row_indexer,col_indexer] = value instead\n",
      "\n",
      "See the caveats in the documentation: http://pandas.pydata.org/pandas-docs/stable/user_guide/indexing.html#returning-a-view-versus-a-copy\n",
      "  self.obj[key] = _infer_fill_value(value)\n",
      "/Library/Frameworks/Python.framework/Versions/3.7/lib/python3.7/site-packages/pandas/core/indexing.py:494: SettingWithCopyWarning: \n",
      "A value is trying to be set on a copy of a slice from a DataFrame.\n",
      "Try using .loc[row_indexer,col_indexer] = value instead\n",
      "\n",
      "See the caveats in the documentation: http://pandas.pydata.org/pandas-docs/stable/user_guide/indexing.html#returning-a-view-versus-a-copy\n",
      "  self.obj[item] = s\n"
     ]
    },
    {
     "data": {
      "text/markdown": [
       " hour: **11**"
      ],
      "text/plain": [
       "<IPython.core.display.Markdown object>"
      ]
     },
     "metadata": {},
     "output_type": "display_data"
    },
    {
     "data": {
      "image/png": "[encoded data removed]",
      "text/plain": [
       "<Figure size 432x288 with 2 Axes>"
      ]
     },
     "metadata": {
      "needs_background": "light"
     },
     "output_type": "display_data"
    },
    {
     "data": {
      "text/markdown": [
       "$\\Delta \\mu = -7.48$ min [real - simulation]"
      ],
      "text/plain": [
       "<IPython.core.display.Markdown object>"
      ]
     },
     "metadata": {},
     "output_type": "display_data"
    },
    {
     "data": {
      "text/markdown": [
       "weighted $\\Delta \\mu = -5.32$ min [real - simulation]"
      ],
      "text/plain": [
       "<IPython.core.display.Markdown object>"
      ]
     },
     "metadata": {},
     "output_type": "display_data"
    },
    {
     "data": {
      "text/html": [
       "<div>\n",
       "<style scoped>\n",
       "    .dataframe tbody tr th:only-of-type {\n",
       "        vertical-align: middle;\n",
       "    }\n",
       "\n",
       "    .dataframe tbody tr th {\n",
       "        vertical-align: top;\n",
       "    }\n",
       "\n",
       "    .dataframe thead th {\n",
       "        text-align: right;\n",
       "    }\n",
       "</style>\n",
       "<table border=\"1\" class=\"dataframe\">\n",
       "  <thead>\n",
       "    <tr style=\"text-align: right;\">\n",
       "      <th></th>\n",
       "      <th>mean</th>\n",
       "      <th>std</th>\n",
       "      <th>outliers no</th>\n",
       "      <th>outliers %</th>\n",
       "      <th>q20</th>\n",
       "      <th>q80</th>\n",
       "    </tr>\n",
       "  </thead>\n",
       "  <tbody>\n",
       "    <tr>\n",
       "      <th>sim</th>\n",
       "      <td>36.22</td>\n",
       "      <td>8.83</td>\n",
       "      <td>0</td>\n",
       "      <td>0.0</td>\n",
       "      <td>31.01</td>\n",
       "      <td>43.11</td>\n",
       "    </tr>\n",
       "    <tr>\n",
       "      <th>real</th>\n",
       "      <td>28.74</td>\n",
       "      <td>8.87</td>\n",
       "      <td>0</td>\n",
       "      <td>0.0</td>\n",
       "      <td>21.96</td>\n",
       "      <td>35.94</td>\n",
       "    </tr>\n",
       "  </tbody>\n",
       "</table>\n",
       "</div>"
      ],
      "text/plain": [
       "       mean   std  outliers no  outliers %    q20    q80\n",
       "sim   36.22  8.83            0         0.0  31.01  43.11\n",
       "real  28.74  8.87            0         0.0  21.96  35.94"
      ]
     },
     "metadata": {},
     "output_type": "display_data"
    },
    {
     "data": {
      "text/markdown": [
       " hour: **9**"
      ],
      "text/plain": [
       "<IPython.core.display.Markdown object>"
      ]
     },
     "metadata": {},
     "output_type": "display_data"
    },
    {
     "data": {
      "image/png": "[encoded data removed]",
      "text/plain": [
       "<Figure size 432x288 with 2 Axes>"
      ]
     },
     "metadata": {
      "needs_background": "light"
     },
     "output_type": "display_data"
    },
    {
     "data": {
      "text/markdown": [
       "$\\Delta \\mu = -14.88$ min [real - simulation]"
      ],
      "text/plain": [
       "<IPython.core.display.Markdown object>"
      ]
     },
     "metadata": {},
     "output_type": "display_data"
    },
    {
     "data": {
      "text/markdown": [
       "weighted $\\Delta \\mu = -2.85$ min [real - simulation]"
      ],
      "text/plain": [
       "<IPython.core.display.Markdown object>"
      ]
     },
     "metadata": {},
     "output_type": "display_data"
    },
    {
     "data": {
      "text/html": [
       "<div>\n",
       "<style scoped>\n",
       "    .dataframe tbody tr th:only-of-type {\n",
       "        vertical-align: middle;\n",
       "    }\n",
       "\n",
       "    .dataframe tbody tr th {\n",
       "        vertical-align: top;\n",
       "    }\n",
       "\n",
       "    .dataframe thead th {\n",
       "        text-align: right;\n",
       "    }\n",
       "</style>\n",
       "<table border=\"1\" class=\"dataframe\">\n",
       "  <thead>\n",
       "    <tr style=\"text-align: right;\">\n",
       "      <th></th>\n",
       "      <th>mean</th>\n",
       "      <th>std</th>\n",
       "      <th>outliers no</th>\n",
       "      <th>outliers %</th>\n",
       "      <th>q20</th>\n",
       "      <th>q80</th>\n",
       "    </tr>\n",
       "  </thead>\n",
       "  <tbody>\n",
       "    <tr>\n",
       "      <th>sim</th>\n",
       "      <td>51.43</td>\n",
       "      <td>12.41</td>\n",
       "      <td>0</td>\n",
       "      <td>0.0</td>\n",
       "      <td>42.28</td>\n",
       "      <td>60.52</td>\n",
       "    </tr>\n",
       "    <tr>\n",
       "      <th>real</th>\n",
       "      <td>36.55</td>\n",
       "      <td>11.48</td>\n",
       "      <td>0</td>\n",
       "      <td>0.0</td>\n",
       "      <td>29.60</td>\n",
       "      <td>45.87</td>\n",
       "    </tr>\n",
       "  </tbody>\n",
       "</table>\n",
       "</div>"
      ],
      "text/plain": [
       "       mean    std  outliers no  outliers %    q20    q80\n",
       "sim   51.43  12.41            0         0.0  42.28  60.52\n",
       "real  36.55  11.48            0         0.0  29.60  45.87"
      ]
     },
     "metadata": {},
     "output_type": "display_data"
    },
    {
     "data": {
      "text/markdown": [
       " hour: **10**"
      ],
      "text/plain": [
       "<IPython.core.display.Markdown object>"
      ]
     },
     "metadata": {},
     "output_type": "display_data"
    },
    {
     "data": {
      "image/png": "[encoded data removed]",
      "text/plain": [
       "<Figure size 432x288 with 2 Axes>"
      ]
     },
     "metadata": {
      "needs_background": "light"
     },
     "output_type": "display_data"
    },
    {
     "data": {
      "text/markdown": [
       "$\\Delta \\mu = -10.38$ min [real - simulation]"
      ],
      "text/plain": [
       "<IPython.core.display.Markdown object>"
      ]
     },
     "metadata": {},
     "output_type": "display_data"
    },
    {
     "data": {
      "text/markdown": [
       "weighted $\\Delta \\mu = -0.65$ min [real - simulation]"
      ],
      "text/plain": [
       "<IPython.core.display.Markdown object>"
      ]
     },
     "metadata": {},
     "output_type": "display_data"
    },
    {
     "data": {
      "text/html": [
       "<div>\n",
       "<style scoped>\n",
       "    .dataframe tbody tr th:only-of-type {\n",
       "        vertical-align: middle;\n",
       "    }\n",
       "\n",
       "    .dataframe tbody tr th {\n",
       "        vertical-align: top;\n",
       "    }\n",
       "\n",
       "    .dataframe thead th {\n",
       "        text-align: right;\n",
       "    }\n",
       "</style>\n",
       "<table border=\"1\" class=\"dataframe\">\n",
       "  <thead>\n",
       "    <tr style=\"text-align: right;\">\n",
       "      <th></th>\n",
       "      <th>mean</th>\n",
       "      <th>std</th>\n",
       "      <th>outliers no</th>\n",
       "      <th>outliers %</th>\n",
       "      <th>q20</th>\n",
       "      <th>q80</th>\n",
       "    </tr>\n",
       "  </thead>\n",
       "  <tbody>\n",
       "    <tr>\n",
       "      <th>sim</th>\n",
       "      <td>44.60</td>\n",
       "      <td>21.43</td>\n",
       "      <td>0</td>\n",
       "      <td>0.0</td>\n",
       "      <td>30.53</td>\n",
       "      <td>54.23</td>\n",
       "    </tr>\n",
       "    <tr>\n",
       "      <th>real</th>\n",
       "      <td>34.22</td>\n",
       "      <td>8.77</td>\n",
       "      <td>0</td>\n",
       "      <td>0.0</td>\n",
       "      <td>30.77</td>\n",
       "      <td>40.92</td>\n",
       "    </tr>\n",
       "  </tbody>\n",
       "</table>\n",
       "</div>"
      ],
      "text/plain": [
       "       mean    std  outliers no  outliers %    q20    q80\n",
       "sim   44.60  21.43            0         0.0  30.53  54.23\n",
       "real  34.22   8.77            0         0.0  30.77  40.92"
      ]
     },
     "metadata": {},
     "output_type": "display_data"
    },
    {
     "data": {
      "text/markdown": [
       " hour: **8**"
      ],
      "text/plain": [
       "<IPython.core.display.Markdown object>"
      ]
     },
     "metadata": {},
     "output_type": "display_data"
    },
    {
     "data": {
      "image/png": "[encoded data removed]",
      "text/plain": [
       "<Figure size 432x288 with 2 Axes>"
      ]
     },
     "metadata": {
      "needs_background": "light"
     },
     "output_type": "display_data"
    },
    {
     "data": {
      "text/markdown": [
       "$\\Delta \\mu = -14.85$ min [real - simulation]"
      ],
      "text/plain": [
       "<IPython.core.display.Markdown object>"
      ]
     },
     "metadata": {},
     "output_type": "display_data"
    },
    {
     "data": {
      "text/markdown": [
       "weighted $\\Delta \\mu = -0.16$ min [real - simulation]"
      ],
      "text/plain": [
       "<IPython.core.display.Markdown object>"
      ]
     },
     "metadata": {},
     "output_type": "display_data"
    },
    {
     "data": {
      "text/html": [
       "<div>\n",
       "<style scoped>\n",
       "    .dataframe tbody tr th:only-of-type {\n",
       "        vertical-align: middle;\n",
       "    }\n",
       "\n",
       "    .dataframe tbody tr th {\n",
       "        vertical-align: top;\n",
       "    }\n",
       "\n",
       "    .dataframe thead th {\n",
       "        text-align: right;\n",
       "    }\n",
       "</style>\n",
       "<table border=\"1\" class=\"dataframe\">\n",
       "  <thead>\n",
       "    <tr style=\"text-align: right;\">\n",
       "      <th></th>\n",
       "      <th>mean</th>\n",
       "      <th>std</th>\n",
       "      <th>outliers no</th>\n",
       "      <th>outliers %</th>\n",
       "      <th>q20</th>\n",
       "      <th>q80</th>\n",
       "    </tr>\n",
       "  </thead>\n",
       "  <tbody>\n",
       "    <tr>\n",
       "      <th>sim</th>\n",
       "      <td>58.68</td>\n",
       "      <td>12.04</td>\n",
       "      <td>0</td>\n",
       "      <td>0.0</td>\n",
       "      <td>51.45</td>\n",
       "      <td>65.90</td>\n",
       "    </tr>\n",
       "    <tr>\n",
       "      <th>real</th>\n",
       "      <td>43.82</td>\n",
       "      <td>9.95</td>\n",
       "      <td>0</td>\n",
       "      <td>0.0</td>\n",
       "      <td>36.44</td>\n",
       "      <td>51.04</td>\n",
       "    </tr>\n",
       "  </tbody>\n",
       "</table>\n",
       "</div>"
      ],
      "text/plain": [
       "       mean    std  outliers no  outliers %    q20    q80\n",
       "sim   58.68  12.04            0         0.0  51.45  65.90\n",
       "real  43.82   9.95            0         0.0  36.44  51.04"
      ]
     },
     "metadata": {},
     "output_type": "display_data"
    }
   ],
   "source": [
    "## by hour\n",
    "\n",
    "col = 'customer_delivery_time'\n",
    "def plot_distribution_for_each_hour(col):\n",
    "    # percentiles\n",
    "    q1 = 20\n",
    "    q2 = 80\n",
    "    th = 1.8\n",
    "    diff_dt = get_overall_distr_by_hour(col)\n",
    "    # sort dataframe by difference\n",
    "    res = diff_dt[[\"activation_time_hour\", \"diff\"]]\n",
    "    res.loc[:,\"abs_diff\"] = abs(res.loc[:,\"diff\"])\n",
    "    res = res.sort_values(by=\"abs_diff\", ascending=False)[:5]\n",
    "\n",
    "    # make the plot for each hour\n",
    "    for hour in res[\"activation_time_hour\"]:\n",
    "        diff = round(res.loc[res[\"activation_time_hour\"]==hour, \"diff\"].values[0],2)\n",
    "    \n",
    "        # filter by hour\n",
    "        sim_dt_per_hour = sim_dt.loc[sim_dt[\"activation_time_hour\"] == hour]\n",
    "        real_dt_per_hour = real_dt.loc[real_dt[\"activation_time_hour\"] == hour]\n",
    "\n",
    "        # save plots distribution\n",
    "        if (len(sim_dt_per_hour) > 0 and len(real_dt_per_hour) > 0):\n",
    "            printmd(rf\"\"\" hour: **{hour}**\"\"\")\n",
    "            \n",
    "\n",
    "            # compute ks test\n",
    "\n",
    "            # remove outliers\n",
    "            real_dt_per_hour_no_outl, real_dt_per_hour_outl = detect_outliers(real_dt_per_hour[col], th, q1, q2)\n",
    "            sim_dt_per_hour_no_outl, sim_dt_per_hour_outl = detect_outliers(sim_dt_per_hour[col], th, q1, q2)\n",
    "\n",
    "            # make plots\n",
    "            fig = plt.figure()\n",
    "\n",
    "            # density\n",
    "            plt.subplot(1,2,1)\n",
    "            hist = plt.hist(real_dt_per_hour_no_outl, bins=30, label='real', alpha=0.5, density=True)\n",
    "            hist1 = plt.hist(sim_dt_per_hour_no_outl, bins=30, color='r', label='simulation', alpha=0.5, density=True)\n",
    "            #  plt.xlim((min(min(real_dt_per_hour[metric]), min(sim_dt[met])), max(max(real_dt[met]), max(sim_dt[met]))))\n",
    "            plt.title(\"density\")\n",
    "            plt.xlabel(\"time [s]\")\n",
    "\n",
    "            # cdf\n",
    "            plt.subplot(1, 2, 2)\n",
    "            hist = plt.hist(real_dt_per_hour_no_outl, bins=30, label='real', alpha=0.5, density=True, cumulative=True, histtype='step')\n",
    "            hist1 = plt.hist(sim_dt_per_hour_no_outl, bins=30, color='r', label='simulation', alpha=0.5, density=True, histtype='step',\n",
    "                                                   cumulative=True)\n",
    "            plt.title(\"cdf\")\n",
    "            plt.xlabel(\"time [s]\")\n",
    "\n",
    "            plt.legend(loc='center left', bbox_to_anchor=(1, 0.5))\n",
    "         #   plt.suptitle(\"hour: %d, p-value = %.3f\" %(hour, pvals_df[pvals_df[\"hour\"]==hour][\"pvalue\"]))#\n",
    "            plt.show()\n",
    "\n",
    "            # print statistics\n",
    "\n",
    "            print_avg_diff(real_dt_per_hour_no_outl, sim_dt_per_hour_no_outl)\n",
    "            printmd(rf\"\"\"weighted $\\Delta \\mu = {diff}$ min [real - simulation]\"\"\")\n",
    "            row_sim = get_statistics(sim_dt_per_hour_no_outl, sim_dt_per_hour_outl, \"sim\", q1,q2)\n",
    "            real_sim = get_statistics(real_dt_per_hour_no_outl, real_dt_per_hour_outl, \"real\", q1,q2)\n",
    "            display(row_sim.append(real_sim))\n",
    "            \n",
    "plot_distribution_for_each_hour(col)"
   ]
  },
  {
   "cell_type": "code",
   "execution_count": null,
   "metadata": {},
   "outputs": [],
   "source": []
  }
 ],
 "metadata": {
  "celltoolbar": "Tags",
  "hide_input": false,
  "kernelspec": {
   "display_name": "Python 3",
   "language": "python",
   "name": "python3"
  },
  "language_info": {
   "codemirror_mode": {
    "name": "ipython",
    "version": 3
   },
   "file_extension": ".py",
   "mimetype": "text/x-python",
   "name": "python",
   "nbconvert_exporter": "python",
   "pygments_lexer": "ipython3",
   "version": "3.7.4"
  },
  "toc": {
   "base_numbering": 1,
   "nav_menu": {},
   "number_sections": true,
   "sideBar": true,
   "skip_h1_title": false,
   "title_cell": "Table of Contents",
   "title_sidebar": "Contents",
   "toc_cell": false,
   "toc_position": {
    "height": "calc(100% - 180px)",
    "left": "10px",
    "top": "150px",
    "width": "303px"
   },
   "toc_section_display": true,
   "toc_window_display": true
  }
 },
 "nbformat": 4,
 "nbformat_minor": 2
}
